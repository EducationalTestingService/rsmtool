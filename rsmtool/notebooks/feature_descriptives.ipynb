{
 "cells": [
  {
   "cell_type": "markdown",
   "metadata": {},
   "source": [
    "## Overall descriptive feature statistics"
   ]
  },
  {
   "cell_type": "markdown",
   "metadata": {},
   "source": [
    "These values are reported before transformations."
   ]
  },
  {
   "cell_type": "code",
   "execution_count": null,
   "metadata": {
    "collapsed": true
   },
   "outputs": [],
   "source": [
    "# feature descriptives table\n",
    "desc_file = join(output_dir, '{}_feature_descriptives.{}'.format(experiment_id, file_format))\n",
    "\n",
    "df_desc = DataReader.read_from_file(desc_file, index_col=0)\n",
    "HTML(df_desc.to_html(classes=['sortable'], float_format=float_format_func))"
   ]
  },
  {
   "cell_type": "markdown",
   "metadata": {},
   "source": [
    "### Prevalence of recoded cases\n",
    "\n",
    "This sections shows the number and percentage of cases truncated to mean +/- 4 SD for each feature."
   ]
  },
  {
   "cell_type": "code",
   "execution_count": null,
   "metadata": {
    "collapsed": true
   },
   "outputs": [],
   "source": [
    "outliers_file = join(output_dir, '{}_feature_outliers.{}'.format(experiment_id, file_format))\n",
    "df_outliers = DataReader.read_from_file(outliers_file, index_col=0)\n",
    "df_outliers.index.name = 'feature'\n",
    "df_outliers = df_outliers.reset_index()\n",
    "df_outliers = pd.melt(df_outliers, id_vars=['feature'])\n",
    "df_outliers = df_outliers[df_outliers.variable.str.contains(r'[ulb].*?perc')]\n",
    "\n",
    "\n",
    "# we need to increase the plot height if feature names are long\n",
    "if longest_feature_name > 10:\n",
    "    height = 3 + math.ceil((longest_feature_name - 10)/10)\n",
    "else:\n",
    "    height = 3\n",
    "    \n",
    "# we also need a higher aspect if we have more than 40 features\n",
    "# The aspect defines the final width of the plot (width=aspect*height).\n",
    "# We keep the width constant (9 for plots with many features or 6\n",
    "# for plots with few features) by dividing the expected width\n",
    "# by the height. \n",
    "aspect = 9/height if len(features_used) > 40 else 6/height\n",
    "\n",
    "\n",
    "# colors for the plot\n",
    "colors = sns.color_palette(\"Greys\", 3)\n",
    "\n",
    "# what's the largest value in the data frame\n",
    "maxperc = df_outliers['value'].max()\n",
    "\n",
    "# compute the limits for the graph\n",
    "limits = (0, max(2.5, maxperc))\n",
    "\n",
    "with sns.axes_style('whitegrid'):\n",
    "    # create a barplot without a legend since we will manually\n",
    "    # add one later\n",
    "    p = sns.catplot(x=\"feature\", y=\"value\", hue=\"variable\", kind=\"bar\", \n",
    "                    palette=colors, data=df_outliers, height=height, \n",
    "                    aspect=aspect, legend=False)\n",
    "    p.set_axis_labels('', '% cases truncated\\nto mean +/- 4*sd')\n",
    "    p.set_xticklabels(rotation=90)\n",
    "    p.set(ylim=limits)\n",
    "\n",
    "    # add a line at 2%\n",
    "    axis = p.axes[0][0]\n",
    "    axis.axhline(y=2.0, linestyle='--', linewidth=1.5, color='black')\n",
    "\n",
    "    # add a legend with the right colors\n",
    "    legend=axis.legend(('both', 'lower', 'upper'), title='', frameon=True, fancybox=True, ncol=3)\n",
    "    legend.legendHandles[0].set_color(colors[0])\n",
    "    legend.legendHandles[1].set_color(colors[1])\n",
    "\n",
    "    # we want to try to force `tight_layout()`, but if this \n",
    "    # raises a warning, we don't want the entire notebook to fail\n",
    "    with warnings.catch_warnings():\n",
    "        warnings.simplefilter('ignore')\n",
    "        plt.tight_layout(h_pad=1.0)\n",
    "\n",
    "    imgfile = join(figure_dir, '{}_outliers.svg'.format(experiment_id))\n",
    "    plt.savefig(imgfile)\n",
    "    if use_thumbnails:\n",
    "        show_thumbnail(imgfile, next(id_generator))\n",
    "    else:\n",
    "        plt.show()"
   ]
  },
  {
   "cell_type": "markdown",
   "metadata": {},
   "source": [
    "### Feature value distribution"
   ]
  },
  {
   "cell_type": "markdown",
   "metadata": {},
   "source": [
    "The following table shows additional statistics for the data. Quantiles are computed using type=3 method used in SAS. The mild outliers are defined as data points between [1.5, 3) \\* IQR away from the nearest quartile. Extreme outliers are the data points >= 3 * IQR away from the nearest quartile."
   ]
  },
  {
   "cell_type": "code",
   "execution_count": null,
   "metadata": {
    "collapsed": true
   },
   "outputs": [],
   "source": [
    "# feature descriptives extra table\n",
    "desce_file = join(output_dir, '{}_feature_descriptivesExtra.{}'.format(experiment_id,\n",
    "                                                                       file_format))\n",
    "df_desce = DataReader.read_from_file(desce_file, index_col=0)\n",
    "HTML(df_desce.to_html(classes=['sortable'], float_format=float_format_func))"
   ]
  }
 ],
 "metadata": {
  "kernelspec": {
   "display_name": "Python 3",
   "language": "python",
   "name": "python3"
  },
  "language_info": {
   "codemirror_mode": {
    "name": "ipython",
    "version": 3
   },
   "file_extension": ".py",
   "mimetype": "text/x-python",
   "name": "python",
   "nbconvert_exporter": "python",
   "pygments_lexer": "ipython3",
   "version": "3.6.7"
  }
 },
 "nbformat": 4,
 "nbformat_minor": 1
}
