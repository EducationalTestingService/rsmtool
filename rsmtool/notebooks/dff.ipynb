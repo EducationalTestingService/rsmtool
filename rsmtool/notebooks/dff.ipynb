{
 "cells": [
  {
   "cell_type": "markdown",
   "metadata": {},
   "source": [
    "## Differential Feature Functioning"
   ]
  },
  {
   "cell_type": "markdown",
   "metadata": {},
   "source": [
    "This section shows differential feature functioning (DFF) plots for all features and subgroups. "
   ]
  },
  {
   "cell_type": "code",
   "execution_count": null,
   "metadata": {
    "collapsed": false,
    "scrolled": false
   },
   "outputs": [],
   "source": [
    "# check if we already created the merged file in another notebook\n",
    "\n",
    "try:\n",
    "    df_train_merged\n",
    "except NameErrror:\n",
    "    df_train_merged = pd.merge(df_train, df_train_metadata, on = 'spkitemid')\n",
    "\n",
    "for group in subgroup_eval:\n",
    "    display(Markown(\"## DFF by {}\".format(subgroup)))\n",
    "    selected_columns = ['spkitemid', 'sc1'] + features_used + group\n",
    "    df_melted = pd.melt(df_train_merged[selected_columns], id_vars=['spkitemid', 'sc1', subgroup], var_name='feature')\n",
    "    colors = sns.color_palette(\"Greys\", 3)\n",
    "    group_values = sorted(df_melted[group].unique())\n",
    "    with sns.axes_style('whitegrid'), sns.plotting_context('notebook', font_scale=1.2):\n",
    "        p = sns.factorplot(x='score', y='value', hue=group, hue_order = group_values,\n",
    "                           col='feature', col_wrap=3, size=3, scale=0.8, palette=colors,\n",
    "                           sharey=False, sharex=False, legend=False, data=df_melted)\n",
    "\n",
    "        for i, axis in enumerate(p.axes):\n",
    "            axis.set_xlabel('score')\n",
    "            if i == 0:\n",
    "                legend = axis.legend(l1_values, title=group, frameon=True, fancybox=True, ncol=1, fontsize=10)\n",
    "                legend.legendHandles[0].set_color(colors[0])\n",
    "                legend.legendHandles[1].set_color(colors[1])\n",
    "                legend.legendHandles[2].set_color(colors[2])\n",
    "                plt.setp(legend.get_title(), fontsize='x-small')\n",
    "\n",
    "        plt.tight_layout(h_pad=1.0)\n",
    "        plt.show()"
   ]
  }
 ],
 "metadata": {
  "anaconda-cloud": {},
  "kernelspec": {
   "display_name": "Python 3",
   "language": "python",
   "name": "python3"
  },
  "language_info": {
   "codemirror_mode": {
    "name": "ipython",
    "version": 3
   },
   "file_extension": ".py",
   "mimetype": "text/x-python",
   "name": "python",
   "nbconvert_exporter": "python",
   "pygments_lexer": "ipython3",
   "version": "3.4.5"
  }
 },
 "nbformat": 4,
 "nbformat_minor": 0
}
