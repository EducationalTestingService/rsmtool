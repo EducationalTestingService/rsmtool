{
 "cells": [
  {
   "cell_type": "markdown",
   "metadata": {},
   "source": [
    "## Notes\n",
    "\n",
    "- \"(br)\" stands for \"bounded and rounded scores\" (equivalent to \"round_trim\" in the main report)\n",
    "- \"(b)\" stands for \"bounded scores\" (equivalent to \"trim\" in the main report)\n",
    "- The models evaluated here are trained on features values truncated to fall within 4 standard deviations of their training set mean (i.e., not on the raw features values).\n",
    "- All correlations (feature-score correlation matrices, marginal correlations with human scores, partial correlations and partial without length) are computed on truncated and standardized values.\n",
    "- The item-level results are based on rounded, trimmed scores from ordinal least squares regression models.\n",
    "- The feature statistics, box plots, etc. are based on the training set. Only the evaluations of the model use the test set.\n",
    "- In the boxplots for feature values, the red dotted line indicates the threshold for truncation (Mean +/- 4\\*SD).\n",
    "- Percentiles are computed using SAS definition (i.e., \"Type 3\" as described [here](http://stat.ethz.ch/R-manual/R-devel/library/stats/html/quantile.html). The mild outliers are defined as data points between [1.5, 3) \\* IQR away from the nearest quartile. Extreme outliers are the data points >= 3 \\* IQR away from the nearest quartile.\n",
    "- Principal component analyses use singular value decomposition and are computed after standardization and outlier truncation."
   ]
  }
 ],
 "metadata": {
  "anaconda-cloud": {},
  "hide_input": false,
  "kernelspec": {
   "display_name": "Python [default]",
   "language": "python",
   "name": "python3"
  },
  "language_info": {
   "codemirror_mode": {
    "name": "ipython",
    "version": 3
   },
   "file_extension": ".py",
   "mimetype": "text/x-python",
   "name": "python",
   "nbconvert_exporter": "python",
   "pygments_lexer": "ipython3",
   "version": "3.6.3"
  }
 },
 "nbformat": 4,
 "nbformat_minor": 0
}
