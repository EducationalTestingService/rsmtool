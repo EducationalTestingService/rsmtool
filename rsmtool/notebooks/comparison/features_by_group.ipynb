{
 "cells": [
  {
   "cell_type": "code",
   "execution_count": null,
   "metadata": {
    "collapsed": true
   },
   "outputs": [],
   "source": [
    "for group in groups_eval:\n",
    "    display(Markdown('### Feature Value Box Plots by {}'.format(group)))\n",
    "    markdown_str = \"All plots for the old model ({}) appears first followed by all the plots for the new model ({}).\".format(experiment_id_old, experiment_id_new)\n",
    "    display(Markdown(markdown_str))\n",
    "\n",
    "    # show the old feature boxplots by subgroup, if we were asked to and if they exist\n",
    "    display(Markdown('#### Boxplot for old model'))\n",
    "    if 'feature_boxplots_by_{}_svg'.format(group) in outputs_old:\n",
    "        display(SVG(base64.b64decode(outputs_old['feature_boxplots_by_{}_svg'.format(group)])))\n",
    "    elif 'feature_boxplots_by_{}_png'.format(group) in outputs_old:\n",
    "        display(Image(base64.b64decode(outputs_old['feature_boxplots_by_{}_png'.format(group)])))\n",
    "\n",
    "    display(Markdown('#### Boxplot for new model'))\n",
    "    if 'feature_boxplots_by_{}_svg'.format(group) in outputs_new:\n",
    "        display(SVG(base64.b64decode(outputs_new['feature_boxplots_by_{}_svg'.format(group)])))\n",
    "    elif 'feature_boxplots_by_{}_png'.format(group) in outputs_new:\n",
    "        display(Image(base64.b64decode(outputs_new['feature_boxplots_by_{}_png'.format(group)])))"
   ]
  }
 ],
 "metadata": {
  "kernelspec": {
   "display_name": "Python 3",
   "language": "python",
   "name": "python3"
  },
  "language_info": {
   "codemirror_mode": {
    "name": "ipython",
    "version": 3
   },
   "file_extension": ".py",
   "mimetype": "text/x-python",
   "name": "python",
   "nbconvert_exporter": "python",
   "pygments_lexer": "ipython3",
   "version": "3.4.4"
  }
 },
 "nbformat": 4,
 "nbformat_minor": 0
}
