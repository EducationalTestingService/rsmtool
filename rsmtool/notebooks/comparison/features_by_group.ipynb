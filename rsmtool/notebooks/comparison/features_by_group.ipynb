{
 "cells": [
  {
   "cell_type": "code",
   "execution_count": null,
   "metadata": {
    "collapsed": true
   },
   "outputs": [],
   "source": [
    "for group in groups_eval:\n",
    "    display(Markdown('### Feature Value Box Plots by {}'.format(group)))\n",
    "    markdown_str = \"All plots for the old model ({}) appears first followed by all the plots for the new model ({}).\".format(experiment_id_old, experiment_id_new)\n",
    "    display(Markdown(markdown_str))\n",
    "\n",
    "    # show the old feature boxplots by subgroup, if we were asked to and if they exist\n",
    "    display(Markdown('#### Boxplot for old model'))\n",
    "    if 'feature_boxplots_by_{}_svg'.format(group) in figures_old:\n",
    "        if use_thumbnails:\n",
    "            show_thumbnail(figures_old['feature_boxplots_by_{}_svg'.format(group)], next(id_generator))\n",
    "        else:\n",
    "            display(SVG(filename=figures_old['feature_boxplots_by_{}_svg'.format(group)]))\n",
    "    elif 'feature_boxplots_by_{}_png'.format(group) in figures_old:\n",
    "        if use_thumbnails:\n",
    "            show_thumbnail(figures_old['feature_boxplots_by_{}_png'.format(group)], next(id_generator))\n",
    "        else:\n",
    "            display(Image(filename=figures_old['feature_boxplots_by_{}_png'.format(group)]))\n",
    "    else:\n",
    "        display(Markdown(no_plot_old_str))\n",
    "\n",
    "    display(Markdown('#### Boxplot for new model'))\n",
    "    if 'feature_boxplots_by_{}_svg'.format(group) in figures_new:\n",
    "        if use_thumbnails:\n",
    "            show_thumbnail(figures_new['feature_boxplots_by_{}_svg'.format(group)], next(id_generator))\n",
    "        else:\n",
    "            display(SVG(filename=figures_new['feature_boxplots_by_{}_svg'.format(group)]))\n",
    "    elif 'feature_boxplots_by_{}_png'.format(group) in figures_new:\n",
    "        if use_thumbnails:\n",
    "            show_thumbnail(figures_new['feature_boxplots_by_{}_png'.format(group)], next(id_generator))\n",
    "        else:\n",
    "            display(Image(filename=figures_new['feature_boxplots_by_{}_png'.format(group)]))\n",
    "    else:\n",
    "        display(Markdown(no_plot_new_str))"
   ]
  }
 ],
 "metadata": {
  "anaconda-cloud": {},
  "kernelspec": {
   "display_name": "Python 3",
   "language": "python",
   "name": "python3"
  },
  "language_info": {
   "codemirror_mode": {
    "name": "ipython",
    "version": 3
   },
   "file_extension": ".py",
   "mimetype": "text/x-python",
   "name": "python",
   "nbconvert_exporter": "python",
   "pygments_lexer": "ipython3",
   "version": "3.6.3"
  }
 },
 "nbformat": 4,
 "nbformat_minor": 1
}
