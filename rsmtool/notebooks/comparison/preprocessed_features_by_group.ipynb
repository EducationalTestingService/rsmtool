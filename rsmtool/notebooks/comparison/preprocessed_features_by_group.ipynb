{
 "cells": [
  {
   "cell_type": "code",
   "execution_count": null,
   "metadata": {
    "collapsed": true
   },
   "outputs": [],
   "source": [
    "for group in groups_eval:\n",
    "    if not out_dfs['mcor_sc1_by_{}'.format(group)].empty:\n",
    "        markdown_str = '''### Human-feature marginal correlations by {}'''.format(group)\n",
    "        display(Markdown(markdown_str))\n",
    "        display(HTML(out_dfs['mcor_sc1_by_{}'.format(group)].to_html(index=True, classes=['alternate_colors3_groups'], float_format=float_format_func)))"
   ]
  },
  {
   "cell_type": "code",
   "execution_count": null,
   "metadata": {
    "collapsed": true
   },
   "outputs": [],
   "source": [
    "for group in groups_eval:\n",
    "    if not out_dfs['pcor_sc1_by_{}'.format(group)].empty:\n",
    "        markdown_str = '''### Human-feature partial correlations by {}'''.format(group)\n",
    "        display(Markdown(markdown_str))\n",
    "        display(HTML(out_dfs['pcor_sc1_by_{}'.format(group)].to_html(index=True, classes=['alternate_colors3_groups'], float_format=float_format_func)))"
   ]
  }
 ],
 "metadata": {
  "anaconda-cloud": {},
  "kernelspec": {
   "display_name": "Python 3",
   "language": "python",
   "name": "python3"
  },
  "language_info": {
   "codemirror_mode": {
    "name": "ipython",
    "version": 3
   },
   "file_extension": ".py",
   "mimetype": "text/x-python",
   "name": "python",
   "nbconvert_exporter": "python",
   "pygments_lexer": "ipython3",
   "version": "3.6.7"
  }
 },
 "nbformat": 4,
 "nbformat_minor": 1
}
