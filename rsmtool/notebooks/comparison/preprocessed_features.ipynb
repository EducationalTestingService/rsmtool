{
 "cells": [
  {
   "cell_type": "markdown",
   "metadata": {},
   "source": [
    "## Feature distributions and inter-feature correlations"
   ]
  },
  {
   "cell_type": "code",
   "execution_count": null,
   "metadata": {
    "collapsed": true
   },
   "outputs": [],
   "source": [
    "markdown_str = '''### Distributions of the standardized (if applicable), truncated feature values for the old model ({})'''.format(experiment_id_old)"
   ]
  },
  {
   "cell_type": "code",
   "execution_count": null,
   "metadata": {
    "collapsed": true
   },
   "outputs": [],
   "source": [
    "if 'feature_distplots' in figures_old: \n",
    "    display(Markdown(markdown_str))\n",
    "    if use_thumbnails:\n",
    "        show_thumbnail(figures_old['feature_distplots'], next(id_generator))\n",
    "    else:\n",
    "        display(SVG(filename=figures_old['feature_distplots']))\n",
    "else:\n",
    "    display(Markdown(no_plot_old_str))"
   ]
  },
  {
   "cell_type": "code",
   "execution_count": null,
   "metadata": {
    "collapsed": true
   },
   "outputs": [],
   "source": [
    "markdown_str = '''### Distributions of the standardized (if applicable), truncated feature values for the new model ({})'''.format(experiment_id_new)"
   ]
  },
  {
   "cell_type": "code",
   "execution_count": null,
   "metadata": {
    "collapsed": true
   },
   "outputs": [],
   "source": [
    "if 'feature_distplots' in figures_new: \n",
    "    display(Markdown(markdown_str))\n",
    "    if use_thumbnails:\n",
    "        show_thumbnail(figures_new['feature_distplots'], next(id_generator))\n",
    "    else:\n",
    "        display(SVG(filename=figures_new['feature_distplots']))\n",
    "else:\n",
    "    display(Markdown(no_plot_new_str))"
   ]
  },
  {
   "cell_type": "code",
   "execution_count": null,
   "metadata": {
    "collapsed": true
   },
   "outputs": [],
   "source": [
    "markdown_str = '''### Differences in inter-feature correlations between the old model ({}) and the new model ({})'''.format(experiment_id_old, experiment_id_new)\n"
   ]
  },
  {
   "cell_type": "code",
   "execution_count": null,
   "metadata": {
    "collapsed": true
   },
   "outputs": [],
   "source": [
    "if not out_dfs['feature_cors'].empty:\n",
    "    display(Markdown(markdown_str))\n",
    "    display(HTML(out_dfs['feature_cors'].to_html(index=True, classes=['alternate_colors3_groups'], float_format=float_format_func)))"
   ]
  },
  {
   "cell_type": "markdown",
   "metadata": {},
   "source": [
    "## Human-feature correlations"
   ]
  },
  {
   "cell_type": "markdown",
   "metadata": {},
   "source": [
    "### Overall human-feature marginal correlations"
   ]
  },
  {
   "cell_type": "code",
   "execution_count": null,
   "metadata": {
    "collapsed": true
   },
   "outputs": [],
   "source": [
    "if not out_dfs['mcor_sc1_overview'].empty:\n",
    "    display(HTML(out_dfs['mcor_sc1_overview'].to_html(index=True, classes=['alternate_colors3_groups'], float_format=float_format_func)))\n",
    "else:\n",
    "    display(Markdown(no_info_str))"
   ]
  },
  {
   "cell_type": "markdown",
   "metadata": {},
   "source": [
    "### Overall human-feature partial correlations"
   ]
  },
  {
   "cell_type": "code",
   "execution_count": null,
   "metadata": {
    "collapsed": true
   },
   "outputs": [],
   "source": [
    "if not out_dfs['pcor_sc1_overview'].empty:\n",
    "    display(HTML(out_dfs['pcor_sc1_overview'].to_html(index=True, classes=['alternate_colors3_groups'], float_format=float_format_func)))\n",
    "else:\n",
    "    display(Markdown(no_info_str))"
   ]
  }
 ],
 "metadata": {
  "anaconda-cloud": {},
  "kernelspec": {
   "display_name": "Python 3",
   "language": "python",
   "name": "python3"
  },
  "language_info": {
   "codemirror_mode": {
    "name": "ipython",
    "version": 3
   },
   "file_extension": ".py",
   "mimetype": "text/x-python",
   "name": "python",
   "nbconvert_exporter": "python",
   "pygments_lexer": "ipython3",
   "version": "3.6.7"
  }
 },
 "nbformat": 4,
 "nbformat_minor": 1
}
