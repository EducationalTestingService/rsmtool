{
 "cells": [
  {
   "cell_type": "markdown",
   "metadata": {},
   "source": [
    "## Data reduction analyses"
   ]
  },
  {
   "cell_type": "code",
   "execution_count": null,
   "metadata": {
    "collapsed": true
   },
   "outputs": [],
   "source": [
    "markdown_str = '''### Principal component analysis for the new model ({})'''.format(experiment_id_old)\n",
    "Markdown(markdown_str)"
   ]
  },
  {
   "cell_type": "code",
   "execution_count": null,
   "metadata": {
    "collapsed": true
   },
   "outputs": [],
   "source": [
    "if 'pca_scree_plot' in figures_new:\n",
    "    if use_thumbnails:\n",
    "        show_thumbnail(figures_new['pca_scree_plot'], next(id_generator))\n",
    "    else:\n",
    "        display(SVG(filename=figures_new['pca_scree_plot']))\n",
    "else:\n",
    "    display(Markdown(no_plot_new_str))"
   ]
  },
  {
   "cell_type": "code",
   "execution_count": null,
   "metadata": {
    "collapsed": true
   },
   "outputs": [],
   "source": [
    "if not outputs_new['df_pca'].empty:\n",
    "    display(HTML(outputs_new[\"df_pca\"].to_html(index=True, float_format=float_format_func)))\n",
    "    display(HTML(outputs_new[\"df_pcavar\"].to_html(index=True, float_format=float_format_func)))"
   ]
  },
  {
   "cell_type": "code",
   "execution_count": null,
   "metadata": {
    "collapsed": true
   },
   "outputs": [],
   "source": []
  }
 ],
 "metadata": {
  "anaconda-cloud": {},
  "kernelspec": {
   "display_name": "Python 3",
   "language": "python",
   "name": "python3"
  },
  "language_info": {
   "codemirror_mode": {
    "name": "ipython",
    "version": 3
   },
   "file_extension": ".py",
   "mimetype": "text/x-python",
   "name": "python",
   "nbconvert_exporter": "python",
   "pygments_lexer": "ipython3",
   "version": "3.6.7"
  }
 },
 "nbformat": 4,
 "nbformat_minor": 1
}
