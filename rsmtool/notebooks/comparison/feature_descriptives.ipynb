{
 "cells": [
  {
   "cell_type": "markdown",
   "metadata": {},
   "source": [
    "## Overall descriptive feature statistics"
   ]
  },
  {
   "cell_type": "code",
   "execution_count": null,
   "metadata": {
    "collapsed": true
   },
   "outputs": [],
   "source": [
    "if not out_dfs['descriptives'].empty:\n",
    "    display(HTML(out_dfs['descriptives'].to_html(index=True, classes=['alternate_colors3_groups'], float_format=float_format_func)))\n",
    "else:\n",
    "    display(Markdown(no_info_str))"
   ]
  },
  {
   "cell_type": "markdown",
   "metadata": {},
   "source": [
    "### Prevalence of recoded cases"
   ]
  },
  {
   "cell_type": "code",
   "execution_count": null,
   "metadata": {
    "collapsed": true
   },
   "outputs": [],
   "source": [
    "if not out_dfs['outliers'].empty:\n",
    "    display(HTML(out_dfs['outliers'].to_html(index=True, classes=['alternate_colors3_groups'], float_format=float_format_func)))\n",
    "else:\n",
    "    display(Markdown(no_info_str))"
   ]
  },
  {
   "cell_type": "markdown",
   "metadata": {},
   "source": [
    "### Feature value distribution"
   ]
  },
  {
   "cell_type": "code",
   "execution_count": null,
   "metadata": {
    "collapsed": true
   },
   "outputs": [],
   "source": [
    "if not out_dfs['percentiles'].empty:\n",
    "    display(HTML(out_dfs['percentiles'].to_html(index=True, classes=['alternate_colors3_groups'], float_format=float_format_func)))\n",
    "else:\n",
    "    display(Markdown(no_info_str))"
   ]
  },
  {
   "cell_type": "markdown",
   "metadata": {},
   "source": [
    "### Correlations between feature values between old and new model\n",
    "\n",
    "The table shows correlations between raw feature values and human scores in old and new model as well as the correlations between the feature values in both models. "
   ]
  },
  {
   "cell_type": "code",
   "execution_count": null,
   "metadata": {},
   "outputs": [],
   "source": [
    "missing_value_warnings = []\n",
    "if not (outputs_old['df_train_features'].empty or outputs_new['df_train_features'].empty):\n",
    "    ids_in_both_sets = list(set(outputs_old['df_train_features']['spkitemid']).intersection(outputs_new['df_train_features']['spkitemid']))\n",
    "    \n",
    "    if not len(ids_in_both_sets)== 0:\n",
    "        if not len(ids_in_both_sets) == len(outputs_old['df_train_features']):\n",
    "            missing_value_warnings.append(\"Some responses from the old data set were not present in the new data.\")\n",
    "        if not len(ids_in_both_sets) == len(outputs_new['df_train_features']):\n",
    "            missing_value_warnings.append(\"Some responses from the new data set were not present in the old data.\")\n",
    "    \n",
    "        # select matching data sets\n",
    "        df_selected_old = outputs_old['df_train_features'][outputs_old['df_train_features']['spkitemid'].isin(ids_in_both_sets)]\n",
    "        df_selected_new = outputs_new['df_train_features'][outputs_new['df_train_features']['spkitemid'].isin(ids_in_both_sets)]\n",
    "    \n",
    "        df_correlations = comparer.compute_correlations_between_versions(df_selected_old,\n",
    "                                                                         df_selected_new)\n",
    "        \n",
    "        if len(missing_value_warnings) > 0:\n",
    "            display(Markdown('*WARNING*: {} These responses were excluded from this analysis.'.format(' '.join(missing_value_warnings))))\n",
    "        display(HTML(df_correlations[['N', 'human_old', 'human_new', 'old_new']].to_html(index=True,\n",
    "                                                                                         classes=['sortable'],\n",
    "                                                                                         float_format=int_or_float_format_func)))\n",
    "\n",
    "    else:\n",
    "        display(Markdown(\"*WARNING: There were no matching response IDs in the training sets in old and new version*\"))\n",
    "else:\n",
    "    display(Markdown(no_info_str))"
   ]
  }
 ],
 "metadata": {
  "anaconda-cloud": {},
  "kernelspec": {
   "display_name": "Python 3",
   "language": "python",
   "name": "python3"
  },
  "language_info": {
   "codemirror_mode": {
    "name": "ipython",
    "version": 3
   },
   "file_extension": ".py",
   "mimetype": "text/x-python",
   "name": "python",
   "nbconvert_exporter": "python",
   "pygments_lexer": "ipython3",
   "version": "3.6.7"
  }
 },
 "nbformat": 4,
 "nbformat_minor": 1
}
