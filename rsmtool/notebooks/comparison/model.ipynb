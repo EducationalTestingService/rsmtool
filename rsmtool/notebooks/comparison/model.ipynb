{
 "cells": [
  {
   "cell_type": "markdown",
   "metadata": {},
   "source": [
    "## Feature Weights"
   ]
  },
  {
   "cell_type": "markdown",
   "metadata": {},
   "source": [
    "### Standardized & relative coefficients"
   ]
  },
  {
   "cell_type": "code",
   "execution_count": null,
   "metadata": {
    "collapsed": true
   },
   "outputs": [],
   "source": [
    "# display difference in coefficients if both models have this information\n",
    "if 'df_coef' in outputs_old and 'df_coef' in outputs_new:\n",
    "    df_coefs_diff = combine_old_new_results(outputs_old['df_coef'], outputs_new['df_coef'], 'coefs')\n",
    "    display(HTML(df_coefs_diff.to_html(index=True, classes=['alternate_colors3_groups'], float_format=float_format_func)))"
   ]
  },
  {
   "cell_type": "code",
   "execution_count": null,
   "metadata": {
    "collapsed": true
   },
   "outputs": [],
   "source": [
    "if 'betas' in outputs_old:\n",
    "    markdown_str = '''### Feature weight graphs for the old model ({})'''.format(experiment_id_old)\n",
    "    Markdown(markdown_str)\n",
    "    SVG(base64.b64decode(outputs_old['betas']))"
   ]
  },
  {
   "cell_type": "code",
   "execution_count": null,
   "metadata": {
    "collapsed": true
   },
   "outputs": [],
   "source": [
    "if 'betas' in outputs_new:\n",
    "    markdown_str = '''### Feature weight graphs for the new model ({})'''.format(experiment_id_new)\n",
    "    Markdown(markdown_str)\n",
    "    SVG(base64.b64decode(outputs_new['betas']))"
   ]
  },
  {
   "cell_type": "code",
   "execution_count": null,
   "metadata": {
    "collapsed": true
   },
   "outputs": [],
   "source": [
    "if 'df_model_fit' in outputs_old and 'df_model_fit' in outputs_new:\n",
    "    markdown_str = '''### Model fit for old and new model'''\n",
    "    display(markdown_str)\n",
    "    df_model_fit_diff = combine_old_new_results(outputs_old['df_model_fit'], outputs_new['df_model_fit'], 'model_fit')\n",
    "    display(HTML(df_model_fit_diff.to_html(index=TRUE, classes=['alternate_colors3_groups'], float_format=float_format_func)))\n"
   ]
  }
 ],
 "metadata": {
  "kernelspec": {
   "display_name": "Python 3",
   "language": "python",
   "name": "python3"
  },
  "language_info": {
   "codemirror_mode": {
    "name": "ipython",
    "version": 3
   },
   "file_extension": ".py",
   "mimetype": "text/x-python",
   "name": "python",
   "nbconvert_exporter": "python",
   "pygments_lexer": "ipython3",
   "version": "3.4.4"
  }
 },
 "nbformat": 4,
 "nbformat_minor": 0
}
