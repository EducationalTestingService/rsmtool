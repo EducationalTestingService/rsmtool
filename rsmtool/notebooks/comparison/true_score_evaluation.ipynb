{
 "cells": [
  {
   "cell_type": "markdown",
   "metadata": {},
   "source": [
    "## True score evaluations"
   ]
  },
  {
   "cell_type": "code",
   "execution_count": null,
   "metadata": {},
   "outputs": [],
   "source": [
    "if not out_dfs['true_score_evaluations'].empty:\n",
    "\n",
    "    markdown_strs = []\n",
    "    markdown_strs.append(\"The tables in this section show how well system scores can \"\n",
    "                        \"predict *true* scores. According to Test theory, a *true* score \"\n",
    "                        \"is a score that would have been obtained if there were no errors \"\n",
    "                        \"in measurement. While true scores cannot be observed, the variance \"\n",
    "                        \"of true scores and the prediction error can be estimated using observed \"\n",
    "                        \"human scores when multiple human ratings are available for a subset of \"\n",
    "                        \"responses. In this notebook these are estimated using human scores for \"\n",
    "                        \"responses in the evaluation set.\")\n",
    "    \n",
    "    \n",
    "    markdown_strs.append(\"The table shows variance of human rater errors, \"\n",
    "                         \"true score variance, mean squared error (MSE) and \"\n",
    "                         \"proportional reduction in mean squared error (PRMSE) for \"\n",
    "                         \"predicting a true score with system score.\")\n",
    "    display(Markdown('\\n'.join(markdown_strs)))\n",
    "    pd.options.display.width=10\n",
    "    prmse_columns = ['version', 'N','N raters', 'N single', 'N multiple', \n",
    "                     'Variance of errors', 'True score var',\n",
    "                     'MSE true', 'PRMSE true']\n",
    "    df_prmse = out_dfs['true_score_evaluations'][prmse_columns].copy()\n",
    "    df_prmse.replace({np.nan: '-'}, inplace=True)\n",
    "    display(HTML('<span style=\"font-size:95%\">'+ df_prmse.to_html(classes=['sortable'], \n",
    "                                                                  escape=False, index=False,\n",
    "                                                                  float_format=float_format_func) + '</span>'))\n",
    "else:\n",
    "    display(Markdown(no_info_str))"
   ]
  }
 ],
 "metadata": {
  "kernelspec": {
   "display_name": "Python 3",
   "language": "python",
   "name": "python3"
  },
  "language_info": {
   "codemirror_mode": {
    "name": "ipython",
    "version": 3
   },
   "file_extension": ".py",
   "mimetype": "text/x-python",
   "name": "python",
   "nbconvert_exporter": "python",
   "pygments_lexer": "ipython3",
   "version": "3.7.6"
  }
 },
 "nbformat": 4,
 "nbformat_minor": 2
}
