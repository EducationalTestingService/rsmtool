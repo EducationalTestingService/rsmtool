{
 "cells": [
  {
   "cell_type": "code",
   "execution_count": null,
   "metadata": {
    "collapsed": true
   },
   "outputs": [],
   "source": [
    "\n"
   ]
  },
  {
   "cell_type": "code",
   "execution_count": null,
   "metadata": {
    "collapsed": true
   },
   "outputs": [],
   "source": [
    "\n",
    "def create_degradation_df(df_degradation, df_eval, df_consistency):\n",
    "    df_eval_for_degradation = df_eval[df_degradation.columns].copy()\n",
    "    df_consistency_for_degradation = pd.concat([df_consistency]*len(df_eval))\n",
    "    df_consistency_for_degradation = df_consistency_for_degradation[\n",
    "        df_degradation.columns].copy()\n",
    "    df_consistency_for_degradation.index = df_eval_for_degradation.index\n",
    "\n",
    "    df_consistency_for_degradation['type'] = 'H-H'\n",
    "    df_eval_for_degradation['type'] = 'H-M'\n",
    "    df_degradation['type'] = 'diff'\n",
    "\n",
    "    df = pd.concat(\n",
    "        [df_consistency_for_degradation,\n",
    "         df_eval_for_degradation,\n",
    "         df_degradation])\n",
    "    return df\n",
    "\n",
    "\n",
    "df_consistency_old = outputs_old.get('df_consistency', None)\n",
    "df_degradation_old = outputs_old.get('df_degradation', None)\n",
    "\n",
    "df_consistency_new = outputs_new.get('df_consistency', None)\n",
    "df_degradation_new = outputs_new.get('df_degradation', None)\n",
    "\n",
    "if (df_consistency_old is not None and df_consistency_new is not None\n",
    "        and df_degradation_new is not None and df_degradation_old is not None):\n",
    "\n",
    "    markdown_strs = ['## Consistency']\n",
    "\n",
    "    # human human agreement\n",
    "    markdown_strs.append('### Human-human agreement')\n",
    "    display(Markdown('\\n'.join(markdown_strs)))\n",
    "    df_consistency_old['version'] = 'old'\n",
    "    df_consistency_new['version'] = 'new'\n",
    "    df = pd.DataFrame(df_consistency_old, copy=True)\n",
    "    df = df.append(df_consistency_new)\n",
    "    df.index.name = 'for'\n",
    "    df = df.reset_index().sort_values(by=['for', 'version'],\n",
    "                                      ascending=[True, False]).set_index(df.index.names)\n",
    "    df.index.name = None\n",
    "\n",
    "    # put version first\n",
    "    df = df[['version'] + [x for x in df.columns if x != 'version']]\n",
    "    display(HTML(df.to_html(index=False,\n",
    "                            escape=False,\n",
    "                            float_format=float_format_func,\n",
    "                            classes=['alternate_colors2'])))\n",
    "\n",
    "    # degradation\n",
    "    display(Markdown('### Degradation'))\n",
    "    df_eval_old = outputs_old['df_eval_for_degradation']\n",
    "    df_eval_new = outputs_new['df_eval_for_degradation']\n",
    "\n",
    "    # old\n",
    "    df_degradation_old = create_degradation_df(\n",
    "        df_degradation_old, df_eval_old, df_consistency_old)\n",
    "    df_degradation_old['version'] = 'old'\n",
    "\n",
    "    # new\n",
    "    df_degradation_new = create_degradation_df(\n",
    "        df_degradation_new, df_eval_new, df_consistency_new)\n",
    "    df_degradation_new['version'] = 'new'\n",
    "\n",
    "    df = pd.concat([df_degradation_old, df_degradation_new])\n",
    "    df = df[['type', 'version', 'corr', 'kappa',\n",
    "             'wtkappa', 'exact_agr', 'adj_agr', 'SMD']]\n",
    "\n",
    "    df.index.name = 'for'\n",
    "    df = df.reset_index().sort_values(by=['for', 'version', 'type'],\n",
    "                                      ascending=[True, False, True]).set_index(df.index.names)\n",
    "    df.index.name = None\n",
    "\n",
    "    # display the HTML for the table with the various formatters\n",
    "    display(HTML(df.to_html(float_format=float_format_func,\n",
    "                            classes=['alternate_colors3_groups'], escape=False)))\n"
   ]
  }
 ],
 "metadata": {
  "kernelspec": {
   "display_name": "Python 3",
   "language": "python",
   "name": "python3"
  },
  "language_info": {
   "codemirror_mode": {
    "name": "ipython",
    "version": 3
   },
   "file_extension": ".py",
   "mimetype": "text/x-python",
   "name": "python",
   "nbconvert_exporter": "python",
   "pygments_lexer": "ipython3",
   "version": "3.4.4"
  }
 },
 "nbformat": 4,
 "nbformat_minor": 0
}
