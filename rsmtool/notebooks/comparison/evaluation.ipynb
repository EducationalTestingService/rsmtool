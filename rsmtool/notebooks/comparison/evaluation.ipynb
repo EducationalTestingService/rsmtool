{
 "cells": [
  {
   "cell_type": "markdown",
   "metadata": {},
   "source": [
    "## Association statistics"
   ]
  },
  {
   "cell_type": "markdown",
   "metadata": {},
   "source": [
    "### Overall association statistics (human-machine)"
   ]
  },
  {
   "cell_type": "code",
   "execution_count": null,
   "metadata": {
    "collapsed": true
   },
   "outputs": [],
   "source": [
    "if not out_dfs['eval_overview'].empty:\n",
    "    display(HTML(out_dfs['eval_overview'].to_html(index=False, classes=['alternate_colors3_groups'], float_format=int_or_float_format_func)))\n",
    "else:\n",
    "    display(Markdown(no_info_str))"
   ]
  },
  {
   "cell_type": "code",
   "execution_count": null,
   "metadata": {
    "collapsed": true
   },
   "outputs": [],
   "source": [
    "for group in groups_eval:\n",
    "    if not out_dfs['eval_by_{}'.format(group)].empty:\n",
    "        markdown_str = '### Association statistics (human-machine) by {}'.format(group)\n",
    "        display(Markdown(markdown_str))\n",
    "        display(HTML(out_dfs['eval_by_{}'.format(group)].to_html(index=True, classes=['alternate_colors3_groups'], float_format=int_or_float_format_func)))"
   ]
  },
  {
   "cell_type": "code",
   "execution_count": null,
   "metadata": {
    "collapsed": true
   },
   "outputs": [],
   "source": [
    "for group in groups_eval:\n",
    "    if not out_dfs['eval_by_{}_m_sd'.format(group)].empty:\n",
    "        markdown_str = '### Descriptive holistic score statistics by {}'.format(group)\n",
    "        display(Markdown(markdown_str))\n",
    "        display(HTML(out_dfs['eval_by_{}_m_sd'.format(group)].to_html(index=True, classes=['alternate_colors3_groups'], float_format=int_or_float_format_func)))"
   ]
  },
  {
   "cell_type": "code",
   "execution_count": null,
   "metadata": {
    "collapsed": true
   },
   "outputs": [],
   "source": [
    "for group in groups_eval:\n",
    "    markdown_str = '### Plots of association statistics by {}'.format(group)\n",
    "    display(Markdown(markdown_str))\n",
    "    if 'eval_barplot_by_{}'.format(group) in figures_old:\n",
    "        display(Markdown('#### Old model ({})'.format(experiment_id_old)))\n",
    "        if use_thumbnails:\n",
    "            show_thumbnail(figures_old['eval_barplot_by_{}'.format(group)], next(id_generator))\n",
    "        else:\n",
    "            display(SVG(filename=figures_old['eval_barplot_by_{}'.format(group)]))\n",
    "    else:\n",
    "        display(Markdown(no_plot_old_str))\n",
    "    if 'eval_barplot_by_{}'.format(group) in figures_new:\n",
    "        display(Markdown('#### New model ({})'.format(experiment_id_new)))\n",
    "        if use_thumbnails:\n",
    "            show_thumbnail(figures_new['eval_barplot_by_{}'.format(group)], next(id_generator))\n",
    "        else:\n",
    "            display(SVG(filename=figures_new['eval_barplot_by_{}'.format(group)]))\n",
    "    else:\n",
    "        display(Markdown(no_plot_new_str))"
   ]
  }
 ],
 "metadata": {
  "anaconda-cloud": {},
  "kernelspec": {
   "display_name": "Python 3",
   "language": "python",
   "name": "python3"
  },
  "language_info": {
   "codemirror_mode": {
    "name": "ipython",
    "version": 3
   },
   "file_extension": ".py",
   "mimetype": "text/x-python",
   "name": "python",
   "nbconvert_exporter": "python",
   "pygments_lexer": "ipython3",
   "version": "3.7.6"
  }
 },
 "nbformat": 4,
 "nbformat_minor": 1
}
