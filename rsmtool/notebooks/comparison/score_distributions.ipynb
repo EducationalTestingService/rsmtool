{
 "cells": [
  {
   "cell_type": "markdown",
   "metadata": {},
   "source": [
    "##  Score distributions"
   ]
  },
  {
   "cell_type": "markdown",
   "metadata": {},
   "source": [
    "### Score distribution (percentage)"
   ]
  },
  {
   "cell_type": "code",
   "execution_count": null,
   "metadata": {
    "collapsed": true
   },
   "outputs": [],
   "source": [
    "if not out_dfs['score_dist'].empty:\n",
    "    display(HTML(out_dfs['score_dist'].to_html(index=True, classes=['alternate_colors3_groups'], float_format=float_format_func)))\n",
    "else:\n",
    "    (display(Markdown(no_info_str)))"
   ]
  },
  {
   "cell_type": "code",
   "execution_count": null,
   "metadata": {
    "collapsed": true
   },
   "outputs": [],
   "source": [
    "markdown_str = '''### Confusion matrix (human-machine) for old model ({})'''.format(experiment_id_old)\n"
   ]
  },
  {
   "cell_type": "code",
   "execution_count": null,
   "metadata": {
    "collapsed": true
   },
   "outputs": [],
   "source": [
    "if not outputs_old['df_confmatrix'].empty:\n",
    "    display(Markdown(markdown_str))\n",
    "    display(HTML(outputs_old['df_confmatrix'].to_html(index=True, classes=['alternate_colors2'], float_format=float_format_func)))"
   ]
  },
  {
   "cell_type": "code",
   "execution_count": null,
   "metadata": {
    "collapsed": true
   },
   "outputs": [],
   "source": [
    "markdown_str = '''### Confusion matrix (human-machine) for new model ({})'''.format(experiment_id_new)\n"
   ]
  },
  {
   "cell_type": "code",
   "execution_count": null,
   "metadata": {
    "collapsed": true
   },
   "outputs": [],
   "source": [
    "if not outputs_new['df_confmatrix'].empty:\n",
    "    display(Markdown(markdown_str))\n",
    "    display(HTML(outputs_new['df_confmatrix'].to_html(index=True, classes=['alternate_colors2'], float_format=float_format_func)))"
   ]
  },
  {
   "cell_type": "code",
   "execution_count": null,
   "metadata": {
    "collapsed": true
   },
   "outputs": [],
   "source": [
    "if not (outputs_new[\"df_confmatrix\"].empty or outputs_old[\"df_confmatrix\"].empty):\n",
    "    display(Markdown('### Confusion matrix (human-machine) (change)'))\n",
    "    df_change = outputs_new[\"df_confmatrix\"] - outputs_old[\"df_confmatrix\"]\n",
    "    display(HTML(df_change.to_html(index=True, classes=['alternate_colors2'])))"
   ]
  }
 ],
 "metadata": {
  "anaconda-cloud": {},
  "kernelspec": {
   "display_name": "Python 3",
   "language": "python",
   "name": "python3"
  },
  "language_info": {
   "codemirror_mode": {
    "name": "ipython",
    "version": 3
   },
   "file_extension": ".py",
   "mimetype": "text/x-python",
   "name": "python",
   "nbconvert_exporter": "python",
   "pygments_lexer": "ipython3",
   "version": "3.6.7"
  }
 },
 "nbformat": 4,
 "nbformat_minor": 1
}
