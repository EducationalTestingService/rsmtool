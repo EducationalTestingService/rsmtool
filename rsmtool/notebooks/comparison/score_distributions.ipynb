{
 "cells": [
  {
   "cell_type": "markdown",
   "metadata": {},
   "source": [
    "##  Score Distributions"
   ]
  },
  {
   "cell_type": "code",
   "execution_count": 2,
   "metadata": {
    "collapsed": false
   },
   "outputs": [],
   "source": [
    "old_consistency_file = join(output_dir_old, '{}_consistency.csv'.format(experiment_id_old))\n",
    "new_consistency_file = join(output_dir_new, '{}_consistency.csv'.format(experiment_id_new))\n",
    "\n",
    "if exists(old_consistency_file) and exists(new_consistency_file):\n",
    "    df_consistency_old = pd.read_csv(old_consistency_file, index_col=0)\n",
    "    df_consistency_new = pd.read_csv(new_consistency_file, index_col=0)\n",
    "    display(Markdown('### Human-human agreement'))\n",
    "    \n",
    "    df_consistency_old['version'] = 'old'\n",
    "    df_consistency_new['version'] = 'new'\n",
    "    \n",
    "    tmp_df = pd.DataFrame(df_consistency_old, copy=True)\n",
    "    tmp_df = tmp_df.append(df_consistency_new)\n",
    "    tmp_df.index.name = 'for'  \n",
    "    tmp_df = tmp_df.reset_index().sort_values(by=['for', 'version'], ascending=[True, False]).set_index(tmp_df.index.names)\n",
    "    tmp_df.index.name = None\n",
    "\n",
    "    # put version first\n",
    "    tmp_df = tmp_df[['version'] + [x for x in tmp_df.columns if x != 'version']]\n",
    "    display(HTML(tmp_df.to_html(index=False,\n",
    "                                        escape=False,\n",
    "                                        float_format=float_format_func,\n",
    "                                         classes=['alternate_colors2'])))\n",
    "    \n",
    "    "
   ]
  },
  {
   "cell_type": "markdown",
   "metadata": {},
   "source": [
    "### Score Distribution (Percentage)"
   ]
  },
  {
   "cell_type": "code",
   "execution_count": null,
   "metadata": {
    "collapsed": true
   },
   "outputs": [],
   "source": [
    "display(HTML(out_dfs['score_dist'].to_html(index=True, classes=['alternate_colors3_groups'], float_format=float_format_func)))"
   ]
  },
  {
   "cell_type": "code",
   "execution_count": null,
   "metadata": {
    "collapsed": true
   },
   "outputs": [],
   "source": [
    "markdown_str = '''### Confusion Matrix (Human-Machine) for old model ({})'''.format(experiment_id_old)\n",
    "Markdown(markdown_str)"
   ]
  },
  {
   "cell_type": "code",
   "execution_count": null,
   "metadata": {
    "collapsed": true
   },
   "outputs": [],
   "source": [
    "display(HTML(outputs_old['df_confmatrix'].to_html(index=True, classes=['alternate_colors2'], float_format=float_format_func)))"
   ]
  },
  {
   "cell_type": "code",
   "execution_count": null,
   "metadata": {
    "collapsed": true
   },
   "outputs": [],
   "source": [
    "markdown_str = '''### Confusion Matrix (Human-Machine) for new model ({})'''.format(experiment_id_new)\n",
    "Markdown(markdown_str)"
   ]
  },
  {
   "cell_type": "code",
   "execution_count": null,
   "metadata": {
    "collapsed": true
   },
   "outputs": [],
   "source": [
    "display(HTML(outputs_new['df_confmatrix'].to_html(index=True, classes=['alternate_colors2'], float_format=float_format_func)))"
   ]
  },
  {
   "cell_type": "markdown",
   "metadata": {},
   "source": [
    "### Confusion Matrix (Human-Machine) (change)"
   ]
  },
  {
   "cell_type": "code",
   "execution_count": null,
   "metadata": {
    "collapsed": true
   },
   "outputs": [],
   "source": [
    "df_change = outputs_new[\"df_confmatrix\"] - outputs_old[\"df_confmatrix\"]\n",
    "display(HTML(df_change.to_html(index=True, classes=['alternate_colors2'])))"
   ]
  }
 ],
 "metadata": {
  "kernelspec": {
   "display_name": "Python 3",
   "language": "python",
   "name": "python3"
  },
  "language_info": {
   "codemirror_mode": {
    "name": "ipython",
    "version": 3
   },
   "file_extension": ".py",
   "mimetype": "text/x-python",
   "name": "python",
   "nbconvert_exporter": "python",
   "pygments_lexer": "ipython3",
   "version": "3.4.4"
  }
 },
 "nbformat": 4,
 "nbformat_minor": 0
}
