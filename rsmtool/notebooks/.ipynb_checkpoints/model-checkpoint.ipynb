{
 "cells": [
  {
   "cell_type": "markdown",
   "metadata": {},
   "source": [
    "## Model"
   ]
  },
  {
   "cell_type": "code",
   "execution_count": null,
   "metadata": {
    "collapsed": true
   },
   "outputs": [],
   "source": [
    "Markdown('Model used: **{}**'.format(model_name))"
   ]
  },
  {
   "cell_type": "code",
   "execution_count": null,
   "metadata": {
    "collapsed": true
   },
   "outputs": [],
   "source": [
    "ets_ols_models = ['empWt',\n",
    "                  'empWtBalanced',\n",
    "                  'empWtDropNeg',\n",
    "                  'empWtStep',\n",
    "                  'empWtLasso',\n",
    "                  \"empWtNNLS\",\n",
    "                  'empWtDropNegLasso',\n",
    "                  'empWtLassoBest']\n",
    "\n",
    "ets_lasso_models = ['lassoWtLasso',\n",
    "                    'lassoWtLassoBest']"
   ]
  },
  {
   "cell_type": "code",
   "execution_count": null,
   "metadata": {
    "collapsed": true
   },
   "outputs": [],
   "source": [
    "if model_name in ets_ols_models:\n",
    "    display(HTML('<h3>Weights assigned to each feature</h3>'))"
   ]
  },
  {
   "cell_type": "code",
   "execution_count": null,
   "metadata": {
    "collapsed": true
   },
   "outputs": [],
   "source": [
    "# if we used an R OLS linear model, then we first just show a summary of that model\n",
    "if model_name in ets_ols_models:\n",
    "    summ = %R -i experiment_id,output_dir,model_name library(etsmodels); modelfile <- paste0(output_dir, \"/\", experiment_id, '_', model_name, \".Rmodel\"); load(modelfile); summ <- summary(fit)\n",
    "    print(summ)"
   ]
  },
  {
   "cell_type": "code",
   "execution_count": null,
   "metadata": {
    "collapsed": true
   },
   "outputs": [],
   "source": [
    "markdown_str = \"\"\"### Standardized and Relative Regression Coefficients (Betas)\n",
    "\n",
    "The relative coefficients are intended to show relative contribution of different feature and their primary purpose is to indentify whether one of the features has an unproportionate effect over the final score. They are computed as standardized/(sum of absolute values of standardized coefficients). \n",
    "\n",
    "**Note**: if the model contains negative coefficients, relative values will not sum up to one and their interpretation is generally questionable. \"\"\"\n",
    "\n",
    "if model_name in ets_ols_models + ets_lasso_models:\n",
    "    display(Markdown(markdown_str))"
   ]
  },
  {
   "cell_type": "code",
   "execution_count": null,
   "metadata": {
    "collapsed": true
   },
   "outputs": [],
   "source": [
    "markdown_str = \"\"\"\n",
    "**Note**: The coefficients were estimated using LASSO regression. Unlike OLS (standard) linear regression, lasso estimation is based on an optimization routine and therefore the exact estimates may differ across different systems. \"\"\"\n",
    "\n",
    "if model_name in ets_lasso_models:\n",
    "    display(Markdown(markdown_str))"
   ]
  },
  {
   "cell_type": "code",
   "execution_count": null,
   "metadata": {
    "collapsed": true
   },
   "outputs": [],
   "source": [
    "if model_name in ets_ols_models + ets_lasso_models:\n",
    "    df_weights = pd.read_csv(join(output_dir, '{}_coefficients.csv'.format(experiment_id)), index_col=0)\n",
    "    df_weights.drop('Intercept', inplace=True)\n",
    "    df_betas = df_weights.multiply(df_train_preproc[features_used].std(), axis='index') / df_train['sc1'].std()\n",
    "    df_betas.columns = ['standardized']\n",
    "    df_betas['relative'] = df_betas / sum(abs(df_betas['standardized']))\n",
    "    df_betas.reset_index(inplace=True)\n",
    "    df_betas.sort('feature', inplace=True)\n",
    "    display(HTML(df_betas.to_html(index=False, float_format=float_format_func)))"
   ]
  },
  {
   "cell_type": "code",
   "execution_count": null,
   "metadata": {
    "collapsed": true
   },
   "outputs": [],
   "source": [
    "if model_name in ets_ols_models + ets_lasso_models:\n",
    "    display(Markdown('Here are the same values, shown graphically.'))"
   ]
  },
  {
   "cell_type": "code",
   "execution_count": null,
   "metadata": {
    "collapsed": true
   },
   "outputs": [],
   "source": [
    "# this cell is if we have less than 15 features\n",
    "if model_name in ets_ols_models + ets_lasso_models and len(features_used) <= 15:\n",
    "    df_betas_sorted = df_betas.sort('standardized', ascending=False)\n",
    "    df_betas_sorted.reset_index(drop=True, inplace=True)\n",
    "    fig = plt.figure()\n",
    "    fig.set_size_inches(8, 2.5)\n",
    "    grey_colors = sns.color_palette('Greys', len(features_used))[::-1]\n",
    "    with sns.axes_style('whitegrid'):\n",
    "        ax1=fig.add_subplot(121)\n",
    "        sns.barplot(\"feature\",\"standardized\", data=df_betas_sorted, \n",
    "                    x_order=df_betas_sorted['feature'].values,\n",
    "                    palette=sns.color_palette(\"Greys\", 1), ax=ax1)\n",
    "        ax1.set_xticklabels(df_betas_sorted['feature'].values, rotation=90)\n",
    "        ax1.set_title('Values of standardized coefficients')\n",
    "        ax1.set_xlabel('')\n",
    "        ax1.set_ylabel('')\n",
    "        if len(features_used) < 15:\n",
    "            ax2=fig.add_subplot(133, aspect=True)\n",
    "            ax2.pie(abs(df_betas_sorted['relative'].values), colors=grey_colors, \n",
    "                labels=df_betas_sorted['feature'].values)\n",
    "            ax2.set_title('Proportional contribution of each feature')\n",
    "        else:\n",
    "            fig.set_size_inches(0.35*len(features_used), 2.5)\n",
    "    plt.savefig(join(figure_dir, '{}_betas.svg'.format(experiment_id)))"
   ]
  },
  {
   "cell_type": "code",
   "execution_count": null,
   "metadata": {
    "collapsed": true
   },
   "outputs": [],
   "source": [
    "# this cell is if we have more than 15 features (no pie chart)\n",
    "if model_name in ets_ols_models + ets_lasso_models and len(features_used) > 15:\n",
    "    df_betas_sorted = df_betas.sort('standardized', ascending=False)\n",
    "    df_betas_sorted.reset_index(drop=True, inplace=True)\n",
    "    fig = plt.figure()\n",
    "    fig.set_size_inches(8, 2.5)\n",
    "    grey_colors = sns.color_palette('Greys', len(features_used))[::-1]\n",
    "    with sns.axes_style('whitegrid'):\n",
    "        ax1=fig.add_subplot(121)\n",
    "        sns.barplot(\"feature\",\"standardized\", data=df_betas_sorted, \n",
    "                    x_order=df_betas_sorted['feature'].values,\n",
    "                    palette=sns.color_palette(\"Greys\", 1), ax=ax1)\n",
    "        ax1.set_xticklabels(df_betas_sorted['feature'].values, rotation=90)\n",
    "        ax1.set_title('Values of standardized coefficients')\n",
    "        ax1.set_ylabel('')\n",
    "        ax2=fig.add_subplot(133, aspect=True)\n",
    "        ax2.pie(abs(df_betas_sorted['relative'].values), colors=grey_colors, \n",
    "                labels=df_betas_sorted['feature'].values)\n",
    "        ax2.set_title('Proportional contribution of each feature')\n",
    "    plt.savefig(join(figure_dir, '{}_betas.svg'.format(experiment_id)))    "
   ]
  },
  {
   "cell_type": "code",
   "execution_count": null,
   "metadata": {
    "collapsed": true
   },
   "outputs": [],
   "source": [
    "if model_name in ets_ols_models:\n",
    "    display(Markdown('<h2>Model diagnostics</h2>'))\n",
    "    display(Markdown(\"These are standard plots for model diagnostics for the main model. All information is computed based on the training set.\"))"
   ]
  },
  {
   "cell_type": "code",
   "execution_count": null,
   "metadata": {
    "collapsed": true
   },
   "outputs": [],
   "source": [
    "if model_name in ets_ols_models:\n",
    "    modelfile = join(output_dir, '{}_{}.Rmodel'.format(experiment_id, model_name))\n",
    "    imgfile = join(figure_dir, '{}_{}_diagnostics.svg'.format(experiment_id, model_name))\n",
    "    %R -i modelfile,imgfile library(etsmodels); load(modelfile); svg(imgfile); par(mfrow=c(2, 2)); plot(fit); dev.off();\n",
    "    display(SVG(imgfile))"
   ]
  }
 ],
 "metadata": {
  "kernelspec": {
   "display_name": "Python 3",
   "language": "python",
   "name": "python3"
  },
  "language_info": {
   "codemirror_mode": {
    "name": "ipython",
    "version": 3
   },
   "file_extension": ".py",
   "mimetype": "text/x-python",
   "name": "python",
   "nbconvert_exporter": "python",
   "pygments_lexer": "ipython3",
   "version": "3.4.3"
  }
 },
 "nbformat": 4,
 "nbformat_minor": 0
}
