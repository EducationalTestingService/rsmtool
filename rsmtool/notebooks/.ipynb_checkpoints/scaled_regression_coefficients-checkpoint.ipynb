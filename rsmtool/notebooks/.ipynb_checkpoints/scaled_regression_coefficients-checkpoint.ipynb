{
 "cells": [
  {
   "cell_type": "markdown",
   "metadata": {},
   "source": [
    "### Scaled Regression Coefficients\n",
    "\n",
    "This table shows scaled regression coefficients that can be used to produce scaled scores. "
   ]
  },
  {
   "cell_type": "code",
   "execution_count": null,
   "metadata": {
    "collapsed": false
   },
   "outputs": [],
   "source": [
    "# we only produce scaled regression coefficients for R models\n",
    "if model_type != 'R':\n",
    "    display(Markdown(\"Section skipped because scaled regression coefficients are not available\"\n",
    "                     \" for SKLL models. See 'doc/classifiers.md' for a list of available\"\n",
    "                     \" models.\"))\n",
    "else:\n",
    "    df_scaled = pd.read_csv(join(output_dir, '{}_coefficients_scaled.csv'.format(experiment_id)))\n",
    "    df_scaled = df_scaled.rename(columns = {'coefficient': 'scaled coefficient'})\n",
    "    display(HTML(df_scaled.to_html(classes=['sortable'], index=False, float_format=float_format_func)))"
   ]
  }
 ],
 "metadata": {
  "kernelspec": {
   "display_name": "Python 3",
   "language": "python",
   "name": "python3"
  },
  "language_info": {
   "codemirror_mode": {
    "name": "ipython",
    "version": 3
   },
   "file_extension": ".py",
   "mimetype": "text/x-python",
   "name": "python",
   "nbconvert_exporter": "python",
   "pygments_lexer": "ipython3",
   "version": "3.4.3"
  }
 },
 "nbformat": 4,
 "nbformat_minor": 0
}
