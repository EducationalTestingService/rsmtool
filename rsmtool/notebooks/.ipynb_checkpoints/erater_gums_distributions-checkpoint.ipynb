{
 "cells": [
  {
   "cell_type": "code",
   "execution_count": null,
   "metadata": {
    "ExecuteTime": {
     "end_time": "2016-03-08T14:25:53.803811",
     "start_time": "2016-03-08T14:25:38.373039"
    },
    "collapsed": false,
    "scrolled": false
   },
   "outputs": [],
   "source": [
    "has_gums = False\n",
    "try:\n",
    "    gums_columns = [c for c in df_train_other_columns if re.match(r'^GUMS[0-9]+', c)]\n",
    "except NameError:\n",
    "    pass\n",
    "else:\n",
    "    has_gums = True\n",
    "    df_gums = df_train_other_columns[['spkitemid'] + gums_columns]\n",
    "    \n",
    "    # it is possible that some GUMS micro-features never fired\n",
    "    # and are all zero. If this is the case, then we have to turn\n",
    "    # off the density estimate curves otherwise we will run into\n",
    "    # a singular matrix error\n",
    "    some_gums_all_zero = np.any((df_gums == 0).all(axis=0))\n",
    "\n",
    "if has_gums:\n",
    "    markdown_strs = ['## GUMS micro-feature distributions']\n",
    "    markdown_strs.append(\"The following plot shows the distributions of the GUMS micro-feature \"\n",
    "                         \"values from the training set, for the responses remaining after filtering \"\n",
    "                         \"based on the model features and the human score.\")\n",
    "    display(Markdown('\\n'.join(markdown_strs)))\n",
    "    \n",
    "    # some of the gums micro-features can be blanks instead of zeros\n",
    "    # so we need to make sure we convert all the NaNs to 0 before\n",
    "    # we do the distribution plots\n",
    "    df_gums = df_gums.fillna(0)\n",
    "    df_gums_melted = pd.melt(df_gums, id_vars=['spkitemid'])\n",
    "    df_gums_melted = df_gums_melted[['variable', 'value']]\n",
    "    with sns.axes_style('white'):\n",
    "        g = sns.FacetGrid(col='variable', data=df_gums_melted, col_wrap=3, \n",
    "                          sharex=False, sharey=False, size=2, aspect=1)\n",
    "        # we turn off the density estimate computation if one or more GUMS\n",
    "        # micro-feature had all zeros\n",
    "        g.map(sns.distplot, \"value\", color=\"grey\", kde=not some_gums_all_zero)\n",
    "        for ax, cname in zip(g.axes, g.col_names):\n",
    "            labels = ax.get_xticks()\n",
    "            ax.set_xlabel('')\n",
    "            ax.set_xticklabels(labels,rotation=90)\n",
    "            ax.set_title(cname)\n",
    "        plt.tight_layout(h_pad=1.0)\n",
    "        plt.savefig(join(figure_dir, '{}_gums_distrib.svg'.format(experiment_id)))"
   ]
  }
 ],
 "metadata": {
  "hide_input": false,
  "kernelspec": {
   "display_name": "Python 3",
   "language": "python",
   "name": "python3"
  },
  "language_info": {
   "codemirror_mode": {
    "name": "ipython",
    "version": 3
   },
   "file_extension": ".py",
   "mimetype": "text/x-python",
   "name": "python",
   "nbconvert_exporter": "python",
   "pygments_lexer": "ipython3",
   "version": "3.4.4"
  }
 },
 "nbformat": 4,
 "nbformat_minor": 0
}
