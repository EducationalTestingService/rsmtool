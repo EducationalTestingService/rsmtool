{
 "cells": [
  {
   "cell_type": "markdown",
   "metadata": {},
   "source": [
    "### Missing feature values"
   ]
  },
  {
   "cell_type": "code",
   "execution_count": null,
   "metadata": {
    "collapsed": true
   },
   "outputs": [],
   "source": [
    "from rsmtool.utils import write_experiment_output"
   ]
  },
  {
   "cell_type": "code",
   "execution_count": null,
   "metadata": {
    "collapsed": false
   },
   "outputs": [],
   "source": [
    "def analyze_missing_feature(feature, df, count_numwds=False):\n",
    "    ''' \n",
    "    computes total number of missing features values as well as the distribution of numwds if available\n",
    "    '''\n",
    "    df_no_feature = df.ix[df[feature].isnull()]\n",
    "    if count_numwds:\n",
    "        df_n_words = df_no_feature.numwds.describe()\n",
    "    else:\n",
    "        df_n_words = pd.Series({'count':len(df_no_feature)})\n",
    "    return df_n_words\n"
   ]
  },
  {
   "cell_type": "code",
   "execution_count": null,
   "metadata": {
    "collapsed": false
   },
   "outputs": [],
   "source": [
    "display(Markdown(\"This section provides further information about features \"\n",
    "                 \"with missing ('Nan' or empty) values (training set only). All analyses only include the responses \"\n",
    "                 \"with numeric human scores ({} zero scores).\".format('excluding' if exclude_zero_scores else 'including')))\n",
    "\n",
    "# exclude the responses with non-numeric and if applicable zero human scores from the rejected responses\n",
    "\n",
    "excluded_responses_not_empty = True\n",
    "\n",
    "try:\n",
    "    df_excluded_numeric = df_train_excluded.ix[df_train_excluded.sc1.notnull()]\n",
    "except NameError:\n",
    "    excluded_responses_not_empty = False\n",
    "    display(Markdown(\"All responses had numeric feature values for all responses.\"))\n",
    "    \n",
    "if excluded_responses_not_empty:\n",
    "    if exclude_zero_scores:\n",
    "        df_excluded_numeric = df_excluded_numeric.ix[df_excluded_numeric.sc1 != 0]\n",
    "    \n",
    "    if len(df_excluded_numeric) == 0:\n",
    "        display(Markdown(\"All responses with non-numeric feature values also had non-numeric human scores.\"\n",
    "                         \"No further analysis can be provided\"))\n",
    "    else:\n",
    "\n",
    "        # Compute total number of responses with numeric human scores\n",
    "\n",
    "        total_numeric_human = len(df_excluded_numeric) + len(df_train_preproc)\n",
    "\n",
    "        # create a new data frame to store all the information\n",
    "        df_missing_feature = pd.DataFrame({'feature': features_used})\n",
    "\n",
    "        # get the statistics for all features\n",
    "        if 'numwds' in df_excluded_numeric.columns:\n",
    "            df_missing_feature[['count', 'mean_numwds', 'std_n_numwds', 'min_numwds', '25%_numwds', '50%_numwds', '75%_numwds', 'max_numwds']] = df_missing_feature.feature.apply(lambda x: analyze_missing_feature(x, df_excluded_numeric, count_numwds=True))\n",
    "        else:\n",
    "            df_missing_feature[['count']] = df_missing_feature.feature.apply(lambda x: analyze_missing_feature(x, df_excluded_numeric, count_numwds=False))\n",
    "\n",
    "        df_missing_feature['% total'] = df_missing_feature['count']/total_numeric_human*100\n",
    "        df_sorted = df_missing_feature.ix[df_missing_feature['count'] != 0].sort_values(by='% total', ascending=False)\n",
    "        display(HTML(df_sorted.to_html(index=False, \n",
    "                                       float_format=int_or_float_format_func, \n",
    "                                       classes=['sortable'])))\n",
    "        \n",
    "        write_experiment_output([df_missing_feature],\n",
    "                         ['train_missing_feature_values'],\n",
    "                         experiment_id,\n",
    "                         output_dir)\n",
    "                         \n"
   ]
  }
 ],
 "metadata": {
  "kernelspec": {
   "display_name": "Python 3",
   "language": "python",
   "name": "python3"
  },
  "language_info": {
   "codemirror_mode": {
    "name": "ipython",
    "version": 3
   },
   "file_extension": ".py",
   "mimetype": "text/x-python",
   "name": "python",
   "nbconvert_exporter": "python",
   "pygments_lexer": "ipython3",
   "version": "3.4.4"
  }
 },
 "nbformat": 4,
 "nbformat_minor": 0
}
