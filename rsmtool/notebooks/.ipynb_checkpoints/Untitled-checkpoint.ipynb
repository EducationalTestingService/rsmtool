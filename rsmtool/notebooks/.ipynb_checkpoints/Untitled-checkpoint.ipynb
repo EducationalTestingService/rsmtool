{
 "cells": [
  {
   "cell_type": "code",
   "execution_count": 3,
   "metadata": {
    "collapsed": true
   },
   "outputs": [],
   "source": [
    "import pandas as pd\n",
    "import seaborn as sns\n",
    "\n",
    "import matplotlib.pyplot as plt"
   ]
  },
  {
   "cell_type": "code",
   "execution_count": 4,
   "metadata": {
    "collapsed": true
   },
   "outputs": [],
   "source": [
    "df_train = pd.read_csv('/tmp/foobar/output/rGRE_ARGUMENT_train_features.csv')\n",
    "df_train_metadata = pd.read_csv('/tmp/foobar/output/rGRE_ARGUMENT_train_metadata.csv')\n",
    "df_train_merged = pd.merge(df_train, df_train_metadata, on = 'spkitemid')"
   ]
  },
  {
   "cell_type": "code",
   "execution_count": 5,
   "metadata": {
    "collapsed": false
   },
   "outputs": [
    {
     "data": {
      "text/html": [
       "<div>\n",
       "<table border=\"1\" class=\"dataframe\">\n",
       "  <thead>\n",
       "    <tr style=\"text-align: right;\">\n",
       "      <th></th>\n",
       "      <th>spkitemid</th>\n",
       "      <th>sc1</th>\n",
       "      <th>NSQG</th>\n",
       "      <th>NSQU</th>\n",
       "      <th>NSQM</th>\n",
       "      <th>NSQSTYLE</th>\n",
       "      <th>LOGDTU</th>\n",
       "      <th>LOGDTA</th>\n",
       "      <th>WORDLN_2</th>\n",
       "      <th>NWF_MEDIAN</th>\n",
       "      <th>COLPREP</th>\n",
       "      <th>SVF</th>\n",
       "      <th>foobar</th>\n",
       "      <th>prompt</th>\n",
       "      <th>nativeLanguage</th>\n",
       "      <th>gender</th>\n",
       "    </tr>\n",
       "  </thead>\n",
       "  <tbody>\n",
       "    <tr>\n",
       "      <th>0</th>\n",
       "      <td>0000000065619924-VC093532</td>\n",
       "      <td>4</td>\n",
       "      <td>-0.074329</td>\n",
       "      <td>-0.052559</td>\n",
       "      <td>-0.174318</td>\n",
       "      <td>-0.182069</td>\n",
       "      <td>1.945910</td>\n",
       "      <td>3.945734</td>\n",
       "      <td>4.955801</td>\n",
       "      <td>-55.888320</td>\n",
       "      <td>0.658604</td>\n",
       "      <td>3.921451</td>\n",
       "      <td>4189</td>\n",
       "      <td>VC093532</td>\n",
       "      <td>Klingon</td>\n",
       "      <td>No info</td>\n",
       "    </tr>\n",
       "    <tr>\n",
       "      <th>1</th>\n",
       "      <td>0000000065674129-VC093532</td>\n",
       "      <td>5</td>\n",
       "      <td>-0.053262</td>\n",
       "      <td>-0.075324</td>\n",
       "      <td>-0.099645</td>\n",
       "      <td>-0.053262</td>\n",
       "      <td>2.197225</td>\n",
       "      <td>4.360973</td>\n",
       "      <td>4.883688</td>\n",
       "      <td>-59.784574</td>\n",
       "      <td>0.596102</td>\n",
       "      <td>4.488041</td>\n",
       "      <td>1068</td>\n",
       "      <td>VC093532</td>\n",
       "      <td>Arabic</td>\n",
       "      <td>m</td>\n",
       "    </tr>\n",
       "    <tr>\n",
       "      <th>2</th>\n",
       "      <td>0000000065872401-VC093532</td>\n",
       "      <td>4</td>\n",
       "      <td>-0.049266</td>\n",
       "      <td>-0.110163</td>\n",
       "      <td>-0.085332</td>\n",
       "      <td>-0.283014</td>\n",
       "      <td>1.945910</td>\n",
       "      <td>4.075113</td>\n",
       "      <td>4.912621</td>\n",
       "      <td>-55.767822</td>\n",
       "      <td>0.713648</td>\n",
       "      <td>3.751096</td>\n",
       "      <td>1833</td>\n",
       "      <td>VC093532</td>\n",
       "      <td>Arabic</td>\n",
       "      <td>f</td>\n",
       "    </tr>\n",
       "    <tr>\n",
       "      <th>3</th>\n",
       "      <td>0000000066140007-VC093532</td>\n",
       "      <td>4</td>\n",
       "      <td>-0.085126</td>\n",
       "      <td>-0.098295</td>\n",
       "      <td>-0.139010</td>\n",
       "      <td>-0.049147</td>\n",
       "      <td>2.079442</td>\n",
       "      <td>3.946424</td>\n",
       "      <td>4.739130</td>\n",
       "      <td>-56.814888</td>\n",
       "      <td>0.557870</td>\n",
       "      <td>4.029384</td>\n",
       "      <td>2916</td>\n",
       "      <td>VC093532</td>\n",
       "      <td>German</td>\n",
       "      <td>m</td>\n",
       "    </tr>\n",
       "    <tr>\n",
       "      <th>4</th>\n",
       "      <td>0000000066152227-VC093532</td>\n",
       "      <td>2</td>\n",
       "      <td>-0.115857</td>\n",
       "      <td>-0.115857</td>\n",
       "      <td>-0.183186</td>\n",
       "      <td>-0.295378</td>\n",
       "      <td>0.693147</td>\n",
       "      <td>4.310799</td>\n",
       "      <td>4.664430</td>\n",
       "      <td>-60.786440</td>\n",
       "      <td>0.594798</td>\n",
       "      <td>3.659812</td>\n",
       "      <td>1104</td>\n",
       "      <td>VC093532</td>\n",
       "      <td>Klingon</td>\n",
       "      <td>No info</td>\n",
       "    </tr>\n",
       "  </tbody>\n",
       "</table>\n",
       "</div>"
      ],
      "text/plain": [
       "                   spkitemid  sc1      NSQG      NSQU      NSQM  NSQSTYLE  \\\n",
       "0  0000000065619924-VC093532    4 -0.074329 -0.052559 -0.174318 -0.182069   \n",
       "1  0000000065674129-VC093532    5 -0.053262 -0.075324 -0.099645 -0.053262   \n",
       "2  0000000065872401-VC093532    4 -0.049266 -0.110163 -0.085332 -0.283014   \n",
       "3  0000000066140007-VC093532    4 -0.085126 -0.098295 -0.139010 -0.049147   \n",
       "4  0000000066152227-VC093532    2 -0.115857 -0.115857 -0.183186 -0.295378   \n",
       "\n",
       "     LOGDTU    LOGDTA  WORDLN_2  NWF_MEDIAN   COLPREP       SVF  foobar  \\\n",
       "0  1.945910  3.945734  4.955801  -55.888320  0.658604  3.921451    4189   \n",
       "1  2.197225  4.360973  4.883688  -59.784574  0.596102  4.488041    1068   \n",
       "2  1.945910  4.075113  4.912621  -55.767822  0.713648  3.751096    1833   \n",
       "3  2.079442  3.946424  4.739130  -56.814888  0.557870  4.029384    2916   \n",
       "4  0.693147  4.310799  4.664430  -60.786440  0.594798  3.659812    1104   \n",
       "\n",
       "     prompt nativeLanguage   gender  \n",
       "0  VC093532        Klingon  No info  \n",
       "1  VC093532         Arabic        m  \n",
       "2  VC093532         Arabic        f  \n",
       "3  VC093532         German        m  \n",
       "4  VC093532        Klingon  No info  "
      ]
     },
     "execution_count": 5,
     "metadata": {},
     "output_type": "execute_result"
    }
   ],
   "source": [
    "df_train_merged.head()"
   ]
  },
  {
   "cell_type": "code",
   "execution_count": 6,
   "metadata": {
    "collapsed": false
   },
   "outputs": [],
   "source": [
    "df_features = pd.read_csv('/tmp/foobar/output/rGRE_ARGUMENT_feature.csv', converters={'spkitemid': str})\n",
    "features_used = [c for c in df_features.feature.values]\n",
    "groups_desc = ['prompt']\n",
    "df_train_feats = df_train_merged[features_used + ['prompt']]\n",
    "df_train_feats_all = df_train_merged.copy()\n",
    "df_train_feats_all['prompt'] = 'All data'\n",
    "df_train_combined = pd.concat([df_train_feats, df_train_feats_all])\n",
    "df_train_combined.reset_index(drop=True, inplace=True)"
   ]
  },
  {
   "cell_type": "code",
   "execution_count": 7,
   "metadata": {
    "collapsed": false
   },
   "outputs": [
    {
     "data": {
      "text/html": [
       "<div>\n",
       "<table border=\"1\" class=\"dataframe\">\n",
       "  <thead>\n",
       "    <tr style=\"text-align: right;\">\n",
       "      <th></th>\n",
       "      <th>COLPREP</th>\n",
       "      <th>LOGDTA</th>\n",
       "      <th>LOGDTU</th>\n",
       "      <th>NSQG</th>\n",
       "      <th>NSQM</th>\n",
       "      <th>NSQSTYLE</th>\n",
       "      <th>NSQU</th>\n",
       "      <th>NWF_MEDIAN</th>\n",
       "      <th>SVF</th>\n",
       "      <th>WORDLN_2</th>\n",
       "      <th>foobar</th>\n",
       "      <th>gender</th>\n",
       "      <th>nativeLanguage</th>\n",
       "      <th>prompt</th>\n",
       "      <th>sc1</th>\n",
       "      <th>spkitemid</th>\n",
       "    </tr>\n",
       "  </thead>\n",
       "  <tbody>\n",
       "    <tr>\n",
       "      <th>0</th>\n",
       "      <td>0.658604</td>\n",
       "      <td>3.945734</td>\n",
       "      <td>1.945910</td>\n",
       "      <td>-0.074329</td>\n",
       "      <td>-0.174318</td>\n",
       "      <td>-0.182069</td>\n",
       "      <td>-0.052559</td>\n",
       "      <td>-55.888320</td>\n",
       "      <td>3.921451</td>\n",
       "      <td>4.955801</td>\n",
       "      <td>4189</td>\n",
       "      <td>NaN</td>\n",
       "      <td>NaN</td>\n",
       "      <td>VC093532</td>\n",
       "      <td>NaN</td>\n",
       "      <td>NaN</td>\n",
       "    </tr>\n",
       "    <tr>\n",
       "      <th>1</th>\n",
       "      <td>0.596102</td>\n",
       "      <td>4.360973</td>\n",
       "      <td>2.197225</td>\n",
       "      <td>-0.053262</td>\n",
       "      <td>-0.099645</td>\n",
       "      <td>-0.053262</td>\n",
       "      <td>-0.075324</td>\n",
       "      <td>-59.784574</td>\n",
       "      <td>4.488041</td>\n",
       "      <td>4.883688</td>\n",
       "      <td>1068</td>\n",
       "      <td>NaN</td>\n",
       "      <td>NaN</td>\n",
       "      <td>VC093532</td>\n",
       "      <td>NaN</td>\n",
       "      <td>NaN</td>\n",
       "    </tr>\n",
       "    <tr>\n",
       "      <th>2</th>\n",
       "      <td>0.713648</td>\n",
       "      <td>4.075113</td>\n",
       "      <td>1.945910</td>\n",
       "      <td>-0.049266</td>\n",
       "      <td>-0.085332</td>\n",
       "      <td>-0.283014</td>\n",
       "      <td>-0.110163</td>\n",
       "      <td>-55.767822</td>\n",
       "      <td>3.751096</td>\n",
       "      <td>4.912621</td>\n",
       "      <td>1833</td>\n",
       "      <td>NaN</td>\n",
       "      <td>NaN</td>\n",
       "      <td>VC093532</td>\n",
       "      <td>NaN</td>\n",
       "      <td>NaN</td>\n",
       "    </tr>\n",
       "    <tr>\n",
       "      <th>3</th>\n",
       "      <td>0.557870</td>\n",
       "      <td>3.946424</td>\n",
       "      <td>2.079442</td>\n",
       "      <td>-0.085126</td>\n",
       "      <td>-0.139010</td>\n",
       "      <td>-0.049147</td>\n",
       "      <td>-0.098295</td>\n",
       "      <td>-56.814888</td>\n",
       "      <td>4.029384</td>\n",
       "      <td>4.739130</td>\n",
       "      <td>2916</td>\n",
       "      <td>NaN</td>\n",
       "      <td>NaN</td>\n",
       "      <td>VC093532</td>\n",
       "      <td>NaN</td>\n",
       "      <td>NaN</td>\n",
       "    </tr>\n",
       "    <tr>\n",
       "      <th>4</th>\n",
       "      <td>0.594798</td>\n",
       "      <td>4.310799</td>\n",
       "      <td>0.693147</td>\n",
       "      <td>-0.115857</td>\n",
       "      <td>-0.183186</td>\n",
       "      <td>-0.295378</td>\n",
       "      <td>-0.115857</td>\n",
       "      <td>-60.786440</td>\n",
       "      <td>3.659812</td>\n",
       "      <td>4.664430</td>\n",
       "      <td>1104</td>\n",
       "      <td>NaN</td>\n",
       "      <td>NaN</td>\n",
       "      <td>VC093532</td>\n",
       "      <td>NaN</td>\n",
       "      <td>NaN</td>\n",
       "    </tr>\n",
       "  </tbody>\n",
       "</table>\n",
       "</div>"
      ],
      "text/plain": [
       "    COLPREP    LOGDTA    LOGDTU      NSQG      NSQM  NSQSTYLE      NSQU  \\\n",
       "0  0.658604  3.945734  1.945910 -0.074329 -0.174318 -0.182069 -0.052559   \n",
       "1  0.596102  4.360973  2.197225 -0.053262 -0.099645 -0.053262 -0.075324   \n",
       "2  0.713648  4.075113  1.945910 -0.049266 -0.085332 -0.283014 -0.110163   \n",
       "3  0.557870  3.946424  2.079442 -0.085126 -0.139010 -0.049147 -0.098295   \n",
       "4  0.594798  4.310799  0.693147 -0.115857 -0.183186 -0.295378 -0.115857   \n",
       "\n",
       "   NWF_MEDIAN       SVF  WORDLN_2  foobar gender nativeLanguage    prompt  \\\n",
       "0  -55.888320  3.921451  4.955801    4189    NaN            NaN  VC093532   \n",
       "1  -59.784574  4.488041  4.883688    1068    NaN            NaN  VC093532   \n",
       "2  -55.767822  3.751096  4.912621    1833    NaN            NaN  VC093532   \n",
       "3  -56.814888  4.029384  4.739130    2916    NaN            NaN  VC093532   \n",
       "4  -60.786440  3.659812  4.664430    1104    NaN            NaN  VC093532   \n",
       "\n",
       "   sc1 spkitemid  \n",
       "0  NaN       NaN  \n",
       "1  NaN       NaN  \n",
       "2  NaN       NaN  \n",
       "3  NaN       NaN  \n",
       "4  NaN       NaN  "
      ]
     },
     "execution_count": 7,
     "metadata": {},
     "output_type": "execute_result"
    }
   ],
   "source": [
    "df_train_combined.head()"
   ]
  },
  {
   "cell_type": "code",
   "execution_count": 8,
   "metadata": {
    "collapsed": false
   },
   "outputs": [
    {
     "data": {
      "text/plain": [
       "['VC093532',\n",
       " 'VC248488',\n",
       " 'VC084849',\n",
       " 'VC069396',\n",
       " 'VE096305',\n",
       " 'VC209485',\n",
       " 'VC250595',\n",
       " 'VC101540',\n",
       " 'VC048408',\n",
       " 'VC084853']"
      ]
     },
     "execution_count": 8,
     "metadata": {},
     "output_type": "execute_result"
    }
   ],
   "source": [
    "group_levels = list(df_train_feats['prompt'].unique())\n",
    "group_levels"
   ]
  },
  {
   "cell_type": "code",
   "execution_count": 9,
   "metadata": {
    "collapsed": true
   },
   "outputs": [],
   "source": [
    "box_names = ['All data'] + group_levels"
   ]
  },
  {
   "cell_type": "code",
   "execution_count": 13,
   "metadata": {
    "collapsed": false
   },
   "outputs": [
    {
     "data": {
      "text/plain": [
       "<matplotlib.axes._subplots.AxesSubplot at 0x10ba95438>"
      ]
     },
     "execution_count": 13,
     "metadata": {},
     "output_type": "execute_result"
    }
   ],
   "source": [
    "# fig = plt.figure()\n",
    "# for i, varname in enumerate(sorted(features_used)):\n",
    "#     df_plot = df_train_combined[['prompt', varname]]\n",
    "#     ax = fig.add_subplot(len(features_used), 1, i + 1)\n",
    "#     sns.boxplot(x=df_plot[varname], y=df_plot['prompt'], color='grey', orient='v', ax=ax, order=box_names)\n",
    "# df_plot\n",
    "df_plot = df_train_combined[['prompt', 'COLPREP']]\n",
    "sns.boxplot(data=df_plot)\n",
    "plt.show()"
   ]
  }
 ],
 "metadata": {
  "kernelspec": {
   "display_name": "Python 3",
   "language": "python",
   "name": "python3"
  },
  "language_info": {
   "codemirror_mode": {
    "name": "ipython",
    "version": 3
   },
   "file_extension": ".py",
   "mimetype": "text/x-python",
   "name": "python",
   "nbconvert_exporter": "python",
   "pygments_lexer": "ipython3",
   "version": "3.4.3"
  }
 },
 "nbformat": 4,
 "nbformat_minor": 0
}
