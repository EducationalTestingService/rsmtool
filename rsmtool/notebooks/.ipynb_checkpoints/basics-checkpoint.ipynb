{
 "cells": [
  {
   "cell_type": "code",
   "execution_count": null,
   "metadata": {
    "collapsed": true
   },
   "outputs": [],
   "source": [
    "# Setting options for the plots\n",
    "%matplotlib inline\n",
    "%config InlineBackend.figure_formats={'retina', 'svg'}\n",
    "%config InlineBackend.rc={'savefig.dpi': 150}\n",
    "%load_ext rpy2.ipython"
   ]
  },
  {
   "cell_type": "markdown",
   "metadata": {},
   "source": [
    "# Experiment Report"
   ]
  },
  {
   "cell_type": "markdown",
   "metadata": {},
   "source": [
    "<style>\n",
    "    div.prompt.output_prompt { color: white; }\n",
    "</style>"
   ]
  },
  {
   "cell_type": "code",
   "execution_count": null,
   "metadata": {
    "collapsed": true
   },
   "outputs": [],
   "source": [
    "%%html\n",
    "<div id=\"toc\"></div>"
   ]
  },
  {
   "cell_type": "code",
   "execution_count": null,
   "metadata": {
    "collapsed": true
   },
   "outputs": [],
   "source": [
    "import os\n",
    "import operator\n",
    "\n",
    "from os.path import abspath, exists, join\n",
    "\n",
    "import numpy as np\n",
    "import pandas as pd\n",
    "import seaborn as sns\n",
    "from matplotlib import pyplot as plt\n",
    "\n",
    "from IPython import sys_info\n",
    "from IPython.display import display, HTML, Image, Markdown, SVG\n",
    "\n",
    "experiment_id = os.environ.get('EXPERIMENT_ID')\n",
    "description = os.environ.get('DESCRIPTION')\n",
    "train_file_location = os.environ.get('TRAIN_FILE_LOCATION')\n",
    "test_file_location = os.environ.get('TEST_FILE_LOCATION')\n",
    "output_dir = os.environ.get('OUTPUT_DIR')\n",
    "figure_dir = os.environ.get('FIGURE_DIR')\n",
    "model_name = os.environ.get('MODEL_NAME')\n",
    "scaled = os.environ.get('SCALED')\n",
    "use_scaled_predictions = scaled == '1'"
   ]
  },
  {
   "cell_type": "code",
   "execution_count": null,
   "metadata": {
    "collapsed": true
   },
   "outputs": [],
   "source": [
    "# Read in the training and testing features, both raw and pre-processed\n",
    "df_train_orig = pd.read_csv(train_file_location)\n",
    "df_train = pd.read_csv(join(output_dir, '{}_train.csv'.format(experiment_id)))\n",
    "df_train_preproc = pd.read_csv(join(output_dir, '{}_train_preprocessed.csv'.format(experiment_id)))\n",
    "df_test_orig = pd.read_csv(test_file_location)\n",
    "df_test = pd.read_csv(join(output_dir, '{}_test.csv'.format(experiment_id)))\n",
    "df_test_preproc = pd.read_csv(join(output_dir, '{}_test_preprocessed.csv'.format(experiment_id)))\n",
    "df_features = pd.read_csv(join(output_dir, '{}_feature.csv'.format(experiment_id)))\n",
    "features_used = [c for c in df_features.feature.values if c not in ['spkitemid', 'sc1']]\n",
    "\n",
    "# define a float formatting function\n",
    "def float_format_func(x):\n",
    "    if float.is_integer(x):\n",
    "        ans = '{}'.format(int(x))\n",
    "    else:\n",
    "        ans = '{:.3f}'.format(x)\n",
    "    return ans\n",
    "\n",
    "def float_format_func2(x):\n",
    "    if float.is_integer(x):\n",
    "        ans = '{}'.format(int(x))\n",
    "    else:\n",
    "        ans = '{:.2f}'.format(x)\n",
    "    return ans"
   ]
  }
 ],
 "metadata": {
  "kernelspec": {
   "display_name": "Python 3",
   "language": "python",
   "name": "python3"
  },
  "language_info": {
   "codemirror_mode": {
    "name": "ipython",
    "version": 3
   },
   "file_extension": ".py",
   "mimetype": "text/x-python",
   "name": "python",
   "nbconvert_exporter": "python",
   "pygments_lexer": "ipython3",
   "version": "3.4.3"
  }
 },
 "nbformat": 4,
 "nbformat_minor": 0
}
