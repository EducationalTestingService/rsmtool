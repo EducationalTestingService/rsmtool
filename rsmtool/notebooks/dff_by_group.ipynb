{
 "cells": [
  {
   "cell_type": "code",
   "execution_count": null,
   "metadata": {},
   "outputs": [],
   "source": [
    "if len(groups_desc) > 0:\n",
    "    markdown_str = [\"## Differential Feature functioning\"]\n",
    "    markdown_str.append(\"This section shows differential feature functioning (DFF) plots \"\n",
    "                        \"for all features and subgroups. The features are shown after applying \"\n",
    "                        \"transformations (if applicable) and truncation of outliers.\")\n",
    "    display(Markdown('\\n'.join(markdown_str)))"
   ]
  },
  {
   "cell_type": "code",
   "execution_count": null,
   "metadata": {
    "scrolled": false
   },
   "outputs": [],
   "source": [
    "# check if we already created the merged file in another notebook\n",
    "\n",
    "try:\n",
    "    df_train_preproc_merged\n",
    "except NameError:\n",
    "    df_train_preproc_merged = pd.merge(df_train_preproc, df_train_metadata, on = 'spkitemid')\n",
    "\n",
    "for group in groups_desc:\n",
    "    display(Markdown(\"### DFF by {}\".format(group)))\n",
    "    selected_columns = ['spkitemid', 'sc1'] + features_used + [group]\n",
    "    df_melted = pd.melt(df_train_preproc_merged[selected_columns], id_vars=['spkitemid', 'sc1', group], var_name='feature')\n",
    "    group_values = sorted(df_melted[group].unique())\n",
    "    colors = sns.color_palette(\"Greys\", len(group_values))\n",
    "    with sns.axes_style('whitegrid'), sns.plotting_context('notebook', font_scale=1.2):\n",
    "        p = sns.catplot(x='sc1', y='value', hue=group, hue_order = group_values,\n",
    "                        col='feature', col_wrap=3, height=3, scale=0.6, palette=colors,\n",
    "                        sharey=False, sharex=False, legend=False, kind=\"point\",\n",
    "                        data=df_melted)\n",
    "\n",
    "        for i, axis in enumerate(p.axes):\n",
    "            axis.set_xlabel('score')\n",
    "            if i == 2:\n",
    "                legend = axis.legend(group_values, title=group, \n",
    "                                     frameon=True, fancybox=True, \n",
    "                                     ncol=1, fontsize=10,\n",
    "                                     loc='upper right', bbox_to_anchor=(1.75, 1))\n",
    "                for j in range(len(group_values)):\n",
    "                    legend.legendHandles[j].set_color(colors[j])\n",
    "                plt.setp(legend.get_title(), fontsize='x-small')\n",
    "\n",
    "        plt.tight_layout(h_pad=1.0)\n",
    "        if use_thumbnails:\n",
    "            imgfile = join(figure_dir, '{}_dff_{}.svg'.format(experiment_id, group))\n",
    "            plt.savefig(imgfile)\n",
    "            show_thumbnail(imgfile, next(id_generator))\n",
    "        else:\n",
    "            plt.show()"
   ]
  }
 ],
 "metadata": {
  "anaconda-cloud": {},
  "kernelspec": {
   "display_name": "Python 3",
   "language": "python",
   "name": "python3"
  },
  "language_info": {
   "codemirror_mode": {
    "name": "ipython",
    "version": 3
   },
   "file_extension": ".py",
   "mimetype": "text/x-python",
   "name": "python",
   "nbconvert_exporter": "python",
   "pygments_lexer": "ipython3",
   "version": "3.6.3"
  }
 },
 "nbformat": 4,
 "nbformat_minor": 1
}
