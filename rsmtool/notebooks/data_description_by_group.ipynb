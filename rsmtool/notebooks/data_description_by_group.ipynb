{
 "cells": [
  {
   "cell_type": "code",
   "execution_count": null,
   "metadata": {
    "collapsed": true
   },
   "outputs": [],
   "source": [
    "# This notebook displays data composition tables for all groups specified in groups_desc variable."
   ]
  },
  {
   "cell_type": "code",
   "execution_count": null,
   "metadata": {},
   "outputs": [],
   "source": [
    "for group in groups_desc:\n",
    "    display(Markdown('### Number of responses by {}'.format(group)))\n",
    "    data_composition_by_file = join(output_dir, '{}_data_composition_by_{}.{}'.format(experiment_id,\n",
    "                                                                                      group,\n",
    "                                                                                      file_format))\n",
    "    df_data_composition_by_group = DataReader.read_from_file(data_composition_by_file)\n",
    "    display(HTML(df_data_composition_by_group.to_html(classes=['sortable'], float_format=float_format_func, index=False)))\n",
    "    if group in min_n_per_group:\n",
    "        display(Markdown(\"Note: the rest of this report will only display the results for groups with \"\n",
    "                         \"at least {} responses in the partition used for each set of analyses.\".format(min_n_per_group[group])))"
   ]
  },
  {
   "cell_type": "code",
   "execution_count": null,
   "metadata": {},
   "outputs": [],
   "source": []
  }
 ],
 "metadata": {
  "kernelspec": {
   "display_name": "Python 3",
   "language": "python",
   "name": "python3"
  },
  "language_info": {
   "codemirror_mode": {
    "name": "ipython",
    "version": 3
   },
   "file_extension": ".py",
   "mimetype": "text/x-python",
   "name": "python",
   "nbconvert_exporter": "python",
   "pygments_lexer": "ipython3",
   "version": "3.6.7"
  }
 },
 "nbformat": 4,
 "nbformat_minor": 1
}
