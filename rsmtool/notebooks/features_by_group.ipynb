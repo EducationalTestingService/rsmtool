{
 "cells": [
  {
   "cell_type": "code",
   "execution_count": null,
   "metadata": {},
   "outputs": [],
   "source": [
    "# This notebook generates boxplot with feature values for all groups specified in groups_desc variable. \n",
    "# Note that this analysis uses the raw feature values after filtering out the missing features and scores.\n",
    "\n",
    "# merge metadata and feature values\n",
    "df_train_merged = pd.merge(df_train, df_train_metadata, on = 'spkitemid')"
   ]
  },
  {
   "cell_type": "code",
   "execution_count": null,
   "metadata": {},
   "outputs": [],
   "source": [
    "if len(features_used) > 30:\n",
    "    display(Markdown('Since the data has more than 30 features, boxplots with feature values for all groups '\n",
    "                     'will be skipped. This experiment currently has {} features.'.format(len(features_used))))\n",
    "else:\n",
    "\n",
    "    for group in groups_desc:\n",
    "        display(Markdown('### Feature values by {}'.format(group)))\n",
    "        display(Markdown('In all plots in this subsection the values are reported before '\n",
    "                         'transformations/truncation. The lines indicate the threshold for '\n",
    "                         'truncation (mean +/- 4*SD)'))\n",
    "\n",
    "        df_train_feats = df_train_merged[features_used + [group]]\n",
    "\n",
    "        df_train_feats_all = df_train_merged.copy()\n",
    "        df_train_feats_all[group] = 'All data'\n",
    "\n",
    "        df_train_combined = pd.concat([df_train_feats, df_train_feats_all], sort=True)\n",
    "        df_train_combined.reset_index(drop=True, inplace=True)\n",
    "\n",
    "        # decide on the the height per plot\n",
    "        num_features = len(features_used)\n",
    "    \n",
    "        # Define the order of the boxes: put 'All data' first and 'No info' last.\n",
    "        group_levels = sorted(list(df_train_feats[group].unique()))\n",
    "        if 'No info' in group_levels:\n",
    "            box_names = ['All data'] + [level for level in group_levels if level != 'No info'] + ['No info']\n",
    "        else:\n",
    "            box_names = ['All data'] + group_levels\n",
    "\n",
    "        # create the faceted boxplots\n",
    "        fig = plt.figure()\n",
    "        (figure_width, \n",
    "         figure_height, \n",
    "         num_rows, \n",
    "         num_columns, \n",
    "         wrapped_box_names) = compute_subgroup_plot_params(box_names, num_features)\n",
    "\n",
    "        fig.set_size_inches(figure_width, figure_height)\n",
    "        with sns.axes_style('white'), sns.plotting_context('notebook', font_scale=1.2):\n",
    "            for i, varname in enumerate(sorted(features_used)):\n",
    "                df_plot = df_train_combined[[group, varname]]\n",
    "                min_value = df_plot[varname].mean() - 4 * df_plot[varname].std()\n",
    "                max_value = df_plot[varname].mean() + 4 * df_plot[varname].std()\n",
    "                ax = fig.add_subplot(num_rows, num_columns, i + 1)\n",
    "                ax.axhline(y=float(min_value), linestyle='--', linewidth=0.5, color='r')\n",
    "                ax.axhline(y=float(max_value), linestyle='--', linewidth=0.5, color='r')\n",
    "                sns.boxplot(x=df_plot[group], y=df_plot[varname], color='#b3b3b3', ax=ax, order=box_names)\n",
    "                ax.set_xticklabels(wrapped_box_names, rotation=90) \n",
    "                ax.set_xlabel('')\n",
    "                ax.set_ylabel('')\n",
    "                ax.set_title('{} by {}'.format(varname, group))\n",
    "\n",
    "        plt.tight_layout(h_pad=1.0)\n",
    "\n",
    "        # save the figure as an SVG file.\n",
    "        imgfile = join(figure_dir, '{}_feature_boxplot_by_{}.svg'.format(experiment_id, group))\n",
    "        plt.savefig(imgfile)\n",
    "        if use_thumbnails:\n",
    "            show_thumbnail(imgfile, next(id_generator))\n",
    "        else:\n",
    "            # needed so that the figures are shown after the heading and not at the end of the cell\n",
    "            plt.show()"
   ]
  }
 ],
 "metadata": {
  "anaconda-cloud": {},
  "kernelspec": {
   "display_name": "Python 3",
   "language": "python",
   "name": "python3"
  },
  "language_info": {
   "codemirror_mode": {
    "name": "ipython",
    "version": 3
   },
   "file_extension": ".py",
   "mimetype": "text/x-python",
   "name": "python",
   "nbconvert_exporter": "python",
   "pygments_lexer": "ipython3",
   "version": "3.6.7"
  }
 },
 "nbformat": 4,
 "nbformat_minor": 1
}
