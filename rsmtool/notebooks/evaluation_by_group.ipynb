{
 "cells": [
  {
   "cell_type": "code",
   "execution_count": null,
   "metadata": {
    "collapsed": true
   },
   "outputs": [],
   "source": [
    "# This notebook generates barplot with evaluation metrics for all groups specified in groups_eval variable. \n"
   ]
  },
  {
   "cell_type": "code",
   "execution_count": null,
   "metadata": {
    "collapsed": true
   },
   "outputs": [],
   "source": [
    "basic_metrics = {('wtkappa', 'trim_round'): [0.7],\n",
    "                 ('corr', 'trim'): [0.7],\n",
    "                 ('SMD', 'trim_round'): [0.1, -0.1],\n",
    "                 ('SMD', 'trim'): [0.1, -0.1],\n",
    "                 ('R2', 'trim'): []}\n",
    "\n",
    "colprefix = 'scale' if use_scaled_predictions else 'raw'\n",
    "metrics = dict([('{}.{}_{}'.format(k[0], colprefix, k[1]), v) for k,v in basic_metrics.items()])\n",
    "\n",
    "for group in groups_eval:\n",
    "    display(Markdown('### Evaluation by {}'.format(group)))\n",
    "    df_eval_group = pd.read_csv(join(output_dir, '{}_eval_by_{}.csv'.format(experiment_id, group)), index_col=0)\n",
    "    df_eval_group.index.name = group\n",
    "    df_eval_group.reset_index(inplace=True)\n",
    "    \n",
    "    # Define the order of the bars: put 'All data' first and 'No info' last.\n",
    "    group_levels = list(df_eval_group[group])\n",
    "    group_levels = [level for level in group_levels if level != 'All data']\n",
    "    if 'No info' in group_levels:\n",
    "        bar_names = ['All data'] + [level for level in group_levels if level != 'No info'] + ['No info']\n",
    "    else:\n",
    "        bar_names = ['All data'] + group_levels\n",
    "\n",
    "    fig = plt.figure()\n",
    "    fig.set_size_inches(10, len(metrics)*4)\n",
    "    with sns.axes_style('white'):\n",
    "        for i, metric in enumerate(sorted(metrics.keys())):\n",
    "            df_plot = df_eval_group[[group, metric]]\n",
    "            ax = fig.add_subplot(len(metrics), 1, i + 1)\n",
    "            for lineval in metrics[metric]:\n",
    "                ax.axhline(y=float(lineval), linestyle='--', linewidth=0.5, color='black')\n",
    "            sns.barplot(df_plot[group], df_plot[metric], color='grey', ax=ax, order = bar_names)\n",
    "            ax.set_xticklabels(bar_names, rotation=90) \n",
    "            ax.set_xlabel('')\n",
    "            ax.set_ylabel('')\n",
    "            ax.set_title('{} by {}'.format(metric, group))\n",
    "    plt.tight_layout(h_pad=1.0)\n",
    "    plt.savefig(join(figure_dir, '{}_eval_by_{}.svg'.format(experiment_id, group)))\n",
    "    plt.show()"
   ]
  }
 ],
 "metadata": {
  "anaconda-cloud": {},
  "kernelspec": {
   "display_name": "Python [default]",
   "language": "python",
   "name": "python3"
  },
  "language_info": {
   "codemirror_mode": {
    "name": "ipython",
    "version": 3
   },
   "file_extension": ".py",
   "mimetype": "text/x-python",
   "name": "python",
   "nbconvert_exporter": "python",
   "pygments_lexer": "ipython3",
   "version": "3.4.5"
  }
 },
 "nbformat": 4,
 "nbformat_minor": 0
}
