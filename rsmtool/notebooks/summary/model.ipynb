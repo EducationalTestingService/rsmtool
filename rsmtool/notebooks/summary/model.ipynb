{
 "cells": [
  {
   "cell_type": "markdown",
   "metadata": {},
   "source": [
    "## Model"
   ]
  },
  {
   "cell_type": "markdown",
   "metadata": {},
   "source": [
    "The table shows main model parameters for each experiment: the total number of features used in the model (linear models only), the number of features with negative coefficients (linear models only), the learner, and the label used to train the model.  For linear models, the second table shows standardized coefficients for all features. "
   ]
  },
  {
   "cell_type": "code",
   "execution_count": null,
   "metadata": {},
   "outputs": [],
   "source": [
    "def summarize_models(model_list, file_format_summarize):\n",
    "    \n",
    "    writer = DataWriter(summary_id)\n",
    "    \n",
    "    summs = []\n",
    "    betas = []\n",
    "    for (model_id, config, csvdir, file_format) in model_list:\n",
    "        coef_file = join(csvdir, '{}_betas.{}'.format(model_id, file_format))\n",
    "        if exists(coef_file):\n",
    "            df_coefs = DataReader.read_from_file(coef_file)\n",
    "            model_summary = pd.DataFrame({'N features': [len(df_coefs)],\n",
    "                                          'N negative': len(df_coefs[df_coefs['standardized'] < 0]),\n",
    "                                          'learner': config['model'],\n",
    "                                          'train_label': config['train_label_column']},\n",
    "                                         index=[model_id])\n",
    "            summs.append(model_summary)\n",
    "            df_betas = pd.DataFrame({model_id : df_coefs['standardized'].values},\n",
    "                                     index = df_coefs['feature'].values)\n",
    "            betas.append(df_betas)\n",
    "        else:\n",
    "            if 'model' in config:\n",
    "                model_summary = pd.DataFrame({'N features': '-',\n",
    "                                              'N negative': '-',\n",
    "                                              'learner': config['model'],\n",
    "                                              'train_label': config['train_label_column']},\n",
    "                                            index=[model_id])\n",
    "                summs.append(model_summary)\n",
    "   \n",
    "    if not len(summs) == 0:\n",
    "        df_summ = pd.concat(summs, sort=True)\n",
    "        display(Markdown(\"## Model summary\"))\n",
    "        display(HTML(df_summ[['N features', 'N negative',\n",
    "                              'learner', 'train_label']].to_html(index=True, \n",
    "                                                                 classes = ['sortable'],\n",
    "                                                                 escape=False,\n",
    "                                                                 float_format=int_or_float_format_func)))\n",
    "\n",
    "        writer.write_experiment_output(output_dir,\n",
    "                                       {'model_summary': df_summ},\n",
    "                                       index=True,\n",
    "                                       file_format=file_format_summarize)\n",
    "        \n",
    "    if not len(betas) == 0:\n",
    "        df_betas_all = pd.concat(betas, axis=1, sort=True)\n",
    "        df_betas_all.fillna('-', inplace=True)\n",
    "        display(Markdown(\"## Standardized coefficients\"))\n",
    "        display(HTML(df_betas_all.to_html(index=True, \n",
    "                                          classes = ['sortable'],\n",
    "                                          escape=False,\n",
    "                                          float_format=int_or_float_format_func)))\n",
    "\n",
    "        writer.write_experiment_output(output_dir,\n",
    "                                       {'betas': df_betas_all},\n",
    "                                       index=True,\n",
    "                                       file_format=file_format_summarize)\n",
    "\n",
    "summarize_models(model_list, file_format_summarize)"
   ]
  },
  {
   "cell_type": "code",
   "execution_count": null,
   "metadata": {
    "collapsed": true
   },
   "outputs": [],
   "source": [
    "def summarize_model_fit(file_format_summarize):\n",
    "    fits = []\n",
    "    for (model_id, config, csvdir, file_format) in model_list:\n",
    "        model_fit_file = join(csvdir, '{}_model_fit.{}'.format(model_id, file_format))\n",
    "        if exists(model_fit_file):\n",
    "            fit = DataReader.read_from_file(model_fit_file)\n",
    "            fit.index = [model_id]\n",
    "            fits.append(fit)\n",
    "    if len(fits)>0:\n",
    "        df_fit = pd.concat(fits, sort=True)\n",
    "        display(Markdown(\"## Model fit\"))\n",
    "        display(HTML(df_fit[['N responses', 'N features',\n",
    "                             'R2','R2_adjusted']].to_html(index=True,\n",
    "                                                          classes=['sortable'],\n",
    "                                                          escape=False,\n",
    "                                                          float_format=int_or_float_format_func)))\n",
    "    \n",
    "        writer = DataWriter(summary_id)\n",
    "        writer.write_experiment_output(output_dir,\n",
    "                                       {'model_fit': df_fit},\n",
    "                                       index=True,\n",
    "                                       file_format=file_format_summarize)\n",
    "\n",
    "    \n",
    "summarize_model_fit(file_format_summarize)"
   ]
  }
 ],
 "metadata": {
  "anaconda-cloud": {},
  "kernelspec": {
   "display_name": "Python 3",
   "language": "python",
   "name": "python3"
  },
  "language_info": {
   "codemirror_mode": {
    "name": "ipython",
    "version": 3
   },
   "file_extension": ".py",
   "mimetype": "text/x-python",
   "name": "python",
   "nbconvert_exporter": "python",
   "pygments_lexer": "ipython3",
   "version": "3.6.7"
  }
 },
 "nbformat": 4,
 "nbformat_minor": 1
}
