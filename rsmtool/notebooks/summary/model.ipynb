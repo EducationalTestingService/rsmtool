{
 "cells": [
  {
   "cell_type": "markdown",
   "metadata": {},
   "source": [
    "## Model"
   ]
  },
  {
   "cell_type": "markdown",
   "metadata": {},
   "source": [
    "The table shows main model parameters for each experiment. "
   ]
  },
  {
   "cell_type": "code",
   "execution_count": null,
   "metadata": {
    "collapsed": false
   },
   "outputs": [],
   "source": [
    "def summarize_models(model_list):\n",
    "    summs = []\n",
    "    for (model_id, config, csvdir) in model_list:\n",
    "        coef_file = os.path.join(csvdir, '{}_betas.csv'.format(model_id))\n",
    "        if os.path.exists(coef_file):\n",
    "            coefs = pd.read_csv(coef_file)\n",
    "            model_summary = pd.DataFrame({'model': [model_id],\n",
    "                                          'N features': len(coefs),\n",
    "                                          'N negative': len(coefs.ix[coefs['standardized']<0]),\n",
    "                                          'learner': config['model'],\n",
    "                                          'train_label': config['train_label_column']})\n",
    "            summs.append(model_summary)\n",
    "        else:\n",
    "            if 'model' in config:\n",
    "                model_summary = pd.DataFrame({'model': [model_id],\n",
    "                                          'N features': '-',\n",
    "                                          'N negative': '-',\n",
    "                                          'learner': config['model'],\n",
    "                                          'train_label': config['train_label_column']})\n",
    "                summs.append(model_summary)\n",
    "   \n",
    "    if not len(summs) == 0:\n",
    "        df_summ = pd.concat(summs)\n",
    "        display(Markdown(\"Model summary\"))\n",
    "        display(HTML(df_summ[['model', 'N features', 'N negative', 'learner', 'train_label']].to_html(index=False, classes = ['sortable'],\n",
    "                                                                                                      escape=False,\n",
    "                                                                                                      float_format=int_or_float_format_func)))\n",
    "\n",
    "summarize_models(model_list)"
   ]
  },
  {
   "cell_type": "code",
   "execution_count": null,
   "metadata": {
    "collapsed": true
   },
   "outputs": [],
   "source": [
    "def summarize_model_fit():\n",
    "    fits = []\n",
    "    for (model_id, config, csvdir) in model_list:\n",
    "        model_fit_file = os.path.join(csvdir, '{}_model_fit.csv'.format(model_id))\n",
    "        if os.path.exists(model_fit_file):\n",
    "            fit = pd.read_csv(model_fit_file)\n",
    "            fit['model'] = model_id\n",
    "            fits.append(fit)\n",
    "    if len(fits)>0:\n",
    "        df_fit = pd.concat(fits)\n",
    "        display(Markdown(\"## Model fit\"))\n",
    "        display(HTML(df_fit[['model', 'N responses','N features','R2','R2_adjusted']].to_html(index=False, classes = ['sortable'],\n",
    "                                                                                              escape=False,\n",
    "                                                                                             float_format=int_or_float_format_func)))\n",
    "    \n",
    "summarize_model_fit()"
   ]
  }
 ],
 "metadata": {
  "anaconda-cloud": {},
  "kernelspec": {
   "display_name": "Python [default]",
   "language": "python",
   "name": "python3"
  },
  "language_info": {
   "codemirror_mode": {
    "name": "ipython",
    "version": 3
   },
   "file_extension": ".py",
   "mimetype": "text/x-python",
   "name": "python",
   "nbconvert_exporter": "python",
   "pygments_lexer": "ipython3",
   "version": "3.4.5"
  }
 },
 "nbformat": 4,
 "nbformat_minor": 0
}
