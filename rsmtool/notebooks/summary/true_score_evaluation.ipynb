{
 "cells": [
  {
   "cell_type": "markdown",
   "metadata": {},
   "source": [
    "### True score evaluations"
   ]
  },
  {
   "cell_type": "markdown",
   "metadata": {},
   "source": [
    "The tables in this section shows how well system scores can predict *true* scores. According to Test theory, a *true* score is a score that would have been obtained if there were no errors in measurement. While true scores cannot be observed, the variance of true scores and the prediction error can be estimated using observed human scores when multiple human ratings are available for a subset of responses. In this notebook, this variance and prediction error are estimated using human scores for responses in the evaluation set. "
   ]
  },
  {
   "cell_type": "code",
   "execution_count": null,
   "metadata": {},
   "outputs": [],
   "source": [
    "prmse_columns = ['N','N raters', 'N single', 'N multiple', \n",
    "                 'Variance of errors', 'True score var',\n",
    "                 'MSE true', 'PRMSE true']\n",
    "\n",
    "def read_true_score_evals(model_list, file_format_summarize):\n",
    "    true_score_evals = []\n",
    "    for (model_id, model_name, config, csvdir, file_format) in model_list:\n",
    "        csv_file = os.path.join(csvdir, '{}_true_score_eval.{}'.format(model_id, file_format))\n",
    "        if os.path.exists(csv_file):\n",
    "            df_true_score_eval_all = DataReader.read_from_file(csv_file, index_col=0)\n",
    "            # figure out whether the score was scaled\n",
    "            prefix = 'scale' if config.get('use_scaled_predictions') == True or config.get('scale_with') is not None else 'raw'        \n",
    "            # use the line that corresponds to the appropriate score (scaled or raw)\n",
    "            df_true_score_eval = df_true_score_eval_all.loc[['{}_trim'.format(prefix)]].copy()\n",
    "            df_true_score_eval['system score type'] = prefix\n",
    "            df_true_score_eval.index = [model_name]\n",
    "            true_score_evals.append(df_true_score_eval)          \n",
    "    if len(true_score_evals) > 0:\n",
    "        df_true_score_evals = pd.concat(true_score_evals, sort=True)\n",
    "    else:\n",
    "        df_true_score_evals = pd.DataFrame()\n",
    "    return(df_true_score_evals)\n",
    "\n",
    "df_true_score_eval = read_true_score_evals(model_list, file_format_summarize)\n",
    "if not df_true_score_eval.empty:\n",
    "    writer = DataWriter(summary_id)\n",
    "    writer.write_experiment_output(output_dir,\n",
    "                                   {'true_score_eval': df_true_score_eval},\n",
    "                                   index=True,\n",
    "                                   file_format=file_format_summarize)"
   ]
  },
  {
   "cell_type": "code",
   "execution_count": null,
   "metadata": {},
   "outputs": [],
   "source": [
    "if not df_true_score_eval.empty:\n",
    "    markdown_strs = [\"#### Proportional reduction in mean squared error (PRMSE)\"]\n",
    "    markdown_strs.append(\"The table shows variance of human rater errors, \"\n",
    "                         \"true score variance, mean squared error (MSE) and \"\n",
    "                         \"proportional reduction in mean squared error (PRMSE) for \"\n",
    "                         \"predicting a true score with system score.\")\n",
    "    display(Markdown('\\n'.join(markdown_strs)))\n",
    "    pd.options.display.width=10\n",
    "    df_prmse = df_true_score_eval[prmse_columns].copy()\n",
    "    df_prmse.replace({np.nan: '-'}, inplace=True)\n",
    "    display(HTML('<span style=\"font-size:95%\">'+ df_prmse.to_html(classes=['sortable'], \n",
    "                                                                  escape=False,\n",
    "                                                                  float_format=float_format_func) + '</span>'))\n",
    "else:\n",
    "    display(Markdown(\"No information available for any of the models\"))\n",
    "    "
   ]
  }
 ],
 "metadata": {
  "kernelspec": {
   "display_name": "Python 3",
   "language": "python",
   "name": "python3"
  },
  "language_info": {
   "codemirror_mode": {
    "name": "ipython",
    "version": 3
   },
   "file_extension": ".py",
   "mimetype": "text/x-python",
   "name": "python",
   "nbconvert_exporter": "python",
   "pygments_lexer": "ipython3",
   "version": "3.7.6"
  }
 },
 "nbformat": 4,
 "nbformat_minor": 2
}
