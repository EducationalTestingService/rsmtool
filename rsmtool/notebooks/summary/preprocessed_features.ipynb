{
 "cells": [
  {
   "cell_type": "markdown",
   "metadata": {},
   "source": [
    "## Feature descriptives"
   ]
  },
  {
   "cell_type": "code",
   "execution_count": null,
   "metadata": {
    "collapsed": true
   },
   "outputs": [],
   "source": [
    "def summarize_feature_correlations(model_list, file_suffix, header, file_format_summarize):\n",
    "    corrs = []\n",
    "    for (model_id, model_name, config, csvdir, file_format) in model_list:\n",
    "        corr_file = os.path.join(csvdir, '{}_{}.{}'.format(model_id, file_suffix, file_format))\n",
    "        if os.path.exists(corr_file):\n",
    "            model_corrs = DataReader.read_from_file(corr_file, index_col=0)\n",
    "            model_corrs.index = [model_name]\n",
    "            corrs.append(model_corrs)\n",
    "    if not len(corrs) == 0:\n",
    "        df_summ = pd.concat(corrs, sort=True)\n",
    "        display(header)\n",
    "        display(HTML(df_summ.to_html(index=True, classes = ['sortable'],\n",
    "                                     escape=False,\n",
    "                                     float_format=int_or_float_format_func)))\n",
    "\n",
    "        writer = DataWriter(summary_id)\n",
    "        writer.write_experiment_output(output_dir,\n",
    "                                       {file_suffix: df_summ},\n",
    "                                       index=True,\n",
    "                                       file_format=file_format_summarize)"
   ]
  },
  {
   "cell_type": "markdown",
   "metadata": {},
   "source": [
    "## Marginal and partial correlations\n",
    "\n",
    "The tables below shows correlations between truncated and standardized (if applicable) values of each feature against human score for each model. All correlations are computed on the training sets."
   ]
  },
  {
   "cell_type": "code",
   "execution_count": null,
   "metadata": {
    "collapsed": true
   },
   "outputs": [],
   "source": [
    "header = Markdown(\"####Marginal corelations against score\\n\\n\\n \"\n",
    "                  \"The table shows marginal correlations between each feature \"\n",
    "                  \"and the human score.\")\n",
    "\n",
    "summarize_feature_correlations(model_list, 'margcor_score_all_data', header, file_format_summarize)"
   ]
  },
  {
   "cell_type": "code",
   "execution_count": null,
   "metadata": {
    "collapsed": true
   },
   "outputs": [],
   "source": [
    "header = Markdown(\"####Partial correlations after controlling for all other variables\\n\\n\\n \"\n",
    "                  \"This table shows Pearson's correlation between each feature and human score after \"\n",
    "                  \"controlling for all other features\")\n",
    "\n",
    "summarize_feature_correlations(model_list, 'pcor_score_all_data', header, file_format_summarize)"
   ]
  },
  {
   "cell_type": "code",
   "execution_count": null,
   "metadata": {
    "collapsed": true
   },
   "outputs": [],
   "source": [
    "header = Markdown(\"####Partial correlations after controlling for length\\n\\n\\n \"\n",
    "                  \"This table shows Pearson's correlation between each feature and human score after \"\n",
    "                  \"controlling for length\")\n",
    "\n",
    "summarize_feature_correlations(model_list, 'pcor_score_no_length_all_data', header, file_format_summarize)"
   ]
  }
 ],
 "metadata": {
  "anaconda-cloud": {},
  "kernelspec": {
   "display_name": "Python 3",
   "language": "python",
   "name": "python3"
  },
  "language_info": {
   "codemirror_mode": {
    "name": "ipython",
    "version": 3
   },
   "file_extension": ".py",
   "mimetype": "text/x-python",
   "name": "python",
   "nbconvert_exporter": "python",
   "pygments_lexer": "ipython3",
   "version": "3.6.7"
  }
 },
 "nbformat": 4,
 "nbformat_minor": 1
}
