{
 "cells": [
  {
   "cell_type": "markdown",
   "metadata": {},
   "source": [
    "## Links to intermediate files"
   ]
  },
  {
   "cell_type": "code",
   "execution_count": null,
   "metadata": {},
   "outputs": [],
   "source": [
    "# dynamically set the documentation link based on context\n",
    "if context == \"rsmtool\":\n",
    "    documentation_link = \"https://rsmtool.readthedocs.io/en/main/usage_rsmtool.html#intermediate-files\"\n",
    "else:\n",
    "    # this is rsmeval\n",
    "    documentation_link = \"https://rsmtool.readthedocs.io/en/main/advanced_usage.html#intermediate-files\"\n",
    "\n",
    "markdown_text = (\"The following intermediate files were generated as part of this experiment.\"\n",
    "\"To examine a file, click on the link. Note that the descriptions provided here are only brief \"\n",
    "\"summaries. For more detailed descriptions, please refer to the \"\n",
    "f\"[relevant RSMTool documentation]({documentation_link}).\")"
   ]
  },
  {
   "cell_type": "code",
   "execution_count": null,
   "metadata": {},
   "outputs": [],
   "source": [
    "display(Markdown(markdown_text))"
   ]
  },
  {
   "cell_type": "code",
   "execution_count": null,
   "metadata": {},
   "outputs": [],
   "source": [
    "from rsmtool.utils.notebook import show_files"
   ]
  },
  {
   "cell_type": "code",
   "execution_count": null,
   "metadata": {},
   "outputs": [],
   "source": [
    "show_files(context, output_dir, experiment_id, file_format)"
   ]
  }
 ],
 "metadata": {
  "kernelspec": {
   "display_name": "Python 3",
   "language": "python",
   "name": "python3"
  },
  "language_info": {
   "codemirror_mode": {
    "name": "ipython",
    "version": 3
   },
   "file_extension": ".py",
   "mimetype": "text/x-python",
   "name": "python",
   "nbconvert_exporter": "python",
   "pygments_lexer": "ipython3",
   "version": "3.6.7"
  }
 },
 "nbformat": 4,
 "nbformat_minor": 2
}
