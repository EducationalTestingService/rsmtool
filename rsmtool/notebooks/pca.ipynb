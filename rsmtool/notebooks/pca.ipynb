{
 "cells": [
  {
   "cell_type": "markdown",
   "metadata": {},
   "source": [
    "## Principal component analysis\n",
    "\n",
    "PCA using scaled data and singular value decomposition. This is computed using processed features after the truncation of outliers and other transformations specified in feature config file."
   ]
  },
  {
   "cell_type": "code",
   "execution_count": null,
   "metadata": {
    "collapsed": true
   },
   "outputs": [],
   "source": [
    "pca_file = join(output_dir, '{}_pca.{}'.format(experiment_id, file_format))\n",
    "df_pca = DataReader.read_from_file(pca_file, index_col=0)\n",
    "df_pca.sort_index(inplace=True)\n",
    "HTML(df_pca.to_html(classes=['sortable'], float_format=float_format_func))"
   ]
  },
  {
   "cell_type": "code",
   "execution_count": null,
   "metadata": {
    "collapsed": true
   },
   "outputs": [],
   "source": [
    "pcavar_file = join(output_dir, '{}_pcavar.{}'.format(experiment_id, file_format))\n",
    "df_pcavar = DataReader.read_from_file(pcavar_file, index_col=0)\n",
    "df_pcavar.sort_index(inplace=True)\n",
    "HTML(df_pcavar.to_html(classes=['sortable'], float_format=float_format_func))"
   ]
  },
  {
   "cell_type": "code",
   "execution_count": null,
   "metadata": {
    "collapsed": true
   },
   "outputs": [],
   "source": [
    "# generate the Scree plot\n",
    "with sns.axes_style('white'):\n",
    "    num_components = len(df_pcavar.columns)\n",
    "    labels = list(df_pcavar.columns)\n",
    "    ax = df_pcavar.transpose().plot(y='Eigenvalues', kind='line', \n",
    "                                    color='black', linestyle='dashed', marker='o', legend=False,\n",
    "                                    linewidth=1, use_index=True, xticks=range(num_components),\n",
    "                                    figsize=(11, 5), title='Scree Plot: Principal Component Analysis')\n",
    "    ax.set_ylabel('Variances')\n",
    "    ax.set_xticklabels(labels, rotation=90)\n",
    "    imgfile = join(figure_dir, '{}_pca.svg'.format(experiment_id))\n",
    "    plt.savefig(imgfile)\n",
    "    if use_thumbnails:\n",
    "        show_thumbnail(imgfile, next(id_generator))\n",
    "    else:\n",
    "        plt.show()"
   ]
  }
 ],
 "metadata": {
  "kernelspec": {
   "display_name": "Python 3",
   "language": "python",
   "name": "python3"
  },
  "language_info": {
   "codemirror_mode": {
    "name": "ipython",
    "version": 3
   },
   "file_extension": ".py",
   "mimetype": "text/x-python",
   "name": "python",
   "nbconvert_exporter": "python",
   "pygments_lexer": "ipython3",
   "version": "3.6.4"
  }
 },
 "nbformat": 4,
 "nbformat_minor": 1
}
