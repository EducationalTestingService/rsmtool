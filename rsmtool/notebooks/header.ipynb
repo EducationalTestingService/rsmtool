{
 "cells": [
  {
   "cell_type": "code",
   "execution_count": null,
   "metadata": {
    "collapsed": true
   },
   "outputs": [],
   "source": [
    "# Setting options for the plots\n",
    "%matplotlib inline\n",
    "%config InlineBackend.figure_formats={'retina', 'svg'}\n",
    "%config InlineBackend.rc={'savefig.dpi': 150}"
   ]
  },
  {
   "cell_type": "markdown",
   "metadata": {},
   "source": [
    "# Experiment Report "
   ]
  },
  {
   "cell_type": "code",
   "execution_count": null,
   "metadata": {
    "collapsed": false
   },
   "outputs": [],
   "source": [
    "import itertools\n",
    "import os\n",
    "import re\n",
    "import pickle\n",
    "import platform\n",
    "import time\n",
    "\n",
    "from functools import partial\n",
    "from os.path import abspath, exists, join\n",
    "\n",
    "import numpy as np\n",
    "import pandas as pd\n",
    "import seaborn as sns\n",
    "import scipy.stats as stats\n",
    "import statsmodels.api as sm\n",
    "from matplotlib import pyplot as plt\n",
    "\n",
    "from IPython import sys_info\n",
    "from IPython.display import display, HTML, Image, Javascript, Markdown, SVG\n",
    "\n",
    "from rsmtool.utils import (float_format_func,\n",
    "                           int_or_float_format_func,\n",
    "                           bold_highlighter,\n",
    "                           color_highlighter)\n",
    "\n",
    "from rsmtool.version import VERSION as rsmtool_version"
   ]
  },
  {
   "cell_type": "markdown",
   "metadata": {},
   "source": [
    "<style type=\"text/css\">\n",
    "  div.prompt.output_prompt { \n",
    "    color: white; \n",
    "  }\n",
    "  \n",
    "  span.highlight_color {\n",
    "    color: red;\n",
    "  }\n",
    "  \n",
    "  span.highlight_bold {\n",
    "    font-weight: bold;  \n",
    "  }\n",
    "    \n",
    "  @media print {\n",
    "    @page {\n",
    "      size: landscape;\n",
    "      margin: 0cm 0cm 0cm 0cm;\n",
    "    }\n",
    "\n",
    "    * {\n",
    "      margin: 0px;\n",
    "      padding: 0px;\n",
    "    }\n",
    "\n",
    "    #toc {\n",
    "      display: none;\n",
    "    }\n",
    "\n",
    "    span.highlight_color, span.highlight_bold {\n",
    "        font-weight: bolder;\n",
    "        text-decoration: underline;\n",
    "    }\n",
    "\n",
    "    div.prompt.output_prompt {\n",
    "      display: none;\n",
    "    }\n",
    "    \n",
    "    h3#Python-packages, div#packages {\n",
    "      display: none;\n",
    "  }\n",
    "</style>"
   ]
  },
  {
   "cell_type": "code",
   "execution_count": null,
   "metadata": {
    "collapsed": false
   },
   "outputs": [],
   "source": [
    "# NOTE: you will need to set the following manually\n",
    "# if you are using this notebook interactively.\n",
    "experiment_id = os.environ.get('EXPERIMENT_ID')\n",
    "description = os.environ.get('DESCRIPTION')\n",
    "context = os.environ.get('CONTEXT')\n",
    "train_file_location = os.environ.get('TRAIN_FILE_LOCATION')\n",
    "test_file_location = os.environ.get('TEST_FILE_LOCATION')\n",
    "output_dir = os.environ.get('OUTPUT_DIR')\n",
    "figure_dir = os.environ.get('FIGURE_DIR')\n",
    "model_name = os.environ.get('MODEL_NAME')\n",
    "model_type = os.environ.get('MODEL_TYPE')\n",
    "length_column = os.environ.get('LENGTH_COLUMN')\n",
    "second_human_score_column = os.environ.get('H2_COLUMN')\n",
    "scaled = os.environ.get('SCALED')\n",
    "use_scaled_predictions = scaled == '1'\n",
    "exclude_zero_scores = os.environ.get('EXCLUDE_ZEROS') == '1'\n",
    "feature_subset_file = os.environ.get('FEATURE_SUBSET_FILE')\n",
    "min_items = int(os.environ.get('MIN_ITEMS'))\n",
    "\n",
    "# groups for analysis by prompt or subgroup.\n",
    "# set to 'prompt' for the standard analysis of 'prompt%%subgroup1%%subgroup2' for subgroup analysis.\n",
    "groups_desc_string = os.environ.get('GROUPS_FOR_DESCRIPTIVES') \n",
    "groups_desc = groups_desc_string.split('%%')\n",
    "groups_eval_string = os.environ.get('GROUPS_FOR_EVALUATIONS') \n",
    "groups_eval = groups_eval_string.split('%%')\n",
    "\n",
    "# javascript path\n",
    "javascript_path = os.environ.get(\"JAVASCRIPT_PATH\")"
   ]
  },
  {
   "cell_type": "code",
   "execution_count": null,
   "metadata": {
    "collapsed": true
   },
   "outputs": [],
   "source": [
    "display(Javascript(filename=join(javascript_path, \"sort.js\")))"
   ]
  },
  {
   "cell_type": "code",
   "execution_count": null,
   "metadata": {
    "collapsed": true
   },
   "outputs": [],
   "source": [
    "Markdown('''This report presents the analysis for **{}**: {}'''.format(experiment_id, description))"
   ]
  },
  {
   "cell_type": "code",
   "execution_count": null,
   "metadata": {
    "collapsed": true
   },
   "outputs": [],
   "source": [
    "HTML(time.strftime('%c'))"
   ]
  },
  {
   "cell_type": "code",
   "execution_count": null,
   "metadata": {
    "collapsed": true
   },
   "outputs": [],
   "source": [
    "%%html\n",
    "<div id=\"toc\"></div>"
   ]
  },
  {
   "cell_type": "code",
   "execution_count": null,
   "metadata": {
    "collapsed": true
   },
   "outputs": [],
   "source": [
    "# Read in the training and testing features, both raw and pre-processed\n",
    "# Make sure that the `spkitemid` column is read as a string\n",
    "\n",
    "if exists(train_file_location):\n",
    "    df_train_orig = pd.read_csv(train_file_location)\n",
    "\n",
    "train_file = join(output_dir, '{}_train_features.csv'.format(experiment_id))\n",
    "if exists(train_file):\n",
    "    df_train = pd.read_csv(train_file, converters={'spkitemid': str})\n",
    "    \n",
    "train_metadata_file = join(output_dir, '{}_train_metadata.csv'.format(experiment_id))    \n",
    "if exists(train_metadata_file):\n",
    "    df_train_metadata = pd.read_csv(train_metadata_file, converters={'spkitemid': str})\n",
    "\n",
    "train_other_columns_file = join(output_dir, '{}_train_other_columns.csv'.format(experiment_id))\n",
    "if exists(train_other_columns_file):\n",
    "    df_train_other_columns = pd.read_csv(train_other_columns_file, converters={'spkitemid': str})\n",
    "\n",
    "train_length_file = join(output_dir, '{}_train_response_lengths.csv'.format(experiment_id))\n",
    "if exists(train_length_file):\n",
    "    df_train_length = pd.read_csv(train_length_file, converters={'spkitemid': str})\n",
    "    \n",
    "train_excluded_file = join(output_dir, '{}_train_excluded_responses.csv'.format(experiment_id))\n",
    "if exists(train_excluded_file):\n",
    "    df_train_excluded = pd.read_csv(train_excluded_file, converters={'spkitemid': str})\n",
    "    \n",
    "train_responses_with_excluded_flags_file = join(output_dir, '{}_train_responses_with_excluded_flags.csv'.format(experiment_id))\n",
    "if exists(train_responses_with_excluded_flags_file):\n",
    "    df_train_responses_with_excluded_flags = pd.read_csv(train_responses_with_excluded_flags_file, converters={'spkitemid': str})\n",
    "    \n",
    "train_preproc_file = join(output_dir, '{}_train_preprocessed_features.csv'.format(experiment_id))    \n",
    "if exists(train_preproc_file):\n",
    "    df_train_preproc = pd.read_csv(train_preproc_file, converters={'spkitemid': str})\n",
    "    \n",
    "if exists(test_file_location):\n",
    "    df_test_orig = pd.read_csv(test_file_location)\n",
    "\n",
    "test_file = join(output_dir, '{}_test_features.csv'.format(experiment_id))\n",
    "if exists(test_file):\n",
    "    df_test = pd.read_csv(test_file, converters={'spkitemid': str})\n",
    "\n",
    "test_metadata_file = join(output_dir, '{}_test_metadata.csv'.format(experiment_id))    \n",
    "if exists(test_metadata_file):\n",
    "    df_test_metadata = pd.read_csv(test_metadata_file, converters={'spkitemid': str})\n",
    "    \n",
    "test_other_columns_file = join(output_dir, '{}_test_other_columns.csv'.format(experiment_id))\n",
    "if exists(test_other_columns_file):\n",
    "    df_test_other_columns = pd.read_csv(test_other_columns_file, converters={'spkitemid': str})\n",
    "\n",
    "test_human_scores_file = join(output_dir, '{}_test_human_scores.csv'.format(experiment_id))\n",
    "if exists(test_human_scores_file):\n",
    "    df_test_human_scores = pd.read_csv(test_human_scores_file, converters={'spkitemid': str})\n",
    "        \n",
    "test_excluded_file = join(output_dir, '{}_test_excluded_responses.csv'.format(experiment_id))\n",
    "if exists(test_excluded_file):\n",
    "    df_test_excluded = pd.read_csv(test_excluded_file, converters={'spkitemid': str})\n",
    "    \n",
    "test_responses_with_excluded_flags_file = join(output_dir, '{}_test_responses_with_excluded_flags.csv'.format(experiment_id))\n",
    "if exists(test_responses_with_excluded_flags_file):\n",
    "    df_test_responses_with_excluded_flags = pd.read_csv(test_responses_with_excluded_flags_file, converters={'spkitemid': str})\n",
    "\n",
    "test_preproc_file = join(output_dir, '{}_test_preprocessed_features.csv'.format(experiment_id))\n",
    "if exists(test_preproc_file):\n",
    "    df_test_preproc = pd.read_csv(test_preproc_file, converters={'spkitemid': str})\n",
    "\n",
    "pred_preproc_file = join(output_dir, '{}_pred_processed.csv'.format(experiment_id))\n",
    "if exists(pred_preproc_file):\n",
    "    df_pred_preproc = pd.read_csv(pred_preproc_file, converters={'spkitemid': str})\n",
    "\n",
    "feature_file = join(output_dir, '{}_feature.csv'.format(experiment_id))\n",
    "if exists(feature_file):\n",
    "    df_features = pd.read_csv(feature_file, converters={'spkitemid': str})\n",
    "    features_used = [c for c in df_features.feature.values]\n",
    "    \n",
    "betas_file = join(output_dir, '{}_betas.csv'.format(experiment_id))\n",
    "if exists(betas_file):\n",
    "    df_betas = pd.read_csv(betas_file)\n",
    "    \n",
    "if exists(feature_subset_file):\n",
    "    df_feature_subset_specs = pd.read_csv(feature_subset_file)\n",
    "else:\n",
    "    df_feature_subset_specs = None\n",
    "\n"
   ]
  }
 ],
 "metadata": {
  "anaconda-cloud": {},
  "kernelspec": {
   "display_name": "Python [default]",
   "language": "python",
   "name": "python3"
  },
  "language_info": {
   "codemirror_mode": {
    "name": "ipython",
    "version": 3
   },
   "file_extension": ".py",
   "mimetype": "text/x-python",
   "name": "python",
   "nbconvert_exporter": "python",
   "pygments_lexer": "ipython3",
   "version": "3.4.5"
  }
 },
 "nbformat": 4,
 "nbformat_minor": 0
}
