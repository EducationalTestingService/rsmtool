{
 "cells": [
  {
   "cell_type": "markdown",
   "id": "6f403f94",
   "metadata": {},
   "source": [
    "## Description of the Data Passed"
   ]
  },
  {
   "cell_type": "code",
   "execution_count": null,
   "id": "b22841c1",
   "metadata": {},
   "outputs": [],
   "source": [
    "display(Markdown(f\"A total of {len(ids)} examples were passed to the explainer.\"))"
   ]
  },
  {
   "cell_type": "code",
   "execution_count": null,
   "id": "0230b5fb",
   "metadata": {},
   "outputs": [],
   "source": [
    "if len(ids) < 100:\n",
    "    msg = f\"The following examples were selected for explanation: {list(ids.values())}\"\n",
    "else:\n",
    "     msg = (\"Too many examples (>100) were selected to be displayed here. \"\n",
    "            f\"Please refer to the `{experiment_id}_ids.pkl` file in the `output` directory.\" )\n",
    "\n",
    "display(Markdown(msg))"
   ]
  },
  {
   "cell_type": "markdown",
   "id": "43aeb967",
   "metadata": {},
   "source": [
    "### Background Distribution"
   ]
  },
  {
   "cell_type": "markdown",
   "id": "6171e672",
   "metadata": {},
   "source": [
    "The background distribution is responsible for generating the base value of your shap explanation. The base value represents the mean model prediction in the data that was passed as background.\n",
    "\n",
    "By default, rsmexplain generates a kmeans-clustered representation of your background sample. The size of which you can specify in the \"background_kmeans_size\" parameter. Generally a kmeans sample of size 100 or higher is sufficient to generate an accurate base value.\n"
   ]
  },
  {
   "cell_type": "code",
   "execution_count": null,
   "id": "bef8cb85",
   "metadata": {
    "tags": []
   },
   "outputs": [],
   "source": [
    "if background_kmeans_size:\n",
    "    msg = (f\"A background sample of k-means size {background_kmeans_size} was passed to the explainer. \"\n",
    "           \"A smaller background sample will be faster but less accurate.\")\n",
    "else:\n",
    "    msg = (\"No background size was specified for the background sample so a k-means size of 500 \"\n",
    "           \"will be used. A smaller background sample will be faster but less accurate.\")\n",
    "    \n",
    "display(Markdown(msg))"
   ]
  }
 ],
 "metadata": {
  "kernelspec": {
   "display_name": "Python 3 (ipykernel)",
   "language": "python",
   "name": "python3"
  },
  "language_info": {
   "codemirror_mode": {
    "name": "ipython",
    "version": 3
   },
   "file_extension": ".py",
   "mimetype": "text/x-python",
   "name": "python",
   "nbconvert_exporter": "python",
   "pygments_lexer": "ipython3",
   "version": "3.11.3"
  }
 },
 "nbformat": 4,
 "nbformat_minor": 5
}
