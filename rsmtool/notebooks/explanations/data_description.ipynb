{
 "cells": [
  {
   "cell_type": "markdown",
   "id": "a3f349a5",
   "metadata": {},
   "source": [
    "## Description of the Data Passed"
   ]
  },
  {
   "cell_type": "code",
   "execution_count": null,
   "id": "76b86ec0",
   "metadata": {},
   "outputs": [],
   "source": [
    "display(Markdown(\"A total of {} rows of data were passed to the explainer. \\n\".format(len(ids.keys()))))\n",
    "\n"
   ]
  },
  {
   "cell_type": "code",
   "execution_count": null,
   "id": "84683fd7",
   "metadata": {},
   "outputs": [],
   "source": [
    "display(Markdown(\"The following row-ids were selected for explanation: \\n {}\".format([i for i in ids.values()])))"
   ]
  },
  {
   "cell_type": "markdown",
   "id": "72407dab",
   "metadata": {},
   "source": [
    "### Background Distribution"
   ]
  },
  {
   "cell_type": "markdown",
   "id": "a41a8299",
   "metadata": {},
   "source": [
    "The background distribution is responsible for generating the base value of your shap explanation. The base value should represent the mean model prediction in the data that was passed as background.\n",
    "\n",
    "By default, rsmexplain generates a kmeans-clustered representation of your background sample. The size of which you can specify in the \"background_size\" parameter. Generally a kmeans sample of size 100 or higher is sufficient to generate an accurate base value.\n"
   ]
  },
  {
   "cell_type": "code",
   "execution_count": null,
   "id": "908db7e1",
   "metadata": {},
   "outputs": [],
   "source": [
    "if background_size:\n",
    "    Markdown(\"A background sample of kmeans size {} was passed to the explainer. A smaller background sample will be faster but less accurate.\".format(background_size))\n",
    "else:\n",
    "    Markdown(\"No background size was specified for the background sample. This defaults the background sample to a size of kmeans=500. A smaller background sample will be faster but less accurate.\")\n",
    "\n",
    "print('test')"
   ]
  }
 ],
 "metadata": {
  "kernelspec": {
   "display_name": "Python 3 (ipykernel)",
   "language": "python",
   "name": "python3"
  },
  "language_info": {
   "codemirror_mode": {
    "name": "ipython",
    "version": 3
   },
   "file_extension": ".py",
   "mimetype": "text/x-python",
   "name": "python",
   "nbconvert_exporter": "python",
   "pygments_lexer": "ipython3",
   "version": "3.8.13"
  }
 },
 "nbformat": 4,
 "nbformat_minor": 5
}
