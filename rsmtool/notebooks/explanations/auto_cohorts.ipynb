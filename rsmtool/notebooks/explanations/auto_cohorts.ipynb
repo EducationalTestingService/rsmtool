{
 "cells": [
  {
   "cell_type": "markdown",
   "id": "5a4205dc",
   "metadata": {},
   "source": [
    "## Auto cohort bar plots\n",
    "\n",
    "This plot represents a bar plot split into 2 cohorts that optimally separate the SHAP values of the data instances using a sklearn DecisionTreeRegressor. \n",
    "\n",
    "The features are plotted as absolute mean impact.\n",
    "\n",
    "The plot shows the two cohorts in differently shaded bars, the legend informs us about the metric along which the cohorts are chosen.\n",
    "\n",
    "This plot can be useful to detect interaction effects between cohorts and features. If a cohort shows a high feature value, then there may be an interaction between that cohort and the feature."
   ]
  },
  {
   "cell_type": "code",
   "execution_count": null,
   "id": "4d4828cd",
   "metadata": {},
   "outputs": [],
   "source": [
    "\n",
    "# The cohort plot seems to break if the feature names in the explanation object are not defined as a list\n",
    "if isinstance(explanations.feature_names, list):\n",
    "    shap.plots.bar(explanations.cohorts(2).abs.mean(0))\n",
    "else:\n",
    "    try:\n",
    "        explanations.feature_names = list(explanations.feature_names)\n",
    "        shap.plots.bar(explanations.cohorts(2).abs.mean(0))\n",
    "    except:\n",
    "        display(\"There was an error generating your cohort plot. Likely cause: feature_names not in correct format.\")\n",
    "#display(explanations.shape)"
   ]
  },
  {
   "cell_type": "markdown",
   "id": "f7473fd7",
   "metadata": {},
   "source": [
    "### Auto cohort plot with 3 cohorts"
   ]
  },
  {
   "cell_type": "code",
   "execution_count": null,
   "id": "69522346",
   "metadata": {},
   "outputs": [],
   "source": [
    "shap.plots.bar(explanations.cohorts(3).abs.mean(0))"
   ]
  },
  {
   "cell_type": "markdown",
   "id": "6698e446",
   "metadata": {},
   "source": [
    "### Auto cohort plot with 4 cohorts"
   ]
  },
  {
   "cell_type": "code",
   "execution_count": null,
   "id": "aa1c6f61",
   "metadata": {},
   "outputs": [],
   "source": [
    "shap.plots.bar(explanations.cohorts(4).abs.mean(0))"
   ]
  }
 ],
 "metadata": {
  "kernelspec": {
   "display_name": "Python 3 (ipykernel)",
   "language": "python",
   "name": "python3"
  },
  "language_info": {
   "codemirror_mode": {
    "name": "ipython",
    "version": 3
   },
   "file_extension": ".py",
   "mimetype": "text/x-python",
   "name": "python",
   "nbconvert_exporter": "python",
   "pygments_lexer": "ipython3",
   "version": "3.8.13"
  }
 },
 "nbformat": 4,
 "nbformat_minor": 5
}
