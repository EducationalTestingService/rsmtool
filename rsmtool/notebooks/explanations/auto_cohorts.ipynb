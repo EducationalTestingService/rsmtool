{
 "cells": [
  {
   "cell_type": "markdown",
   "id": "5a4205dc",
   "metadata": {},
   "source": [
    "#### Auto cohort bar plots\n",
    "\n",
    "This plot represents a bar plot split into N cohorts that optimally separate the SHAP values of the examples using a `DecisionTreeRegressor` from scikit-learn. The plots show the cohorts using differently shaded bars and the legend indicates the metric along which the cohorts were chosen. The features are plotted using absolute mean impact.\n",
    "\n",
    "These plots can be useful to detect interaction effects between cohorts and features. If a cohort shows a high feature value, then there may be an interaction between that cohort and the feature."
   ]
  },
  {
   "cell_type": "markdown",
   "id": "986441c6-a73d-4e3a-9243-97a2a0dbb17d",
   "metadata": {},
   "source": [
    "##### Auto cohort plot with 2 cohorts"
   ]
  },
  {
   "cell_type": "code",
   "execution_count": null,
   "id": "4d4828cd",
   "metadata": {},
   "outputs": [],
   "source": [
    "# The cohort plot seems to break if the feature names in the explanation object are not defined as a list\n",
    "explanations.feature_names = (\n",
    "    list(explanations.feature_names)\n",
    "    if not isinstance(explanations.feature_names, list)\n",
    "    else explanations.feature_names\n",
    ")\n",
    "\n",
    "shap.plots.bar(explanations.cohorts(2).abs.mean(0), show=False)\n",
    "imgfile = join(fig_path, f\"{experiment_id}_auto_cohort_2.svg\")\n",
    "plt.savefig(imgfile, bbox_inches=\"tight\")"
   ]
  },
  {
   "cell_type": "markdown",
   "id": "f7473fd7",
   "metadata": {},
   "source": [
    "##### Auto cohort plot with 3 cohorts"
   ]
  },
  {
   "cell_type": "code",
   "execution_count": null,
   "id": "69522346",
   "metadata": {
    "tags": []
   },
   "outputs": [],
   "source": [
    "shap.plots.bar(explanations.cohorts(3).abs.mean(0), show=False)\n",
    "imgfile = join(fig_path, f\"{experiment_id}_auto_cohort_3.svg\")\n",
    "plt.savefig(imgfile, bbox_inches=\"tight\")"
   ]
  },
  {
   "cell_type": "markdown",
   "id": "6698e446",
   "metadata": {},
   "source": [
    "##### Auto cohort plot with 4 cohorts"
   ]
  },
  {
   "cell_type": "code",
   "execution_count": null,
   "id": "aa1c6f61",
   "metadata": {},
   "outputs": [],
   "source": [
    "shap.plots.bar(explanations.cohorts(4).abs.mean(0), show=False)\n",
    "imgfile = join(fig_path, f\"{experiment_id}_auto_cohort_4.svg\")\n",
    "plt.savefig(imgfile, bbox_inches=\"tight\")"
   ]
  }
 ],
 "metadata": {
  "kernelspec": {
   "display_name": "Python 3 (ipykernel)",
   "language": "python",
   "name": "python3"
  },
  "language_info": {
   "codemirror_mode": {
    "name": "ipython",
    "version": 3
   },
   "file_extension": ".py",
   "mimetype": "text/x-python",
   "name": "python",
   "nbconvert_exporter": "python",
   "pygments_lexer": "ipython3",
   "version": "3.11.3"
  }
 },
 "nbformat": 4,
 "nbformat_minor": 5
}
