{
 "cells": [
  {
   "cell_type": "markdown",
   "metadata": {},
   "source": [
    "## Model explanation using SHAP values & plots"
   ]
  },
  {
   "cell_type": "markdown",
   "metadata": {},
   "source": [
    "### Shapley values: a brief introduction\n",
    "\n",
    "SHAP values are generated using the [SHAP library](https://shap.readthedocs.io/en/latest/index.html) and are approximations of [Shapley Values](https://en.wikipedia.org/wiki/Shapley_value), a concept derived from game-theory. Briefly speaking, the value for a feature indicates, for every model decision passed to the explainer, how the model decision would be impacted by removing that feature. For a more in-depth explanation, please refer to this [summary article](https://towardsdatascience.com/understanding-how-ime-shapley-values-explains-predictions-d75c0fceca5a).\n",
    "\n",
    "By default, `rsmexplain` uses the [Sampling](https://shap.readthedocs.io/en/latest/generated/shap.explainers.Sampling.html#shap.explainers.Sampling) explainer which computes SHAP values through random permutations of the features, a method described [here](https://link.springer.com/article/10.1007/s10115-013-0679-x). Although the sampling explainer is model agnostic and should – in principle – work for any type of model, RSMExplain currently only explains regressor models they are the most commonly used model for automated scoring."
   ]
  },
  {
   "cell_type": "markdown",
   "metadata": {
    "tags": []
   },
   "source": [
    "### Reading SHAP values\n"
   ]
  },
  {
   "cell_type": "code",
   "execution_count": null,
   "metadata": {
    "tags": []
   },
   "outputs": [],
   "source": [
    "msg = (f\"SHAP values are additive representations of a feature's impact on a model \"\n",
    "       f\"decision. The sum of all SHAP values and the base value for an example yields \"\n",
    "       f\"the actual model prediction for that example. A SHAP value for a feature can \"\n",
    "       f\"be considered that feature's contribution to that specific prediction. By \"\n",
    "       f\"computing the averge of all absolute SHAP values for a specific feature, we \"\n",
    "       f\"can calculate that feature's average impact on the predictions for the data \"\n",
    "       f\"we are trying to explain. The average, maximum, and minimum absolute SHAP \"\n",
    "       f\"values for all features can be found in `output/{experiment_id}_absolute_shap_values.csv`.\")\n",
    "\n",
    "display(Markdown(msg))"
   ]
  },
  {
   "cell_type": "markdown",
   "metadata": {},
   "source": [
    "### Things to consider"
   ]
  },
  {
   "cell_type": "code",
   "execution_count": null,
   "metadata": {
    "tags": []
   },
   "outputs": [],
   "source": [
    "msg = (\"- `rsmexplain` can only generate SHAP values for the examples contained in \\\"explain_data\\\" \"\n",
    "       \"and, if specified, \\\"sample_range\\\" or \\\"sample_size\\\". If the dataset passed is small, then \"\n",
    "       \"the values derived may not be representative of the model as a whole. Plots displaying mean \"\n",
    "       \"values for your SHAP values may be unreliable if your dataset was small or not actually \"\n",
    "       \"representative of the data the model deals with. \\n\\n\"\n",
    "       \"- It is assumed that a **sufficiently large and diverse** background set is used. \\n\\n\"\n",
    "       f\"- To analyze SHAP values manually, please refer to `output/{experiment_id}_shap_values.csv`.\\n\\n\"\n",
    "       f\"- To use the generated shap explanation object for additional \"\n",
    "       f\"processing, unpickle `output/{experiment_id}_explanation.pkl` to \"\n",
    "       f\"get access to it. If you chose specific examples via `sample_range` or \"\n",
    "       f\"`sample_size`, you can find them in `output/{experiment_id}_ids.pkl` \"\n",
    "       f\"where they are stored as a mapping between the position of the example \"\n",
    "       f\"in the dataset and the ID of the example.\")\n",
    "\n",
    "display(Markdown(msg))"
   ]
  },
  {
   "cell_type": "markdown",
   "metadata": {},
   "source": [
    "### SHAP values summary"
   ]
  },
  {
   "cell_type": "markdown",
   "metadata": {},
   "source": [
    "This is a quick textual summary of your SHAP values. Please refer to the Plots section below for visualizations. All values are rounded to three decimal places unless specified otherwise."
   ]
  },
  {
   "cell_type": "markdown",
   "metadata": {},
   "source": [
    "#### Top 5 features by mean absolute SHAP value\n",
    "\n",
    "The following table shows the top 5 features in terms of mean absolute SHAP value, i.e., the top 5 features with the biggest mean impact on model predictions. Note that the table also includes the maximum and minimum absolute values for each feature. \n",
    "\n",
    "*Note: if your model has <=5 features with non-zero SHAP values, all of them will be displayed.*"
   ]
  },
  {
   "cell_type": "code",
   "execution_count": null,
   "metadata": {
    "tags": []
   },
   "outputs": [],
   "source": [
    "mean_abs_nonzero_values = df_abs_shap[df_abs_shap['abs. mean shap'] != 0].copy()\n",
    "if len(mean_abs_nonzero_values) > 5:\n",
    "    top_5_table = HTML(mean_abs_nonzero_values[0:5].to_html(classes=['sortable'],\n",
    "                                                            float_format=float_format_func))\n",
    "else:\n",
    "    top_5_table = HTML(mean_abs_nonzero_values.to_html(classes=['sortable'],\n",
    "                                                       float_format=float_format_func))\n",
    "\n",
    "display(top_5_table)"
   ]
  },
  {
   "cell_type": "markdown",
   "metadata": {},
   "source": [
    "#### Bottom 5 features by mean absolute SHAP value\n",
    "\n",
    "The following features are the ones with the lowest absolute non-zero mean SHAP value. Assuming that your dataset was large enough and representative, these features may be the least useful to the model. Note that the table also includes the maximum and minimum abs. SHAP value for each feature. \n",
    "\n",
    "*Note: If your model has <= 5 features with non-zero SHAP values, all of them will be displayed.*"
   ]
  },
  {
   "cell_type": "code",
   "execution_count": null,
   "metadata": {
    "tags": []
   },
   "outputs": [],
   "source": [
    "# sort the values in ascending order for this one\n",
    "mean_abs_nonzero_values.sort_values(by=['abs. mean shap'], inplace=True)\n",
    "formatter = partial(float_format_func, scientific=True)\n",
    "if len(mean_abs_nonzero_values) > 5:\n",
    "    bottom_5_table = HTML(mean_abs_nonzero_values[0:5].to_html(classes=['sortable'], float_format=formatter))\n",
    "else:\n",
    "    bottom_5_table = HTML(mean_abs_nonzero_values.to_html(classes=['sortable'], float_format=formatter))\n",
    "\n",
    "display(bottom_5_table)"
   ]
  },
  {
   "cell_type": "code",
   "execution_count": null,
   "metadata": {
    "tags": []
   },
   "outputs": [],
   "source": [
    "mean_values = df_abs_shap[\"abs. mean shap\"]\n",
    "rows_with_zero_mean_values = df_abs_shap[df_abs_shap[\"abs. mean shap\"] == 0].copy()\n",
    "\n",
    "msg = (\"#### Features with zero mean SHAP value\\n The features in the table below \"\n",
    "       \"likely did not contribute to the model's decisions. Assuming the examples passed \"\n",
    "       \"were sufficient in number and representative of the data the model usually \"\n",
    "       \"encounters, the features in this table are not useful to the model.\\n \"\n",
    "       \"**IMPORTANT**: Please make sure that the distribution of the features values \"\n",
    "       \"for the actual samples being explained does not happen to be significantly \"\n",
    "       \"different from the data on which the model was trained.\")\n",
    "\n",
    "if len(rows_with_zero_mean_values) > 0:\n",
    "    display(Markdown(msg))\n",
    "    \n",
    "    if len(rows_with_zero_mean_values) <= 10:\n",
    "        zero_value_table = HTML(rows_with_zero_mean_values.to_html(classes=['sortable'], \n",
    "                                                                   float_format=float_format_func))\n",
    "    else:\n",
    "        display(Markdown(\"You have more than 10 features with absolute mean SHAP value of 0.\"\n",
    "                         \"Displaying the first 10 here. Check `absolute_shap_values.csv` for the rest.\"))\n",
    "        zero_value_table = HTML(rows_with_zero_mean_values[:10].to_html(classes=['sortable'], \n",
    "                                                                       float_format=float_format_func))\n",
    "    display(zero_value_table)"
   ]
  },
  {
   "cell_type": "markdown",
   "metadata": {},
   "source": [
    "#### Top 5 features by maximum absolute SHAP value\n",
    "\n",
    "Features in the table below are the ones with the largest impact according to the maximum absolute SHAP value. If these *do not* overlap with the features with the largest mean impact, then it is likely that they have large outlier values, but lower average impact. \n",
    "\n",
    "*Note: if your model has less than or equal to 5 features, all of them will be displayed. *"
   ]
  },
  {
   "cell_type": "code",
   "execution_count": null,
   "metadata": {},
   "outputs": [],
   "source": [
    "if len(df_abs_shap) > 5:\n",
    "    top_5_max_table = HTML(df_abs_shap.sort_values(by=['abs. max shap'], \n",
    "                                                   ascending=False)[0:5].to_html(classes=['sortable'], \n",
    "                                                                                 float_format=float_format_func))\n",
    "else:\n",
    "    top_5_max_table = HTML(df_abs_shap.sort_values(by=['abs. max shap'], \n",
    "                                                   ascending=False).to_html(classes=['sortable'],\n",
    "                                                                            float_format=float_format_func))\n",
    "    \n",
    "display(top_5_max_table)"
   ]
  }
 ],
 "metadata": {
  "anaconda-cloud": {},
  "kernelspec": {
   "display_name": "Python 3 (ipykernel)",
   "language": "python",
   "name": "python3"
  },
  "language_info": {
   "codemirror_mode": {
    "name": "ipython",
    "version": 3
   },
   "file_extension": ".py",
   "mimetype": "text/x-python",
   "name": "python",
   "nbconvert_exporter": "python",
   "pygments_lexer": "ipython3",
   "version": "3.11.3"
  }
 },
 "nbformat": 4,
 "nbformat_minor": 4
}
