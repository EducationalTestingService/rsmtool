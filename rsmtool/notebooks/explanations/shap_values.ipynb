{
 "cells": [
  {
   "cell_type": "markdown",
   "metadata": {},
   "source": [
    "## Model explanation using Shap values & plots"
   ]
  },
  {
   "cell_type": "markdown",
   "metadata": {},
   "source": [
    "### Shapley values: a brief introduction\n",
    "\n",
    "Shap values are generated using the [SHAP library](https://shap.readthedocs.io/en/latest/index.html) and are approximations of [Shapley Values](https://en.wikipedia.org/wiki/Shapley_value), a concept derived from game-theory. Briefly speaking, the value for a feature indicates, for every model decision passed to the explainer, how the model decision would be impacted by removing that feature. For a more in-depth explanation, please refer to this [summary article](https://towardsdatascience.com/understanding-how-ime-shapley-values-explains-predictions-d75c0fceca5a).\n",
    "\n",
    "By default, RSMExplain uses the [Sampling](https://shap.readthedocs.io/en/latest/generated/shap.explainers.Sampling.html#shap.explainers.Sampling) explainer which computes shap values through random permutations of the features, a method described [here](https://link.springer.com/article/10.1007/s10115-013-0679-x).\n",
    "\n",
    "The sampling explainer is model agnostic and should, in principle, work for any type of model. RSMExplain currently only supports regressors. \n"
   ]
  },
  {
   "cell_type": "markdown",
   "metadata": {
    "tags": []
   },
   "source": [
    "### Reading Shap values\n",
    "\n",
    "Shap values are additive representations of a feature's impact on a model decision. The sum of all shap values and the base value for a example yields the actual model prediction for that example.\n",
    "\n",
    "A shap value for a feature can be considered that feature's contribution to that specific prediction. By computing the averge of all absolute shap values for a specific feature, we can calculate that feature's average impact on the predictions for the data we are trying to explain. The average, mximum, and minimum absolute shap values for all features can be found in the `absolute_shap_values.csv` file in the `output` directory.\n",
    "\n"
   ]
  },
  {
   "cell_type": "markdown",
   "metadata": {},
   "source": [
    "### Things to consider\n",
    "\n",
    "- RSMExplain can only generate shap values for the examples contained in \"explainable_data\" and, if specified, \"sample_range\" or \"sample_size\". If the dataset passed is small, then the values derived may not be representative of the model as a whole. Plots displaying mean values for your shap values may be unreliable if your dataset was small or not actually representative of the data the model deals with.\n",
    "\n",
    "- As long as a sufficiently large background set was passed, the shap values for individual examples may be considered reliable.\n",
    "\n",
    "- If you wish to analyze shap values manually, please refer to the `*shap*.csv` files in the `output` directory.\n",
    "\n",
    "- If you wish to use the generated shap explanation object for additional processing, you may unpickle `explanation.pkl`. If you chose specific examples via `sample_range` or `sample_size`, you can find them in the `ids.pkl` file where they are stored as a mapping between the position of the example in the dataset and the ID of the example."
   ]
  },
  {
   "cell_type": "markdown",
   "metadata": {},
   "source": [
    "### Shap values summary"
   ]
  },
  {
   "cell_type": "markdown",
   "metadata": {},
   "source": [
    "This is a quick textual summary of your shap values. Please refer to the Plots section below for visualizations.\n",
    "\n",
    "All values are rounded to $10^{-3}$ unless specified otherwise."
   ]
  },
  {
   "cell_type": "markdown",
   "metadata": {},
   "source": [
    "#### Top 5 features by mean absolute Shap value\n",
    "\n",
    "The following table shows the top 5 features in terms of mean absolute shap value, i.e., the top 5 features with the biggest mean impact on model predictions. Note that the table also includes the maximum and minimum absolute values for each feature."
   ]
  },
  {
   "cell_type": "code",
   "execution_count": null,
   "metadata": {
    "tags": []
   },
   "outputs": [],
   "source": [
    "if len(df_abs_shap) > 5:\n",
    "    display(Markdown(\"Your model has more than 5 features. Displaying the top 5:\"))\n",
    "    top_5_table = HTML(df_abs_shap[0:5].to_html(classes=['sortable'], index=False, float_format=float_format_func))\n",
    "else:\n",
    "    display(Markdown(\"Your model has 5 or fewer features. Displaying all:\"))\n",
    "    top_5_table = HTML(df_abs_shap.to_html(classes=['sortable'], index=False, float_format=float_format_func))\n",
    "\n",
    "display(top_5_table)"
   ]
  },
  {
   "cell_type": "code",
   "execution_count": null,
   "metadata": {
    "tags": []
   },
   "outputs": [],
   "source": [
    "mean_values = df_abs_shap[\"abs. mean shap\"]\n",
    "rows_with_zero_mean_values = df_abs_shap[df_abs_shap[\"abs. mean shap\"] == 0]\n",
    "\n",
    "msg = (\"#### Features with zero mean Shap value\\n The featuers in table below \"\n",
    "       \"likely did not contribute to the model decisions. Assuming the examples passed \"\n",
    "       \"were sufficient in number and representative of the data the model usually \"\n",
    "       \"encounters, the features in this table are not useful to the model.\\n \"\n",
    "       \"**IMPORTANT**: Before you draw this conclusion, please make sure that those \"\n",
    "       \"features were not simply 0 in all the examples you provided the model.\")\n",
    "\n",
    "if len(rows_with_zero_mean_values) > 0:\n",
    "    display(Markdown(msg))\n",
    "    \n",
    "    if len(rows_with_zero_mean_values) <= 10:\n",
    "        zero_value_table = HTML(rows_with_zero_mean_values.to_html(classes=['sortable'], \n",
    "                                                        index=False, \n",
    "                                                        float_format=float_format_func))\n",
    "    else:\n",
    "        display(Markdown(\"You have more than 10 features with absolute mean shap value of 0.\"\n",
    "                         \"Displaying the first 10 here. Check `absolute_shap_values.csv` for the rest.\"))\n",
    "        zero_value_table = HTML(rows_with_zero_mean_values[:10].to_html(classes=['sortable'], \n",
    "                                                                       index=False, \n",
    "                                                                       float_format=float_format_func))\n",
    "    display(zero_value_table)"
   ]
  },
  {
   "cell_type": "markdown",
   "metadata": {},
   "source": [
    "#### Bottom 5 features by mean absolute Shap value\n",
    "\n",
    "The following features are the ones with the lowest absolute non-zero mean shap value. Assuming that your dataset was large enough and representative, these features may be the least useful to the model.\n",
    "Note that the table also includes the maximum and minimum abs. shap value for each feature as well. \n",
    "\n",
    "*Rounding is disabled for this table to prevent values appearing as 0.*"
   ]
  },
  {
   "cell_type": "code",
   "execution_count": null,
   "metadata": {
    "tags": []
   },
   "outputs": [],
   "source": [
    "mean_abs_nonzero_values = df_abs_shap[df_abs_shap['abs. mean shap'] != 0]\n",
    "if len(df_abs_shap) > 5:\n",
    "    display(Markdown(\"Your model has more than 5 features. Displaying the bottom 5:\"))\n",
    "    bottom_5_table = HTML(mean_abs_nonzero_values[-5:-1].to_html(index=False, classes=['sortable']))\n",
    "else:\n",
    "    display(Markdown(\"Your model has 5 or less features. Displaying all:\"))\n",
    "    bottom_5_table = HTML(mean_abs_nonzero_values.to_html(index=False, classes=['sortable']))\n",
    "\n",
    "display(bottom_5_table)"
   ]
  },
  {
   "cell_type": "markdown",
   "metadata": {},
   "source": [
    "#### Top 5 features by maximum absolute Shap value\n",
    "\n",
    "Features in the table below are the ones with the largest impact according to the maximum absolute Shap value. If these *do not* overlap with the features with the largest mean impact, then it is likely that they have large outlier values, but lower average impact. "
   ]
  },
  {
   "cell_type": "code",
   "execution_count": null,
   "metadata": {},
   "outputs": [],
   "source": [
    "if len(df_abs_shap) > 5:\n",
    "    display(Markdown(\"Your model has more than 5 features. Displaying the top 5:\"))\n",
    "    top_5_max_table = HTML(df_abs_shap.sort_values(by=['abs. max shap'], \n",
    "                                                   ascending=False)[0:5].to_html(classes=['sortable'], \n",
    "                                                                                 float_format=float_format_func,\n",
    "                                                                                 index=False))\n",
    "else:\n",
    "    display(Markdown(\"Your model has 5 or fewer features. Displaying all:\"))\n",
    "    top_5_max_table = HTML(df_abs_shap.sort_values(by=['abs. max shap'], \n",
    "                                                   ascending=False).to_html(index=False, \n",
    "                                                                            classes=['sortable'],\n",
    "                                                                            float_format=float_format_func))\n",
    "    \n",
    "display(top_5_max_table)"
   ]
  }
 ],
 "metadata": {
  "anaconda-cloud": {},
  "kernelspec": {
   "display_name": "Python 3 (ipykernel)",
   "language": "python",
   "name": "python3"
  },
  "language_info": {
   "codemirror_mode": {
    "name": "ipython",
    "version": 3
   },
   "file_extension": ".py",
   "mimetype": "text/x-python",
   "name": "python",
   "nbconvert_exporter": "python",
   "pygments_lexer": "ipython3",
   "version": "3.11.3"
  }
 },
 "nbformat": 4,
 "nbformat_minor": 4
}
