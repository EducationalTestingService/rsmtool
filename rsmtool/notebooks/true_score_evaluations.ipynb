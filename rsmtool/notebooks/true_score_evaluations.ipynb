{
 "cells": [
  {
   "cell_type": "markdown",
   "metadata": {},
   "source": [
    "### Evaluation: True scores"
   ]
  },
  {
   "cell_type": "markdown",
   "metadata": {},
   "source": [
    "The tables in this section shows how well system scores can predict *true* scores. According to Test theory, a *true* score is a score that would have been obtained if there were no errors in measurement. While true scores cannot be observed, the variance of true scores and the prediction error can be estimated using observed human scores when multiple human ratings are available for a subset of responses. In this notebook these are estimated using human scores for responses in the evaluation set. \n"
   ]
  },
  {
   "cell_type": "code",
   "execution_count": null,
   "metadata": {},
   "outputs": [],
   "source": [
    "if context == 'rsmtool':\n",
    "    label_column = \"test_label_column\"\n",
    "else:\n",
    "    label_column = \"human_score_column\"\n",
    "\n",
    "warning_str = \"Note that the analyses in this section assume that the values \"\n",
    "              \"in `{}` and `second_human_score_column` are independent scores \"\n",
    "              \"from differet raters or groups of raters. These analyses are \"\n",
    "              \"not applicable to a situation where `{}` contains an average \".format(label_column,\n",
    "                                                                                    label_column)\n",
    "              \"score from multiple raters\". \n",
    "                \n",
    "display(Markdown(warning_str))"
   ]
  },
  {
   "cell_type": "markdown",
   "metadata": {},
   "source": [
    "#### Variance of human and system scores\n",
    "\n",
    "The tables below show variance of both sets of human scores and variance of system scores for the whole evaluation and for the subset of responses that were double-scored. Large differences in variance between the two human scores or between two subsets of responses requires further investigation. "
   ]
  },
  {
   "cell_type": "markdown",
   "metadata": {},
   "source": [
    "#### Proportional reduction in mean squared error (PRMSE)\n",
    "\n",
    "The table shows proportional reduction in mean squared error (PRMSE) for predicting a true score with system score. "
   ]
  }
 ],
 "metadata": {
  "kernelspec": {
   "display_name": "Python 3",
   "language": "python",
   "name": "python3"
  },
  "language_info": {
   "codemirror_mode": {
    "name": "ipython",
    "version": 3
   },
   "file_extension": ".py",
   "mimetype": "text/x-python",
   "name": "python",
   "nbconvert_exporter": "python",
   "pygments_lexer": "ipython3",
   "version": "3.6.7"
  }
 },
 "nbformat": 4,
 "nbformat_minor": 2
}
