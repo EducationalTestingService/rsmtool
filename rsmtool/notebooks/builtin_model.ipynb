{
 "cells": [
  {
   "cell_type": "markdown",
   "metadata": {},
   "source": [
    "## Model"
   ]
  },
  {
   "cell_type": "code",
   "execution_count": null,
   "metadata": {
    "collapsed": true
   },
   "outputs": [],
   "source": [
    "Markdown('Model used: **{}**'.format(model_name))"
   ]
  },
  {
   "cell_type": "code",
   "execution_count": null,
   "metadata": {
    "collapsed": true
   },
   "outputs": [],
   "source": [
    "Markdown('Number of features in model: **{}**'.format(len(features_used)))"
   ]
  },
  {
   "cell_type": "code",
   "execution_count": null,
   "metadata": {
    "collapsed": true
   },
   "outputs": [],
   "source": [
    "builtin_ols_models = ['LinearRegression',\n",
    "                      'EqualWeightsLR',\n",
    "                      'RebalancedLR',\n",
    "                      'NNLR',\n",
    "                      'LassoFixedLambdaThenNNLR',\n",
    "                      'LassoFixedLambdaThenLR',\n",
    "                      'PositiveLassoCVThenLR',\n",
    "                      'WeightedLeastSquares']\n",
    "\n",
    "builtin_lasso_models = ['LassoFixedLambda',\n",
    "                        'PositiveLassoCV']"
   ]
  },
  {
   "cell_type": "code",
   "execution_count": null,
   "metadata": {
    "collapsed": true
   },
   "outputs": [],
   "source": [
    "# we first just show a summary of the OLS model and the main model parameters\n",
    "if model_name in builtin_ols_models:\n",
    "    display(Markdown('### Model summary'))\n",
    "    summary_file = join(output_dir, '{}_ols_summary.txt'.format(experiment_id))\n",
    "    with open(summary_file, 'r') as summf:\n",
    "        model_summary = summf.read()\n",
    "        print(model_summary)\n",
    "     \n",
    "    display(Markdown('### Model fit'))\n",
    "    df_fit = DataReader.read_from_file(join(output_dir, '{}_model_fit.{}'.format(experiment_id,\n",
    "                                                                                 file_format)))\n",
    "    display(HTML(df_fit.to_html(index=False,\n",
    "                                float_format=float_format_func)))"
   ]
  },
  {
   "cell_type": "markdown",
   "metadata": {
    "collapsed": true
   },
   "source": [
    "### Standardized and relative regression coefficients (betas)\n",
    "\n",
    "The relative coefficients are intended to show relative contribution of different feature and their primary purpose is to indentify whether one of the features has an unproportionate effect over the final score. They are computed as standardized/(sum of absolute values of standardized coefficients). \n",
    "\n",
    "Negative standardized coefficients are <span class=\"highlight_color\">highlighted</span>.\n",
    "\n",
    "**Note**: if the model contains negative coefficients, relative values will not sum up to one and their interpretation is generally questionable. "
   ]
  },
  {
   "cell_type": "code",
   "execution_count": null,
   "metadata": {
    "collapsed": true
   },
   "outputs": [],
   "source": [
    "markdown_str = \"\"\"\n",
    "**Note**: The coefficients were estimated using LASSO regression. Unlike OLS (standard) linear regression, lasso estimation is based on an optimization routine and therefore the exact estimates may differ across different systems. \"\"\"\n",
    "\n",
    "if model_name in builtin_lasso_models:\n",
    "    display(Markdown(markdown_str))"
   ]
  },
  {
   "cell_type": "code",
   "execution_count": null,
   "metadata": {
    "collapsed": true
   },
   "outputs": [],
   "source": [
    "df_betas.sort_values(by='feature', inplace=True)\n",
    "display(HTML(df_betas.to_html(classes=['sortable'], \n",
    "                              index=False, \n",
    "                              escape=False,\n",
    "                              float_format=float_format_func,\n",
    "                              formatters={'standardized': color_highlighter})))"
   ]
  },
  {
   "cell_type": "markdown",
   "metadata": {
    "collapsed": true
   },
   "source": [
    "Here are the same values, shown graphically."
   ]
  },
  {
   "cell_type": "code",
   "execution_count": null,
   "metadata": {
    "collapsed": true
   },
   "outputs": [],
   "source": [
    "df_betas_sorted = df_betas.sort_values(by='standardized', ascending=False)\n",
    "df_betas_sorted.reset_index(drop=True, inplace=True)\n",
    "fig = plt.figure()\n",
    "fig.set_size_inches(8, 3)\n",
    "fig.subplots_adjust(bottom=0.5)\n",
    "grey_colors = sns.color_palette('Greys', len(features_used))[::-1]\n",
    "with sns.axes_style('whitegrid'):\n",
    "    ax1=fig.add_subplot(121)\n",
    "    sns.barplot(x=\"feature\", y=\"standardized\", data=df_betas_sorted, \n",
    "                order=df_betas_sorted['feature'].values,\n",
    "                palette=sns.color_palette(\"Greys\", 1), ax=ax1)\n",
    "    ax1.set_xticklabels(df_betas_sorted['feature'].values, rotation=90)\n",
    "    ax1.set_title('Values of standardized coefficients')\n",
    "    ax1.set_xlabel('')\n",
    "    ax1.set_ylabel('')\n",
    "    # no pie chart if we have more than 15 features,\n",
    "    # if the feature names are long (pie chart looks ugly)\n",
    "    # or if there are any negative coefficients.\n",
    "    if len(features_used) <= 15 and longest_feature_name <= 10 and (df_betas_sorted['relative']>=0).all():\n",
    "        ax2=fig.add_subplot(133, aspect=True)\n",
    "        ax2.pie(abs(df_betas_sorted['relative'].values), colors=grey_colors, \n",
    "            labels=df_betas_sorted['feature'].values, normalize=True)\n",
    "        ax2.set_title('Proportional contribution of each feature')\n",
    "    else:\n",
    "        fig.set_size_inches(len(features_used), 3)\n",
    "    betas_file = join(figure_dir, '{}_betas.svg'.format(experiment_id))\n",
    "    plt.savefig(betas_file)\n",
    "\n",
    "    if use_thumbnails:\n",
    "        show_thumbnail(betas_file, next(id_generator))\n",
    "    else:\n",
    "        plt.show()"
   ]
  },
  {
   "cell_type": "code",
   "execution_count": null,
   "metadata": {
    "collapsed": true
   },
   "outputs": [],
   "source": [
    "if model_name in builtin_ols_models:\n",
    "    display(Markdown('### Model diagnostics'))\n",
    "    display(Markdown(\"These are standard plots for model diagnostics for the main model. All information is computed based on the training set.\"))"
   ]
  },
  {
   "cell_type": "code",
   "execution_count": null,
   "metadata": {
    "collapsed": true
   },
   "outputs": [],
   "source": [
    "# read in the OLS model file and create the diagnostics plots\n",
    "if model_name in builtin_ols_models:\n",
    "    ols_file = join(output_dir, '{}.ols'.format(experiment_id))\n",
    "    model = pickle.load(open(ols_file, 'rb'))\n",
    "    model_predictions = model.predict()\n",
    "\n",
    "    with sns.axes_style('white'):\n",
    "        f, (ax1, ax2) = plt.subplots(1, 2)\n",
    "        f.set_size_inches((10, 4))\n",
    "        \n",
    "        ###\n",
    "        # for now, we do not show the influence plot since it can be slow to generate\n",
    "        ###\n",
    "        # sm.graphics.influence_plot(model.sm_ols, criterion=\"cooks\", size=10, ax=ax1)\n",
    "        # ax1.set_title('Residuals vs. Leverage', fontsize=16)\n",
    "        # ax1.set_xlabel('Leverage', fontsize=16)\n",
    "        # ax1.set_ylabel('Standardized Residuals', fontsize=16)\n",
    "\n",
    "        sm.qqplot(model.resid, stats.norm, fit=True, line='q', ax=ax1)\n",
    "        ax1.set_title('Normal Q-Q Plot', fontsize=16)\n",
    "        ax1.set_xlabel('Theoretical Quantiles', fontsize=16)\n",
    "        ax1.set_ylabel('Sample Quantiles', fontsize=16)\n",
    "\n",
    "        ax2.scatter(model_predictions, model.resid)\n",
    "        ax2.set_xlabel('Fitted values', fontsize=16)\n",
    "        ax2.set_ylabel('Residuals', fontsize=16)\n",
    "        ax2.set_title('Residuals vs. Fitted', fontsize=16)\n",
    "\n",
    "        imgfile = join(figure_dir, '{}_ols_diagnostic_plots.png'.format(experiment_id))\n",
    "        plt.savefig(imgfile)\n",
    "\n",
    "        if use_thumbnails:\n",
    "            show_thumbnail(imgfile, next(id_generator))\n",
    "        else:\n",
    "            display(Image(imgfile))\n",
    "        plt.close()"
   ]
  }
 ],
 "metadata": {
  "anaconda-cloud": {},
  "kernelspec": {
   "display_name": "Python 3",
   "language": "python",
   "name": "python3"
  },
  "language_info": {
   "codemirror_mode": {
    "name": "ipython",
    "version": 3
   },
   "file_extension": ".py",
   "mimetype": "text/x-python",
   "name": "python",
   "nbconvert_exporter": "python",
   "pygments_lexer": "ipython3",
   "version": "3.8.5"
  }
 },
 "nbformat": 4,
 "nbformat_minor": 1
}
