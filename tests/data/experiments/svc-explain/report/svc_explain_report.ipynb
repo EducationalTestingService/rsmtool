{
 "cells": [
  {
   "cell_type": "code",
   "execution_count": 1,
   "id": "dc0dfeb0",
   "metadata": {},
   "outputs": [
    {
     "name": "stdout",
     "output_type": "stream",
     "text": [
      "test\n"
     ]
    }
   ],
   "source": [
    "# Setting options for the plots\n",
    "%matplotlib inline\n",
    "%config InlineBackend.figure_formats={'retina', 'svg'}\n",
    "%config InlineBackend.rc={'savefig.dpi': 150}"
   ]
  },
  {
   "cell_type": "markdown",
   "id": "8d298191",
   "metadata": {},
   "source": [
    "# Explanation Report"
   ]
  },
  {
   "cell_type": "code",
   "execution_count": null,
   "id": "b903744d",
   "metadata": {},
   "outputs": [],
   "source": [
    "import shap\n",
    "import pickle\n",
    "import matplotlib\n",
    "from matplotlib import pyplot as plt\n",
    "import seaborn as sns\n",
    "import os\n",
    "import time\n",
    "import pandas as pd\n",
    "import itertools\n",
    "\n",
    "from IPython import sys_info\n",
    "from IPython.display import display, HTML, Image, Javascript, Markdown, SVG\n",
    "from os.path import abspath, relpath, exists, join\n",
    "from rsmtool.reader import DataReader\n",
    "from rsmtool.writer import DataWriter\n",
    "from rsmtool.utils.files import parse_json_with_comments\n",
    "from rsmtool.utils.notebook import (float_format_func,\n",
    "                                    int_or_float_format_func,\n",
    "                                    compute_subgroup_plot_params,\n",
    "                                    bold_highlighter,\n",
    "                                    color_highlighter,\n",
    "                                    show_thumbnail)\n",
    "\n",
    "sns.set_context('notebook')"
   ]
  },
  {
   "cell_type": "code",
   "execution_count": null,
   "id": "abad16e9",
   "metadata": {},
   "outputs": [],
   "source": [
    "rsm_report_dir = os.environ.get('RSM_REPORT_DIR', None)\n",
    "\n",
    "if rsm_report_dir is None:\n",
    "    rsm_report_dir = os.getcwd()\n",
    "\n",
    "rsm_environ_config = join(rsm_report_dir, '.environ.json')\n",
    "if not exists(rsm_environ_config):\n",
    "    raise FileNotFoundError('The file {} cannot be located. '\n",
    "                            'Please make sure that either (1) '\n",
    "                            'you have set the correct directory with the `RSM_REPORT_DIR` '\n",
    "                            'environment variable, or (2) that your `.environ.json` '\n",
    "                            'file is in the same directory as your notebook.'.format(rsm_environ_config))\n",
    "    \n",
    "environ_config = parse_json_with_comments(rsm_environ_config)"
   ]
  },
  {
   "cell_type": "markdown",
   "id": "b2c325f2",
   "metadata": {},
   "source": [
    "<style type=\"text/css\">\n",
    "  div.prompt.output_prompt { \n",
    "    color: white; \n",
    "  }\n",
    "  \n",
    "  span.highlight_color {\n",
    "    color: red;\n",
    "  }\n",
    "  \n",
    "  span.highlight_bold {\n",
    "    font-weight: bold;  \n",
    "  }\n",
    "    \n",
    "  @media print {\n",
    "    @page {\n",
    "      size: landscape;\n",
    "      margin: 0cm 0cm 0cm 0cm;\n",
    "    }\n",
    "\n",
    "    * {\n",
    "      margin: 0px;\n",
    "      padding: 0px;\n",
    "    }\n",
    "\n",
    "    #toc {\n",
    "      display: none;\n",
    "    }\n",
    "\n",
    "    span.highlight_color, span.highlight_bold {\n",
    "        font-weight: bolder;\n",
    "        text-decoration: underline;\n",
    "    }\n",
    "\n",
    "    div.prompt.output_prompt {\n",
    "      display: none;\n",
    "    }\n",
    "    \n",
    "    h3#Python-packages, div#packages {\n",
    "      display: none;\n",
    "  }\n",
    "</style>"
   ]
  },
  {
   "cell_type": "code",
   "execution_count": null,
   "id": "9be0c99c",
   "metadata": {},
   "outputs": [],
   "source": [
    "experiment_id = environ_config.get('EXPERIMENT_ID')\n",
    "description = environ_config.get('DESCRIPTION')\n",
    "explanation_path = environ_config.get('EXPLANATION')\n",
    "background_size = environ_config.get('BACKGROUND_SIZE')\n",
    "id_path = environ_config.get('IDs')\n",
    "csv_path = environ_config.get('CSV_DIR')\n",
    "fig_path = environ_config.get('FIG_DIR')\n",
    "display_features = int(environ_config.get('DISPLAY_NUM'))\n",
    "\n",
    "# here we load some objects that we need for our plots\n",
    "with open(explanation_path, 'rb') as pickle_in:\n",
    "    explanations = pickle.load(pickle_in, encoding='bytes')\n",
    "with open(id_path, 'rb') as pickle_in:\n",
    "    ids = pickle.load(pickle_in, encoding='bytes')\n",
    "\n",
    "abs_values = DataReader.read_from_file(csv_path+'/abs_shap_values.csv')\n",
    "mean_values = DataReader.read_from_file(csv_path+'/mean_shap_values.csv')\n",
    "max_values = DataReader.read_from_file(csv_path+'/max_shap_values.csv')\n",
    "min_values = DataReader.read_from_file(csv_path+'/min_shap_values.csv')#, index_col=0)\n",
    "\n",
    "\n",
    "\n",
    "# we need to load the explanations and ids:\n",
    "\n",
    "# javascript path\n",
    "javascript_path = environ_config.get(\"JAVASCRIPT_PATH\")"
   ]
  },
  {
   "cell_type": "code",
   "execution_count": null,
   "id": "25a512ea",
   "metadata": {},
   "outputs": [],
   "source": [
    "with open(join(javascript_path, \"sort.js\"), \"r\", encoding=\"utf-8\") as sortf:\n",
    "    display(Javascript(data=sortf.read()))"
   ]
  },
  {
   "cell_type": "code",
   "execution_count": null,
   "id": "85b77220",
   "metadata": {},
   "outputs": [],
   "source": [
    "Markdown('''This report presents the shap explanations for **{}**: {}'''.format(experiment_id, description))"
   ]
  },
  {
   "cell_type": "code",
   "execution_count": null,
   "id": "e9a2ad5b",
   "metadata": {},
   "outputs": [],
   "source": [
    "HTML(time.strftime('%c'))"
   ]
  },
  {
   "cell_type": "code",
   "execution_count": null,
   "id": "ef2b8034",
   "metadata": {},
   "outputs": [],
   "source": [
    "%%html\n",
    "<div id=\"toc\"></div>"
   ]
  },
  {
   "cell_type": "markdown",
   "id": "6f403f94",
   "metadata": {},
   "source": [
    "## Description of the Data Passed"
   ]
  },
  {
   "cell_type": "code",
   "execution_count": null,
   "id": "b22841c1",
   "metadata": {},
   "outputs": [],
   "source": [
    "display(Markdown(\"A total of {} rows of data were passed to the explainer. \\n\".format(len(ids.keys()))))\n",
    "\n"
   ]
  },
  {
   "cell_type": "code",
   "execution_count": null,
   "id": "0230b5fb",
   "metadata": {},
   "outputs": [],
   "source": [
    "if len(ids.values())<100:\n",
    "    display(Markdown(\"The following row-ids were selected for explanation: \\n {}\".format([i for i in ids.values()])))\n",
    "else:\n",
    "     display(Markdown(\"Too many rows (>100) were selected to display a list of all row-ids. Please refer to the \\'ids.pkl\\' file if you need to check which rows were sampled for explanation.\" ))"
   ]
  },
  {
   "cell_type": "markdown",
   "id": "43aeb967",
   "metadata": {},
   "source": [
    "### Background Distribution"
   ]
  },
  {
   "cell_type": "markdown",
   "id": "6171e672",
   "metadata": {},
   "source": [
    "The background distribution is responsible for generating the base value of your shap explanation. The base value should represent the mean model prediction in the data that was passed as background.\n",
    "\n",
    "By default, rsmexplain generates a kmeans-clustered representation of your background sample. The size of which you can specify in the \"background_size\" parameter. Generally a kmeans sample of size 100 or higher is sufficient to generate an accurate base value.\n"
   ]
  },
  {
   "cell_type": "code",
   "execution_count": null,
   "id": "bef8cb85",
   "metadata": {},
   "outputs": [],
   "source": [
    "if background_size:\n",
    "    display(Markdown(\"A background sample of kmeans size {} was passed to the explainer. A smaller background sample will be faster but less accurate.\".format(background_size)))\n",
    "else:\n",
    "    display(Markdown(\"No background size was specified for the background sample. This defaults the background sample to a size of kmeans=500. A smaller background sample will be faster but less accurate.\"))\n"
   ]
  },
  {
   "cell_type": "markdown",
   "metadata": {},
   "source": [
    "## SHAP Values"
   ]
  },
  {
   "cell_type": "markdown",
   "metadata": {},
   "source": [
    "### A brief introduction to shapley values\n",
    "\n",
    "SHAP values are generated through the [SHAP library](https://shap.readthedocs.io/en/latest/index.html) and are approximations of [Shapley Values](https://en.wikipedia.org/wiki/Shapley_value), a concept derived from game-theory. A very abbreviated explanation of how these values are generated: for every model decision passed to the explainer, the explainer considers how the model decision is impacted by removing that feature. For a more in-depth explanation consider this [summary article](https://towardsdatascience.com/understanding-how-ime-shapley-values-explains-predictions-d75c0fceca5a).\n",
    "\n",
    "Rsmexplain by default uses the [Sampling](https://shap.readthedocs.io/en/latest/generated/shap.explainers.Sampling.html#shap.explainers.Sampling) explainer model, which computes shap values through random permutations of the features, a method described [here](https://link.springer.com/article/10.1007/s10115-013-0679-x).\n",
    "\n",
    "The sampling explainer is model agnostic, meaning it should in principle work for any type of model. Rsmexplain currently only supports regressors. \n"
   ]
  },
  {
   "cell_type": "markdown",
   "metadata": {},
   "source": [
    "### How to read shap values\n",
    "\n",
    "Shap values are additive representations of a feature's impact on a model decision. The sum of all shap values and the base value for a prediction should yield the actual model output.\n",
    "\n",
    "A shap value for a feature can be considered that feature's contribution to the decision during that specific prediction. By calculating an absolute mean of all shap values of a feature, we can calculate an average impact for the data that was passed to the explainer. Absolute mean shap values are saved in \"/output/mean_shap_values.csv\".\n",
    "\n"
   ]
  },
  {
   "cell_type": "markdown",
   "metadata": {},
   "source": [
    "### Things to consider\n",
    "\n",
    "Rsmexplain can only generate shap values for the data passed in the \"explainable_data\" and \"range\" parameters. If the dataset passed is small, then the values derived cannot be considered representative of the model as a whole. Plots that display mean values for your shap values should be taken with a grain of salt if your passed data was small, or not representative of the typical data the model deals with.\n",
    "\n",
    "As long as sufficiently large background set was passed, the individual values for predictions can be considered trustworthy.\n",
    "\n",
    "If you wish to investigate your shap values by hand, please refer to files in \"/output/\".\n",
    "\n",
    "If you wish to use the generated shap Explanation object, you may unpickle \"explanation.pkl\". Your initial row ids are stored in \"ids.pkl\" in a dictionary format of \\{array index: actual index\\}."
   ]
  },
  {
   "cell_type": "markdown",
   "metadata": {},
   "source": [
    "### An overview over your shap values"
   ]
  },
  {
   "cell_type": "markdown",
   "metadata": {},
   "source": [
    "This is a quick text overview over your shap values. Please refer to the Plots section for visualizations.\n",
    "\n",
    "All values are rounded to $10^{-3}$ unless specified otherwise."
   ]
  },
  {
   "cell_type": "markdown",
   "metadata": {},
   "source": [
    "#### Absolute Mean Shap Values\n",
    "\n",
    "The top 5 features in terms of absolute mean impact were:"
   ]
  },
  {
   "cell_type": "code",
   "execution_count": null,
   "metadata": {},
   "outputs": [],
   "source": [
    "if abs_values.shape[1] < 6:\n",
    "    table = HTML(abs_values[0:5].to_html(classes=['sortable'], index=False, float_format=float_format_func))\n",
    "else:\n",
    "    display(Markdown(\"Your model has 5 or less features. Displaying all:\"))\n",
    "    table = HTML(abs_values.to_html(classes=['sortable'], index=False, float_format=float_format_func))\n",
    "    "
   ]
  },
  {
   "cell_type": "code",
   "execution_count": null,
   "metadata": {},
   "outputs": [],
   "source": [
    "display(table)\n"
   ]
  },
  {
   "cell_type": "markdown",
   "metadata": {},
   "source": [
    "__The following features have an absolute mean shap value of 0:__"
   ]
  },
  {
   "cell_type": "code",
   "execution_count": null,
   "metadata": {},
   "outputs": [],
   "source": [
    "try:\n",
    "    value0 = mean_values.loc[mean_values['abs. mean shap'].isin([0])]\n",
    "    if value0.shape[0] < 11 and value0.shape[0] > 0:\n",
    "        table = HTML(value0.to_html(classes=['sortable'], index=False, float_format=float_format_func))\n",
    "    elif value0.shape[0] > 10:\n",
    "        display(Markdown(\"You have over 10 features with an absolute mean shap value of 0. Displaying 10 only.\"\n",
    "                         \" Please check your mean_shap_values.csv file for all the features.\"))\n",
    "        table = HTML(value0[0:10].to_html(classes=['sortable'], index=False, float_format=float_format_func))\n",
    "    else:\n",
    "        display(Markdown(\"No features with a mean value of 0 found.\"))\n",
    "        table = None\n",
    "except:\n",
    "    display(Markdown(\"Something went wrong with your feature table.\"))\n",
    "    table = None"
   ]
  },
  {
   "cell_type": "code",
   "execution_count": null,
   "metadata": {},
   "outputs": [],
   "source": [
    "table"
   ]
  },
  {
   "cell_type": "markdown",
   "metadata": {},
   "source": [
    "If features appear in the above list with a mean shap value of 0, then those features did not contribute to the model decisions. If the data set passed was large and representative of the data the model usually encounters, then this may mean that those features are not useful for the model.\n",
    "\n",
    "Before you draw conclusions, make sure that those features were not simply set to 0 in all data instances that were passed to the model. This might accidentally create this effect."
   ]
  },
  {
   "cell_type": "markdown",
   "metadata": {},
   "source": [
    "The following features are the __bottom 10 features that have an absolute mean shap value of >0__, ranked by abs. mean shap value. The table includes the absolute mean shap value of each feature and the absolute max and min values of that feature. \n",
    "__Rounding is disabled for this table in order to avoid values appearing as 0.__"
   ]
  },
  {
   "cell_type": "code",
   "execution_count": null,
   "metadata": {},
   "outputs": [],
   "source": [
    "value_nonzero = abs_values.loc[abs_values['abs. mean shap'] != 0]\n",
    "if abs_values.shape[1] < 11:\n",
    "    table = HTML(value_nonzero[-11:-1].to_html(index=False, classes=['sortable']))\n",
    "else:\n",
    "    display(Markdown(\"Your model has 10 or less features. Displaying all:\"))\n",
    "    table = HTML(value_nonzero.to_html(index=False, classes=['sortable']))\n",
    "    "
   ]
  },
  {
   "cell_type": "code",
   "execution_count": null,
   "metadata": {},
   "outputs": [],
   "source": [
    "table\n"
   ]
  },
  {
   "cell_type": "markdown",
   "metadata": {},
   "source": [
    "# Absolute Max Shap Values\n",
    "\n",
    "Here are the top 10 features in terms of absolute maximal impact:"
   ]
  },
  {
   "cell_type": "code",
   "execution_count": null,
   "metadata": {},
   "outputs": [],
   "source": [
    "if abs_values.shape[1] < 11:\n",
    "    table = HTML(abs_values.sort_values(by=['abs. max shap'], ascending=False)[0:5].to_html(classes=['sortable'], \n",
    "                                                                                float_format=float_format_func,\n",
    "                                                                                index=False))\n",
    "else:\n",
    "    display(Markdown(\"Your model has 10 or less features. Displaying all:\"))\n",
    "    table = HTML(abs_values.sort_values(by=['abs. max shap'], ascending=False).to_html(index=False,\n",
    "        classes=['sortable'], float_format=float_format_func))"
   ]
  },
  {
   "cell_type": "code",
   "execution_count": null,
   "metadata": {},
   "outputs": [],
   "source": [
    "table"
   ]
  },
  {
   "cell_type": "markdown",
   "metadata": {},
   "source": [
    "If the features in the above list do not overlap with the top 5 in terms of absolute mean impact, then these features have high outlier values, but less overall average impact."
   ]
  },
  {
   "cell_type": "code",
   "execution_count": null,
   "id": "d5990f21",
   "metadata": {},
   "outputs": [],
   "source": []
  },
  {
   "cell_type": "markdown",
   "id": "513f2c03",
   "metadata": {},
   "source": [
    "## General SHAP Plots\n",
    "\n",
    "These are general shap plots that cover all the data passed. By default, these plots only display the top 15 features according to their ranking metric. This number can be adjusted in the config file by adding a `\"display_num\"` parameter with an integer value."
   ]
  },
  {
   "cell_type": "code",
   "execution_count": null,
   "id": "a02d8a42",
   "metadata": {},
   "outputs": [],
   "source": [
    "display(Markdown(\"`display_num` set to: {}\".format(display_features)))"
   ]
  },
  {
   "cell_type": "markdown",
   "id": "9ad322e4",
   "metadata": {},
   "source": [
    "### Heatmap Plot\n",
    "\n",
    "This plot offers a condensed high-level overview over the data passed. It presents a plot with data instances on the x-axis, the model decisions on the y-axis, and the SHAP values encoded on a color scale. By default the samples are ordered based on hierarchical clustering by their explanation similarity. This results in samples that have similar model output for similar reasons getting grouped together.\n",
    "\n",
    "Features are ranked by mean absolute impact, meaning the highest feature in this plot has the highest average impact on the model decisions given the data passed.\n"
   ]
  },
  {
   "cell_type": "code",
   "execution_count": null,
   "id": "394b02dd",
   "metadata": {},
   "outputs": [],
   "source": [
    "shap.plots.heatmap(explanations, max_display=display_features, show=False)\n",
    "path = join(fig_path, 'heatmap_cluster')\n",
    "plt.savefig(path,dpi=300, bbox_inches='tight')"
   ]
  },
  {
   "cell_type": "markdown",
   "id": "d970f324",
   "metadata": {},
   "source": [
    "#### Prediction value ordered heatmap plot\n",
    "\n",
    "This heatmap plot has its x-axis sorted in descending order of the model output value. Starting at the highest output value down to the lowest output value.\n",
    "\n",
    "This plot can be useful to spot features that display counter-intuitive behaviors or clustering. We expect the feature colors (which represent the shap value) to be on a gradient if they correlate with the model output. If the colors instead display clusters, then the feature does not necessarily correlate with the output."
   ]
  },
  {
   "cell_type": "code",
   "execution_count": null,
   "id": "a406866f",
   "metadata": {},
   "outputs": [],
   "source": [
    "shap.plots.heatmap(explanations,instance_order=explanations.sum(1), max_display=display_features, show=False)\n",
    "path = join(fig_path, 'heatmap_output_ordered')\n",
    "plt.savefig(path,dpi=300, bbox_inches='tight')"
   ]
  },
  {
   "cell_type": "markdown",
   "id": "d377663e",
   "metadata": {},
   "source": [
    "### Global Bar Plot\n",
    "\n",
    "This plot gives a quick overview over the shap values of the data passed. Features are ranked by mean absolute impact.\n",
    "\n",
    "The number to the right of the bar represents the mean absolute shap value of that feature.\n",
    "\n",
    "The higher the mean shap value of your feature is, the higher the average contribution of that feature to a model decision is.\n"
   ]
  },
  {
   "cell_type": "code",
   "execution_count": 1,
   "id": "f20025cb",
   "metadata": {},
   "outputs": [
    {
     "ename": "NameError",
     "evalue": "name 'shap' is not defined",
     "output_type": "error",
     "traceback": [
      "\u001b[0;31m---------------------------------------------------------------------------\u001b[0m",
      "\u001b[0;31mNameError\u001b[0m                                 Traceback (most recent call last)",
      "Input \u001b[0;32mIn [1]\u001b[0m, in \u001b[0;36m<cell line: 1>\u001b[0;34m()\u001b[0m\n\u001b[0;32m----> 1\u001b[0m \u001b[43mshap\u001b[49m\u001b[38;5;241m.\u001b[39mplots\u001b[38;5;241m.\u001b[39mbar(explanations, max_display\u001b[38;5;241m=\u001b[39m\u001b[38;5;241m15\u001b[39m)\n",
      "\u001b[0;31mNameError\u001b[0m: name 'shap' is not defined"
     ]
    }
   ],
   "source": [
    "shap.plots.bar(explanations, max_display=display_features, show=False)\n",
    "path = join(fig_path, 'global_bar')\n",
    "plt.savefig(path,dpi=300, bbox_inches='tight')"
   ]
  },
  {
   "cell_type": "markdown",
   "id": "6dd7cfab",
   "metadata": {},
   "source": [
    "### Beeswarm Plot\n",
    "\n",
    "The beeswarm plot gives an information-dense overview over your shap-values. Each row of data (i.e. model-decision) is represented by a dot on the given feature row in the plot.  The x-axis position of the dot is determined by the shap-value of that feature in that given decision. The further away from the 0-value a dot is, the higher the impact of that feature was for that decision. This impact can be negative (to the left) or positive (to the right).\n",
    "\n",
    "The feature value (not shap value!) is marked by the color on the plot. Red signifies a high feature value, blue signifies a low feature value. Features are ranked by the mean-absolute impact they have on a model decision. The top feature in this plot will have the highest mean absolute impact. \n"
   ]
  },
  {
   "cell_type": "code",
   "execution_count": null,
   "id": "6007d2a9",
   "metadata": {},
   "outputs": [],
   "source": [
    "shap.plots.beeswarm(explanations, max_display=display_features, show=False)\n",
    "path = join(fig_path, 'beeswarm')\n",
    "plt.savefig(path,dpi=300, bbox_inches='tight')"
   ]
  },
  {
   "cell_type": "markdown",
   "id": "9cdd912d",
   "metadata": {},
   "source": [
    "#### Beeswarm ranked by maximum impact\n",
    "\n",
    "This beeswarm plot is ranked by the absolute max-impact of your features. The highest ranked feature in this plot will have the highes maximum impact on a model decision. This can be relevant if you want to catch features that on average do not have a high impact, but have high maximum impact instead."
   ]
  },
  {
   "cell_type": "code",
   "execution_count": null,
   "id": "38012a3b",
   "metadata": {},
   "outputs": [],
   "source": [
    "shap.plots.beeswarm(explanations, order=explanations.abs.max(0), max_display=display_features, show=False)\n",
    "path = join(fig_path, 'beeswarm_max_impact')\n",
    "plt.savefig(path,dpi=300, bbox_inches='tight')"
   ]
  },
  {
   "cell_type": "markdown",
   "id": "14ebe795",
   "metadata": {},
   "source": [
    "#### Absolute mean beeswarm\n",
    "\n",
    "This plot is equivalent to the first beeswarm plot, but has the values transformed for absolute impact. This is useful if you want to see how much impact a feature has on average while also displaying where those impact values are clustered. This is a information richer version of the simple bar-plot in the Bar Plot section.\n",
    "\n",
    "**Disclaimer**: The beeswarm plot is known to have some ordering issues due to a rounding effect. If the feature order here differs from the order in the bar plot, then assume the bar plot to display the correct feature order."
   ]
  },
  {
   "cell_type": "code",
   "execution_count": null,
   "id": "079ff0be",
   "metadata": {},
   "outputs": [],
   "source": [
    "shap.plots.beeswarm(explanations.abs, order=explanations.abs.mean(0), max_display=display_features, show=False)\n",
    "path = join(fig_path, 'beeswarm_abs_impact')\n",
    "plt.savefig(path,dpi=300, bbox_inches='tight')"
   ]
  },
  {
   "cell_type": "markdown",
   "id": "5a4205dc",
   "metadata": {},
   "source": [
    "## Auto cohort bar plots\n",
    "\n",
    "This plot represents a bar plot split into 2 cohorts that optimally separate the SHAP values of the data instances using a sklearn DecisionTreeRegressor. \n",
    "\n",
    "The features are plotted as absolute mean impact.\n",
    "\n",
    "The plot shows the two cohorts in differently shaded bars, the legend informs us about the metric along which the cohorts are chosen.\n",
    "\n",
    "This plot can be useful to detect interaction effects between cohorts and features. If a cohort shows a high feature value, then there may be an interaction between that cohort and the feature."
   ]
  },
  {
   "cell_type": "code",
   "execution_count": null,
   "id": "4d4828cd",
   "metadata": {},
   "outputs": [],
   "source": [
    "\n",
    "# The cohort plot seems to break if the feature names in the explanation object are not defined as a list\n",
    "if isinstance(explanations.feature_names, list):\n",
    "    shap.plots.bar(explanations.cohorts(2).abs.mean(0), show=False)\n",
    "    path = join(fig_path, 'auto_cohort_3')\n",
    "    plt.savefig(path,dpi=300, bbox_inches='tight')\n",
    "else:\n",
    "    try:\n",
    "        explanations.feature_names = list(explanations.feature_names)\n",
    "        shap.plots.bar(explanations.cohorts(2).abs.mean(0), show=False)\n",
    "        path = join(fig_path, 'auto_cohort_3')\n",
    "        plt.savefig(path,dpi=300, bbox_inches='tight')\n",
    "    except:\n",
    "        display(\"There was an error generating your cohort plot. Likely cause: feature_names not in correct format.\")\n",
    "#display(explanations.shape)\n"
   ]
  },
  {
   "cell_type": "markdown",
   "id": "f7473fd7",
   "metadata": {},
   "source": [
    "### Auto cohort plot with 3 cohorts"
   ]
  },
  {
   "cell_type": "code",
   "execution_count": null,
   "id": "69522346",
   "metadata": {},
   "outputs": [],
   "source": [
    "shap.plots.bar(explanations.cohorts(3).abs.mean(0), show=False)\n",
    "path = join(fig_path, 'auto_cohort_3')\n",
    "plt.savefig(path,dpi=300, bbox_inches='tight')"
   ]
  },
  {
   "cell_type": "markdown",
   "id": "6698e446",
   "metadata": {},
   "source": [
    "### Auto cohort plot with 4 cohorts"
   ]
  },
  {
   "cell_type": "code",
   "execution_count": null,
   "id": "aa1c6f61",
   "metadata": {},
   "outputs": [],
   "source": [
    "shap.plots.bar(explanations.cohorts(4).abs.mean(0), show=False)\n",
    "path = join(fig_path, 'auto_cohort_3')\n",
    "plt.savefig(path,dpi=300, bbox_inches='tight')"
   ]
  },
  {
   "cell_type": "code",
   "execution_count": null,
   "id": "b3fc40e5",
   "metadata": {},
   "outputs": [],
   "source": [
    "%%javascript\n",
    "\n",
    "// Code to dynamically generate table of contents at the top of the HTML file\n",
    "var tocEntries = ['<ul>'];\n",
    "var anchors = $('a.anchor-link');\n",
    "var headingTypes = $(anchors).parent().map(function() { return $(this).prop('tagName')});\n",
    "var headingTexts = $(anchors).parent().map(function() { return $(this).text()});\n",
    "var subList = false;\n",
    "\n",
    "$.each(anchors, function(i, anch) {\n",
    "    var hType = headingTypes[i];\n",
    "    var hText = headingTexts[i];\n",
    "    hText = hText.substr(0, hText.length - 1);\n",
    "    if (hType == 'H2') {\n",
    "        if (subList) {\n",
    "            tocEntries.push('</ul>')\n",
    "            subList = false;\n",
    "        }\n",
    "        tocEntries.push('<li><a href=\"' + anch + '\"</a>' + hText + '</li>')\n",
    "    }\n",
    "    else if (hType == 'H3') {\n",
    "        if (!subList) {\n",
    "            subList = true;\n",
    "            tocEntries.push('<ul>')\n",
    "        }\n",
    "        tocEntries.push('<li><a href=\"' + anch + '\"</a>' + hText + '</li>')\n",
    "    }\n",
    "});\n",
    "tocEntries.push('</ul>')\n",
    "$('#toc').html(tocEntries.join(' '))"
   ]
  }
 ],
 "metadata": {
  "kernelspec": {
   "display_name": "Python 3 (ipykernel)",
   "language": "python",
   "name": "python3"
  },
  "language_info": {
   "codemirror_mode": {
    "name": "ipython",
    "version": 3
   },
   "file_extension": ".py",
   "mimetype": "text/x-python",
   "name": "python",
   "nbconvert_exporter": "python",
   "pygments_lexer": "ipython3",
   "version": "3.8.13"
  }
 },
 "nbformat": 4,
 "nbformat_minor": 5
}
